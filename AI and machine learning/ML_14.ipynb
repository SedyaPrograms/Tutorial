{
  "nbformat": 4,
  "nbformat_minor": 0,
  "metadata": {
    "colab": {
      "provenance": [],
      "include_colab_link": true
    },
    "kernelspec": {
      "name": "python3",
      "display_name": "Python 3"
    },
    "language_info": {
      "name": "python"
    },
    "accelerator": "GPU",
    "gpuClass": "standard"
  },
  "cells": [
    {
      "cell_type": "markdown",
      "metadata": {
        "id": "view-in-github",
        "colab_type": "text"
      },
      "source": [
        "<a href=\"https://colab.research.google.com/github/SedyaPrograms/Tutorial/blob/main/AI%20and%20machine%20learning/ML_14.ipynb\" target=\"_parent\"><img src=\"https://colab.research.google.com/assets/colab-badge.svg\" alt=\"Open In Colab\"/></a>"
      ]
    },
    {
      "cell_type": "code",
      "execution_count": null,
      "metadata": {
        "id": "vb0xpn13PETc"
      },
      "outputs": [],
      "source": [
        "import torch\n",
        "import numpy as np"
      ]
    },
    {
      "cell_type": "code",
      "source": [
        "data = [[1, 2],[3, 4]]\n",
        "x_data = torch.tensor(data)"
      ],
      "metadata": {
        "id": "hxzE0lUNgzOK"
      },
      "execution_count": null,
      "outputs": []
    },
    {
      "cell_type": "code",
      "source": [
        "x_data_np = np.array(data)"
      ],
      "metadata": {
        "id": "45Bcn9mMg3DZ"
      },
      "execution_count": null,
      "outputs": []
    },
    {
      "cell_type": "code",
      "source": [
        "x_data_np, x_data"
      ],
      "metadata": {
        "colab": {
          "base_uri": "https://localhost:8080/"
        },
        "id": "-1Zd_YTzg5HS",
        "outputId": "bfb0abf0-fab6-49a6-ce30-a724bf758b51"
      },
      "execution_count": null,
      "outputs": [
        {
          "output_type": "execute_result",
          "data": {
            "text/plain": [
              "(array([[1, 2],\n",
              "        [3, 4]]), tensor([[1, 2],\n",
              "         [3, 4]]))"
            ]
          },
          "metadata": {},
          "execution_count": 5
        }
      ]
    },
    {
      "cell_type": "code",
      "source": [
        "type(torch.ones((2, 5)).sum().item())"
      ],
      "metadata": {
        "colab": {
          "base_uri": "https://localhost:8080/"
        },
        "id": "n6YQJ3e9hHtS",
        "outputId": "4b742d7d-eb2d-4730-fa47-0ea9b14a0b9c"
      },
      "execution_count": null,
      "outputs": [
        {
          "output_type": "execute_result",
          "data": {
            "text/plain": [
              "float"
            ]
          },
          "metadata": {},
          "execution_count": 15
        }
      ]
    },
    {
      "cell_type": "code",
      "source": [
        "torch.cuda.get_device_name()"
      ],
      "metadata": {
        "colab": {
          "base_uri": "https://localhost:8080/",
          "height": 36
        },
        "id": "D7eMwIEskxzG",
        "outputId": "465dbea4-c33f-435a-e092-e4852d7aa85d"
      },
      "execution_count": null,
      "outputs": [
        {
          "output_type": "execute_result",
          "data": {
            "text/plain": [
              "'Tesla T4'"
            ],
            "application/vnd.google.colaboratory.intrinsic+json": {
              "type": "string"
            }
          },
          "metadata": {},
          "execution_count": 8
        }
      ]
    },
    {
      "cell_type": "code",
      "source": [
        "device = 'cuda:0'\n",
        "torch.ones((2, 5)).to(device)"
      ],
      "metadata": {
        "colab": {
          "base_uri": "https://localhost:8080/"
        },
        "id": "-AXegfMtlSLl",
        "outputId": "dc432d47-2a2b-4424-bb92-86aa998141c0"
      },
      "execution_count": null,
      "outputs": [
        {
          "output_type": "execute_result",
          "data": {
            "text/plain": [
              "tensor([[1., 1., 1., 1., 1.],\n",
              "        [1., 1., 1., 1., 1.]], device='cuda:0')"
            ]
          },
          "metadata": {},
          "execution_count": 12
        }
      ]
    },
    {
      "cell_type": "markdown",
      "source": [
        "Build model\n"
      ],
      "metadata": {
        "id": "tKQJJaF0mf-5"
      }
    },
    {
      "cell_type": "code",
      "source": [
        "import torch\n",
        "from torch import nn\n",
        "\n",
        "class NeuralNetwork(nn.Module):\n",
        "    def __init__(self, n_features, n_middle):\n",
        "        super().__init__()\n",
        "        self.flatten = nn.Flatten()\n",
        "        self.linear = nn.Linear(n_features, n_middle)\n",
        "        self.relu = nn.ReLU()\n",
        "\n",
        "    def forward(self, x):\n",
        "        x = self.flatten(x)\n",
        "        x = self.linear(x)\n",
        "        result = self.relu(x)\n",
        "        return result"
      ],
      "metadata": {
        "id": "nQPqkwp2mdNr"
      },
      "execution_count": null,
      "outputs": []
    },
    {
      "cell_type": "code",
      "source": [
        "model = NeuralNetwork(28 * 28, 64).to(device)\n",
        "print(model)"
      ],
      "metadata": {
        "colab": {
          "base_uri": "https://localhost:8080/"
        },
        "id": "kYCrdPR4ogR_",
        "outputId": "3c912542-467f-48bb-e09c-7f915a4e2acd"
      },
      "execution_count": null,
      "outputs": [
        {
          "output_type": "stream",
          "name": "stdout",
          "text": [
            "NeuralNetwork(\n",
            "  (flatten): Flatten(start_dim=1, end_dim=-1)\n",
            "  (linear): Linear(in_features=784, out_features=64, bias=True)\n",
            "  (relu): ReLU()\n",
            ")\n"
          ]
        }
      ]
    },
    {
      "cell_type": "code",
      "source": [
        "X = torch.rand(1, 28, 28, device=device)\n",
        "result = model(X)"
      ],
      "metadata": {
        "id": "bBYbBXFyovPA"
      },
      "execution_count": null,
      "outputs": []
    },
    {
      "cell_type": "code",
      "source": [
        "result"
      ],
      "metadata": {
        "colab": {
          "base_uri": "https://localhost:8080/"
        },
        "id": "GoSjBDfbpqZ6",
        "outputId": "d6db59bb-8e4f-4d1e-dbac-f55547e8df57"
      },
      "execution_count": null,
      "outputs": [
        {
          "output_type": "execute_result",
          "data": {
            "text/plain": [
              "tensor([[0.0000, 0.0000, 0.6775, 0.0543, 0.2320, 0.0000, 0.0000, 0.3692, 0.2418,\n",
              "         0.2558, 0.2701, 0.0000, 0.0000, 0.1723, 0.0624, 0.9851, 0.0000, 0.0000,\n",
              "         0.1889, 0.0000, 0.0000, 0.0000, 0.3652, 0.1141, 0.0000, 0.3003, 0.0000,\n",
              "         0.5755, 0.3540, 0.4949, 0.0000, 0.5235, 0.2194, 0.3266, 0.0000, 0.0000,\n",
              "         0.0429, 0.0000, 0.1373, 0.2028, 0.0000, 0.0959, 0.0328, 0.1669, 0.5447,\n",
              "         0.2478, 0.0000, 0.0000, 0.0000, 0.5060, 0.3852, 0.0000, 0.7894, 0.0248,\n",
              "         0.1341, 0.3328, 0.0000, 0.0931, 0.3147, 0.0048, 0.0000, 0.2793, 0.0000,\n",
              "         0.2136]], device='cuda:0', grad_fn=<ReluBackward0>)"
            ]
          },
          "metadata": {},
          "execution_count": 25
        }
      ]
    },
    {
      "cell_type": "code",
      "source": [
        "seq_modules = nn.Sequential(\n",
        "    nn.Flatten(),\n",
        "    nn.Linear(28 * 28, 64),\n",
        "    nn.ReLU(),\n",
        ")"
      ],
      "metadata": {
        "id": "9nawl5lrqPaN"
      },
      "execution_count": null,
      "outputs": []
    },
    {
      "cell_type": "code",
      "source": [
        "X = torch.rand(1, 28, 28, device='cpu')\n",
        "result = seq_modules(X)"
      ],
      "metadata": {
        "id": "B3eumH2OqUdm"
      },
      "execution_count": null,
      "outputs": []
    },
    {
      "cell_type": "code",
      "source": [
        "for name, param in seq_modules.named_parameters():\n",
        "    print(f\"Layer: {name} | Size: {param.size()} | Values : {param[:2]} \\n\")"
      ],
      "metadata": {
        "colab": {
          "base_uri": "https://localhost:8080/"
        },
        "id": "TSGw-OmcqiFb",
        "outputId": "49473fe3-49ab-4901-b0a8-b1cb30cb6780"
      },
      "execution_count": null,
      "outputs": [
        {
          "output_type": "stream",
          "name": "stdout",
          "text": [
            "Layer: 1.weight | Size: torch.Size([64, 784]) | Values : tensor([[-0.0318, -0.0215,  0.0044,  ...,  0.0138, -0.0219,  0.0225],\n",
            "        [ 0.0027,  0.0314, -0.0222,  ..., -0.0075, -0.0305,  0.0177]],\n",
            "       grad_fn=<SliceBackward0>) \n",
            "\n",
            "Layer: 1.bias | Size: torch.Size([64]) | Values : tensor([0.0079, 0.0117], grad_fn=<SliceBackward0>) \n",
            "\n"
          ]
        }
      ]
    },
    {
      "cell_type": "code",
      "source": [
        "result.shape"
      ],
      "metadata": {
        "id": "VOncnW4otOgt",
        "outputId": "3f24feb0-f395-4eee-da70-1830615fe478",
        "colab": {
          "base_uri": "https://localhost:8080/"
        }
      },
      "execution_count": null,
      "outputs": [
        {
          "output_type": "execute_result",
          "data": {
            "text/plain": [
              "torch.Size([1, 64])"
            ]
          },
          "metadata": {},
          "execution_count": 32
        }
      ]
    }
  ]
}