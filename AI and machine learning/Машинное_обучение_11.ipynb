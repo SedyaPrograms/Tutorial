{
  "nbformat": 4,
  "nbformat_minor": 0,
  "metadata": {
    "colab": {
      "provenance": [],
      "include_colab_link": true
    },
    "kernelspec": {
      "name": "python3",
      "display_name": "Python 3"
    },
    "language_info": {
      "name": "python"
    }
  },
  "cells": [
    {
      "cell_type": "markdown",
      "metadata": {
        "id": "view-in-github",
        "colab_type": "text"
      },
      "source": [
        "<a href=\"https://colab.research.google.com/github/SedyaPrograms/Tutorial/blob/main/AI%20and%20machine%20learning/%D0%9C%D0%B0%D1%88%D0%B8%D0%BD%D0%BD%D0%BE%D0%B5_%D0%BE%D0%B1%D1%83%D1%87%D0%B5%D0%BD%D0%B8%D0%B5_11.ipynb\" target=\"_parent\"><img src=\"https://colab.research.google.com/assets/colab-badge.svg\" alt=\"Open In Colab\"/></a>"
      ]
    },
    {
      "cell_type": "markdown",
      "source": [
        "1. Кросс валидация\n"
      ],
      "metadata": {
        "id": "NB_irEnFwVKC"
      }
    },
    {
      "cell_type": "code",
      "source": [
        "from sklearn.datasets import load_iris"
      ],
      "metadata": {
        "id": "arB3AynyxjKw"
      },
      "execution_count": null,
      "outputs": []
    },
    {
      "cell_type": "code",
      "source": [
        "X, y = load_iris(return_X_y=True)"
      ],
      "metadata": {
        "id": "HOi-fczqxlM2"
      },
      "execution_count": null,
      "outputs": []
    },
    {
      "cell_type": "code",
      "source": [
        "from sklearn.model_selection import cross_val_score\n",
        "from sklearn.svm import SVC\n",
        "clf = SVC(kernel='linear', C=1, random_state=42)\n",
        "clf.fit(X, y)"
      ],
      "metadata": {
        "colab": {
          "base_uri": "https://localhost:8080/"
        },
        "id": "QYYUZrZry5-E",
        "outputId": "9890139a-d5ad-42e0-c0d7-2a14831ea2cd"
      },
      "execution_count": null,
      "outputs": [
        {
          "output_type": "execute_result",
          "data": {
            "text/plain": [
              "SVC(C=1, kernel='linear', random_state=42)"
            ]
          },
          "metadata": {},
          "execution_count": 43
        }
      ]
    },
    {
      "cell_type": "markdown",
      "source": [
        "2. Стратификация\n"
      ],
      "metadata": {
        "id": "dwYRRfNq1jkA"
      }
    },
    {
      "cell_type": "code",
      "source": [
        "from sklearn.model_selection import train_test_split\n",
        "X_train, X_test, y_train, y_test = train_test_split(X, y, test_size=0.2, random_state=42)\n",
        "\n",
        "for i in range(3):\n",
        "    print((y_test == i).sum() / len(y_test))"
      ],
      "metadata": {
        "colab": {
          "base_uri": "https://localhost:8080/"
        },
        "id": "Gj3oGLq021WI",
        "outputId": "1cdc3ccf-aaaf-4b74-80a0-f44d78fd9c27"
      },
      "execution_count": null,
      "outputs": [
        {
          "output_type": "stream",
          "name": "stdout",
          "text": [
            "0.3333333333333333\n",
            "0.3\n",
            "0.36666666666666664\n"
          ]
        }
      ]
    },
    {
      "cell_type": "code",
      "source": [
        "X_train, X_test, y_train, y_test = train_test_split(X, y, test_size=0.33, random_state=42, stratify=y)\n",
        "\n",
        "for i in range(3):\n",
        "    print((y_test == i).sum() / len(y_test))"
      ],
      "metadata": {
        "colab": {
          "base_uri": "https://localhost:8080/"
        },
        "id": "Ht5dC5SW3W2c",
        "outputId": "268f9227-a04e-4fcd-9bbc-d36dd1c16bf6"
      },
      "execution_count": null,
      "outputs": [
        {
          "output_type": "stream",
          "name": "stdout",
          "text": [
            "0.32\n",
            "0.34\n",
            "0.34\n"
          ]
        }
      ]
    },
    {
      "cell_type": "code",
      "source": [
        "from sklearn.model_selection import StratifiedKFold\n",
        "sss = StratifiedKFold(n_splits=10)\n",
        "\n",
        "for train_index, test_index in sss.split(X, y):\n",
        "    print(len(train_index), len(test_index))"
      ],
      "metadata": {
        "colab": {
          "base_uri": "https://localhost:8080/"
        },
        "id": "2xaTMbA44ZCx",
        "outputId": "d40cea4a-d237-49e9-8620-c92146dbe25f"
      },
      "execution_count": null,
      "outputs": [
        {
          "output_type": "stream",
          "name": "stdout",
          "text": [
            "135 15\n",
            "135 15\n",
            "135 15\n",
            "135 15\n",
            "135 15\n",
            "135 15\n",
            "135 15\n",
            "135 15\n",
            "135 15\n",
            "135 15\n"
          ]
        }
      ]
    },
    {
      "cell_type": "markdown",
      "source": [
        "3. Многоклассовая классификация\n",
        "    - One vs All\n",
        "    - One vs One\n",
        "    - Метрики"
      ],
      "metadata": {
        "id": "Ni-8G-855kdA"
      }
    },
    {
      "cell_type": "code",
      "source": [
        "from sklearn.metrics import confusion_matrix\n",
        "\n",
        "y_pred = clf.predict(X)\n",
        "\n",
        "confusion_matrix(y, y_pred)"
      ],
      "metadata": {
        "colab": {
          "base_uri": "https://localhost:8080/"
        },
        "id": "uE-El7T1_8Mn",
        "outputId": "5f3404f7-ba42-4989-852f-c3c8eb2b3cf2"
      },
      "execution_count": null,
      "outputs": [
        {
          "output_type": "execute_result",
          "data": {
            "text/plain": [
              "array([[50,  0,  0],\n",
              "       [ 0, 49,  1],\n",
              "       [ 0,  0, 50]])"
            ]
          },
          "metadata": {},
          "execution_count": 44
        }
      ]
    },
    {
      "cell_type": "markdown",
      "source": [
        "4. Подбор гиперпараметров"
      ],
      "metadata": {
        "id": "t6YQjgllHzKU"
      }
    },
    {
      "cell_type": "code",
      "source": [
        "from sklearn.model_selection import train_test_split\n",
        "from sklearn.datasets import load_iris\n",
        "\n",
        "X, y = load_iris(return_X_y=True)\n",
        "X_train, X_test, y_train, y_test = train_test_split(X, y, test_size=0.2, random_state=42, stratify=y)"
      ],
      "metadata": {
        "id": "WBErUmJPH0LM"
      },
      "execution_count": null,
      "outputs": []
    },
    {
      "cell_type": "code",
      "source": [
        "from sklearn.linear_model import LinearRegression\n",
        "from sklearn.neighbors import KNeighborsClassifier\n",
        "from sklearn.model_selection import GridSearchCV\n",
        "from sklearn.metrics import precision_score, recall_score, f1_score\n",
        "\n",
        "\n",
        "parameters = {\n",
        "    'n_neighbors': [1, 2, 3, 4, 5, 6, 7, 8],\n",
        "    'p': [1, 2],\n",
        "    'algorithm': ['ball_tree', 'kd_tree', 'brute']\n",
        "}\n",
        "\n",
        "knn = KNeighborsClassifier()\n",
        "\n",
        "clf = GridSearchCV(knn, parameters)\n",
        "\n",
        "clf.fit(X_train, y_train)"
      ],
      "metadata": {
        "colab": {
          "base_uri": "https://localhost:8080/"
        },
        "id": "qjb5Cw4bKIcI",
        "outputId": "1433c1e1-8fff-46f9-e686-1ae03fa3c505"
      },
      "execution_count": null,
      "outputs": [
        {
          "output_type": "execute_result",
          "data": {
            "text/plain": [
              "GridSearchCV(estimator=KNeighborsClassifier(),\n",
              "             param_grid={'algorithm': ['ball_tree', 'kd_tree', 'brute'],\n",
              "                         'n_neighbors': [1, 2, 3, 4, 5, 6, 7, 8], 'p': [1, 2]})"
            ]
          },
          "metadata": {},
          "execution_count": 65
        }
      ]
    },
    {
      "cell_type": "code",
      "source": [
        "clf.cv_results_"
      ],
      "metadata": {
        "colab": {
          "base_uri": "https://localhost:8080/"
        },
        "id": "E2vZPijhLiL7",
        "outputId": "d2cd3f21-6969-48c0-e022-f3863e31b720"
      },
      "execution_count": null,
      "outputs": [
        {
          "output_type": "execute_result",
          "data": {
            "text/plain": [
              "{'mean_fit_time': array([0.00070558, 0.00051117, 0.00049767, 0.0005199 , 0.00048542,\n",
              "        0.00050278, 0.00050597, 0.0005064 , 0.00052571, 0.00049105,\n",
              "        0.00049429, 0.00048351, 0.00049968, 0.00048814, 0.00051894,\n",
              "        0.00056396, 0.0005167 , 0.00049515, 0.00049014, 0.00059557,\n",
              "        0.00072989, 0.00073056, 0.00082259, 0.00082932, 0.00082235,\n",
              "        0.00084929, 0.00076342, 0.00077538, 0.00074186, 0.00078902,\n",
              "        0.00104346, 0.00077314, 0.00062671, 0.00062909, 0.00068593,\n",
              "        0.00062408, 0.00063047, 0.00062652, 0.00057659, 0.00063238,\n",
              "        0.00060983, 0.00063348, 0.00064344, 0.00062265, 0.00059333,\n",
              "        0.00074792, 0.00062828, 0.00060086]),\n",
              " 'std_fit_time': array([2.52200142e-04, 1.61963270e-05, 3.51244867e-06, 2.84270942e-05,\n",
              "        1.29248381e-05, 7.21806096e-06, 2.32843056e-05, 3.63476924e-05,\n",
              "        5.34676721e-05, 1.92358734e-05, 1.46276356e-05, 1.28445451e-05,\n",
              "        5.54116785e-06, 1.23606640e-05, 2.15605284e-05, 1.15315118e-04,\n",
              "        1.55418194e-05, 1.05005995e-05, 1.68856918e-06, 1.15577793e-04,\n",
              "        1.02866784e-04, 9.93197431e-05, 1.92759025e-05, 1.60628314e-05,\n",
              "        3.75829363e-05, 7.24750756e-05, 5.65302467e-05, 2.45153665e-05,\n",
              "        6.95696426e-05, 5.00435089e-05, 3.52363870e-04, 2.45589191e-05,\n",
              "        7.76176069e-06, 1.65309203e-05, 7.42098653e-05, 9.54698966e-06,\n",
              "        1.41762653e-05, 1.06093857e-05, 4.73983331e-05, 1.10040958e-05,\n",
              "        4.37652355e-06, 2.28145528e-05, 9.50737245e-06, 1.00889097e-05,\n",
              "        3.98795539e-05, 3.84966234e-04, 1.16950571e-05, 2.95682873e-05]),\n",
              " 'mean_score_time': array([0.00156083, 0.00132194, 0.00119901, 0.00123806, 0.00125065,\n",
              "        0.00123978, 0.00127807, 0.00125251, 0.00121837, 0.00123482,\n",
              "        0.00131226, 0.00132728, 0.00121832, 0.00122199, 0.00134373,\n",
              "        0.00125375, 0.00123868, 0.00118775, 0.00129848, 0.00158877,\n",
              "        0.00181766, 0.00221586, 0.00216012, 0.00208235, 0.00207582,\n",
              "        0.00235744, 0.00199494, 0.00201817, 0.00193601, 0.00205436,\n",
              "        0.00234485, 0.00206418, 0.00195131, 0.00290837, 0.00185876,\n",
              "        0.00193472, 0.00188117, 0.00194278, 0.00176673, 0.00193019,\n",
              "        0.00185776, 0.00199008, 0.00186958, 0.00197005, 0.00179691,\n",
              "        0.00176806, 0.00189166, 0.00188799]),\n",
              " 'std_score_time': array([5.57006272e-04, 1.54990679e-04, 1.17596203e-05, 2.88399376e-05,\n",
              "        5.24217344e-06, 2.02428466e-05, 6.30395315e-05, 1.99746397e-05,\n",
              "        7.97388077e-06, 1.35696830e-05, 1.05313564e-04, 1.64949132e-04,\n",
              "        5.99943771e-06, 1.18045852e-05, 1.23020568e-04, 2.66630864e-05,\n",
              "        7.60325185e-05, 8.24859374e-06, 7.48915832e-05, 3.13934984e-04,\n",
              "        2.74623862e-04, 6.39327055e-04, 8.87013758e-05, 2.79879447e-05,\n",
              "        2.66140072e-05, 3.30463371e-04, 1.17643816e-04, 1.03523467e-04,\n",
              "        1.45855079e-04, 6.42645947e-05, 5.47927456e-04, 1.21981935e-04,\n",
              "        2.70880341e-04, 2.11671315e-03, 2.17598722e-05, 5.33572897e-05,\n",
              "        1.88271590e-05, 6.74042003e-05, 1.46963223e-04, 4.87175916e-05,\n",
              "        1.63972367e-05, 1.01595749e-04, 5.84825952e-05, 7.79321738e-05,\n",
              "        1.36793553e-04, 1.56831038e-04, 2.11392190e-05, 4.88636886e-05]),\n",
              " 'param_algorithm': masked_array(data=['ball_tree', 'ball_tree', 'ball_tree', 'ball_tree',\n",
              "                    'ball_tree', 'ball_tree', 'ball_tree', 'ball_tree',\n",
              "                    'ball_tree', 'ball_tree', 'ball_tree', 'ball_tree',\n",
              "                    'ball_tree', 'ball_tree', 'ball_tree', 'ball_tree',\n",
              "                    'kd_tree', 'kd_tree', 'kd_tree', 'kd_tree', 'kd_tree',\n",
              "                    'kd_tree', 'kd_tree', 'kd_tree', 'kd_tree', 'kd_tree',\n",
              "                    'kd_tree', 'kd_tree', 'kd_tree', 'kd_tree', 'kd_tree',\n",
              "                    'kd_tree', 'brute', 'brute', 'brute', 'brute', 'brute',\n",
              "                    'brute', 'brute', 'brute', 'brute', 'brute', 'brute',\n",
              "                    'brute', 'brute', 'brute', 'brute', 'brute'],\n",
              "              mask=[False, False, False, False, False, False, False, False,\n",
              "                    False, False, False, False, False, False, False, False,\n",
              "                    False, False, False, False, False, False, False, False,\n",
              "                    False, False, False, False, False, False, False, False,\n",
              "                    False, False, False, False, False, False, False, False,\n",
              "                    False, False, False, False, False, False, False, False],\n",
              "        fill_value='?',\n",
              "             dtype=object),\n",
              " 'param_n_neighbors': masked_array(data=[1, 1, 2, 2, 3, 3, 4, 4, 5, 5, 6, 6, 7, 7, 8, 8, 1, 1,\n",
              "                    2, 2, 3, 3, 4, 4, 5, 5, 6, 6, 7, 7, 8, 8, 1, 1, 2, 2,\n",
              "                    3, 3, 4, 4, 5, 5, 6, 6, 7, 7, 8, 8],\n",
              "              mask=[False, False, False, False, False, False, False, False,\n",
              "                    False, False, False, False, False, False, False, False,\n",
              "                    False, False, False, False, False, False, False, False,\n",
              "                    False, False, False, False, False, False, False, False,\n",
              "                    False, False, False, False, False, False, False, False,\n",
              "                    False, False, False, False, False, False, False, False],\n",
              "        fill_value='?',\n",
              "             dtype=object),\n",
              " 'param_p': masked_array(data=[1, 2, 1, 2, 1, 2, 1, 2, 1, 2, 1, 2, 1, 2, 1, 2, 1, 2,\n",
              "                    1, 2, 1, 2, 1, 2, 1, 2, 1, 2, 1, 2, 1, 2, 1, 2, 1, 2,\n",
              "                    1, 2, 1, 2, 1, 2, 1, 2, 1, 2, 1, 2],\n",
              "              mask=[False, False, False, False, False, False, False, False,\n",
              "                    False, False, False, False, False, False, False, False,\n",
              "                    False, False, False, False, False, False, False, False,\n",
              "                    False, False, False, False, False, False, False, False,\n",
              "                    False, False, False, False, False, False, False, False,\n",
              "                    False, False, False, False, False, False, False, False],\n",
              "        fill_value='?',\n",
              "             dtype=object),\n",
              " 'params': [{'algorithm': 'ball_tree', 'n_neighbors': 1, 'p': 1},\n",
              "  {'algorithm': 'ball_tree', 'n_neighbors': 1, 'p': 2},\n",
              "  {'algorithm': 'ball_tree', 'n_neighbors': 2, 'p': 1},\n",
              "  {'algorithm': 'ball_tree', 'n_neighbors': 2, 'p': 2},\n",
              "  {'algorithm': 'ball_tree', 'n_neighbors': 3, 'p': 1},\n",
              "  {'algorithm': 'ball_tree', 'n_neighbors': 3, 'p': 2},\n",
              "  {'algorithm': 'ball_tree', 'n_neighbors': 4, 'p': 1},\n",
              "  {'algorithm': 'ball_tree', 'n_neighbors': 4, 'p': 2},\n",
              "  {'algorithm': 'ball_tree', 'n_neighbors': 5, 'p': 1},\n",
              "  {'algorithm': 'ball_tree', 'n_neighbors': 5, 'p': 2},\n",
              "  {'algorithm': 'ball_tree', 'n_neighbors': 6, 'p': 1},\n",
              "  {'algorithm': 'ball_tree', 'n_neighbors': 6, 'p': 2},\n",
              "  {'algorithm': 'ball_tree', 'n_neighbors': 7, 'p': 1},\n",
              "  {'algorithm': 'ball_tree', 'n_neighbors': 7, 'p': 2},\n",
              "  {'algorithm': 'ball_tree', 'n_neighbors': 8, 'p': 1},\n",
              "  {'algorithm': 'ball_tree', 'n_neighbors': 8, 'p': 2},\n",
              "  {'algorithm': 'kd_tree', 'n_neighbors': 1, 'p': 1},\n",
              "  {'algorithm': 'kd_tree', 'n_neighbors': 1, 'p': 2},\n",
              "  {'algorithm': 'kd_tree', 'n_neighbors': 2, 'p': 1},\n",
              "  {'algorithm': 'kd_tree', 'n_neighbors': 2, 'p': 2},\n",
              "  {'algorithm': 'kd_tree', 'n_neighbors': 3, 'p': 1},\n",
              "  {'algorithm': 'kd_tree', 'n_neighbors': 3, 'p': 2},\n",
              "  {'algorithm': 'kd_tree', 'n_neighbors': 4, 'p': 1},\n",
              "  {'algorithm': 'kd_tree', 'n_neighbors': 4, 'p': 2},\n",
              "  {'algorithm': 'kd_tree', 'n_neighbors': 5, 'p': 1},\n",
              "  {'algorithm': 'kd_tree', 'n_neighbors': 5, 'p': 2},\n",
              "  {'algorithm': 'kd_tree', 'n_neighbors': 6, 'p': 1},\n",
              "  {'algorithm': 'kd_tree', 'n_neighbors': 6, 'p': 2},\n",
              "  {'algorithm': 'kd_tree', 'n_neighbors': 7, 'p': 1},\n",
              "  {'algorithm': 'kd_tree', 'n_neighbors': 7, 'p': 2},\n",
              "  {'algorithm': 'kd_tree', 'n_neighbors': 8, 'p': 1},\n",
              "  {'algorithm': 'kd_tree', 'n_neighbors': 8, 'p': 2},\n",
              "  {'algorithm': 'brute', 'n_neighbors': 1, 'p': 1},\n",
              "  {'algorithm': 'brute', 'n_neighbors': 1, 'p': 2},\n",
              "  {'algorithm': 'brute', 'n_neighbors': 2, 'p': 1},\n",
              "  {'algorithm': 'brute', 'n_neighbors': 2, 'p': 2},\n",
              "  {'algorithm': 'brute', 'n_neighbors': 3, 'p': 1},\n",
              "  {'algorithm': 'brute', 'n_neighbors': 3, 'p': 2},\n",
              "  {'algorithm': 'brute', 'n_neighbors': 4, 'p': 1},\n",
              "  {'algorithm': 'brute', 'n_neighbors': 4, 'p': 2},\n",
              "  {'algorithm': 'brute', 'n_neighbors': 5, 'p': 1},\n",
              "  {'algorithm': 'brute', 'n_neighbors': 5, 'p': 2},\n",
              "  {'algorithm': 'brute', 'n_neighbors': 6, 'p': 1},\n",
              "  {'algorithm': 'brute', 'n_neighbors': 6, 'p': 2},\n",
              "  {'algorithm': 'brute', 'n_neighbors': 7, 'p': 1},\n",
              "  {'algorithm': 'brute', 'n_neighbors': 7, 'p': 2},\n",
              "  {'algorithm': 'brute', 'n_neighbors': 8, 'p': 1},\n",
              "  {'algorithm': 'brute', 'n_neighbors': 8, 'p': 2}],\n",
              " 'split0_test_score': array([0.95, 1.  , 0.95, 0.95, 0.95, 0.95, 0.95, 0.95, 1.  , 1.  , 1.  ,\n",
              "        1.  , 1.  , 1.  , 1.  , 1.  , 0.95, 1.  , 0.95, 0.95, 0.95, 0.95,\n",
              "        0.95, 0.95, 1.  , 1.  , 1.  , 1.  , 1.  , 1.  , 1.  , 1.  , 0.95,\n",
              "        1.  , 0.95, 0.95, 0.95, 0.95, 0.95, 0.95, 1.  , 1.  , 1.  , 1.  ,\n",
              "        1.  , 1.  , 1.  , 1.  ]),\n",
              " 'split1_test_score': array([1.  , 1.  , 1.  , 1.  , 1.  , 1.  , 0.95, 0.95, 1.  , 1.  , 0.95,\n",
              "        0.95, 0.95, 0.95, 0.95, 0.95, 1.  , 1.  , 1.  , 1.  , 1.  , 1.  ,\n",
              "        0.95, 0.95, 1.  , 1.  , 0.95, 0.95, 0.95, 0.95, 0.95, 0.95, 1.  ,\n",
              "        1.  , 1.  , 1.  , 1.  , 1.  , 0.95, 0.95, 1.  , 1.  , 0.95, 0.95,\n",
              "        0.95, 0.95, 0.95, 0.95]),\n",
              " 'split2_test_score': array([0.9 , 0.9 , 0.9 , 0.9 , 0.9 , 0.9 , 0.9 , 0.85, 0.9 , 0.9 , 0.95,\n",
              "        0.9 , 0.9 , 0.9 , 0.9 , 0.85, 0.9 , 0.9 , 0.9 , 0.9 , 0.9 , 0.9 ,\n",
              "        0.9 , 0.85, 0.9 , 0.9 , 0.95, 0.9 , 0.9 , 0.9 , 0.9 , 0.85, 0.9 ,\n",
              "        0.9 , 0.9 , 0.9 , 0.9 , 0.9 , 0.9 , 0.85, 0.9 , 0.9 , 0.95, 0.9 ,\n",
              "        0.9 , 0.9 , 0.9 , 0.85]),\n",
              " 'split3_test_score': array([0.9 , 0.9 , 0.9 , 0.9 , 0.9 , 0.9 , 0.95, 0.9 , 0.95, 0.95, 1.  ,\n",
              "        1.  , 1.  , 1.  , 1.  , 1.  , 0.9 , 0.9 , 0.9 , 0.9 , 0.9 , 0.9 ,\n",
              "        0.95, 0.9 , 0.95, 0.95, 1.  , 1.  , 1.  , 1.  , 1.  , 1.  , 0.9 ,\n",
              "        0.9 , 0.9 , 0.9 , 0.9 , 0.9 , 0.95, 0.9 , 0.95, 0.95, 1.  , 1.  ,\n",
              "        1.  , 1.  , 1.  , 1.  ]),\n",
              " 'split4_test_score': array([1.  , 1.  , 0.95, 1.  , 1.  , 1.  , 1.  , 0.95, 1.  , 1.  , 1.  ,\n",
              "        1.  , 1.  , 1.  , 1.  , 1.  , 1.  , 1.  , 0.95, 1.  , 1.  , 1.  ,\n",
              "        1.  , 0.95, 1.  , 1.  , 1.  , 1.  , 1.  , 1.  , 1.  , 1.  , 1.  ,\n",
              "        1.  , 0.95, 1.  , 1.  , 1.  , 1.  , 0.95, 1.  , 1.  , 1.  , 1.  ,\n",
              "        1.  , 1.  , 1.  , 1.  ]),\n",
              " 'mean_test_score': array([0.95, 0.96, 0.94, 0.95, 0.95, 0.95, 0.95, 0.92, 0.97, 0.97, 0.98,\n",
              "        0.97, 0.97, 0.97, 0.97, 0.96, 0.95, 0.96, 0.94, 0.95, 0.95, 0.95,\n",
              "        0.95, 0.92, 0.97, 0.97, 0.98, 0.97, 0.97, 0.97, 0.97, 0.96, 0.95,\n",
              "        0.96, 0.94, 0.95, 0.95, 0.95, 0.95, 0.92, 0.97, 0.97, 0.98, 0.97,\n",
              "        0.97, 0.97, 0.97, 0.96]),\n",
              " 'std_test_score': array([0.04472136, 0.04898979, 0.03741657, 0.04472136, 0.04472136,\n",
              "        0.04472136, 0.03162278, 0.04      , 0.04      , 0.04      ,\n",
              "        0.0244949 , 0.04      , 0.04      , 0.04      , 0.04      ,\n",
              "        0.05830952, 0.04472136, 0.04898979, 0.03741657, 0.04472136,\n",
              "        0.04472136, 0.04472136, 0.03162278, 0.04      , 0.04      ,\n",
              "        0.04      , 0.0244949 , 0.04      , 0.04      , 0.04      ,\n",
              "        0.04      , 0.05830952, 0.04472136, 0.04898979, 0.03741657,\n",
              "        0.04472136, 0.04472136, 0.04472136, 0.03162278, 0.04      ,\n",
              "        0.04      , 0.04      , 0.0244949 , 0.04      , 0.04      ,\n",
              "        0.04      , 0.04      , 0.05830952]),\n",
              " 'rank_test_score': array([28, 22, 43, 28, 28, 28, 28, 46,  4,  4,  1,  4,  4,  4,  4, 22, 28,\n",
              "        22, 43, 28, 28, 28, 28, 46,  4,  4,  1,  4,  4,  4,  4, 22, 28, 22,\n",
              "        43, 28, 28, 28, 28, 46,  4,  4,  1,  4,  4,  4,  4, 22],\n",
              "       dtype=int32)}"
            ]
          },
          "metadata": {},
          "execution_count": 66
        }
      ]
    },
    {
      "cell_type": "code",
      "source": [
        "clf.best_params_"
      ],
      "metadata": {
        "colab": {
          "base_uri": "https://localhost:8080/"
        },
        "id": "GmF9yA43KwTL",
        "outputId": "7e9deed5-a71d-4266-b401-f81c1074b326"
      },
      "execution_count": null,
      "outputs": [
        {
          "output_type": "execute_result",
          "data": {
            "text/plain": [
              "{'algorithm': 'ball_tree', 'n_neighbors': 6, 'p': 1}"
            ]
          },
          "metadata": {},
          "execution_count": 67
        }
      ]
    },
    {
      "cell_type": "code",
      "source": [
        "clf.best_score_"
      ],
      "metadata": {
        "colab": {
          "base_uri": "https://localhost:8080/"
        },
        "id": "8G0o5zJNMp9c",
        "outputId": "8cba0bed-bec2-4b87-a20d-ca3e7c6a99ed"
      },
      "execution_count": null,
      "outputs": [
        {
          "output_type": "execute_result",
          "data": {
            "text/plain": [
              "0.9800000000000001"
            ]
          },
          "metadata": {},
          "execution_count": 68
        }
      ]
    },
    {
      "cell_type": "code",
      "source": [
        "from sklearn.linear_model import LogisticRegression\n",
        "from scipy.stats import uniform\n",
        "from sklearn.model_selection import RandomizedSearchCV\n",
        "\n",
        "logistic = LogisticRegression(solver='saga', tol=1e-2, max_iter=200,random_state=0)"
      ],
      "metadata": {
        "id": "fOCfu4OiOMJL"
      },
      "execution_count": null,
      "outputs": []
    },
    {
      "cell_type": "code",
      "source": [
        "distributions = {\n",
        "    'C': uniform(loc=0, scale=4),\n",
        "    'penalty': ['l2', 'l1']\n",
        "}"
      ],
      "metadata": {
        "id": "SnQCqplNPGFk"
      },
      "execution_count": null,
      "outputs": []
    },
    {
      "cell_type": "code",
      "source": [
        "clf = RandomizedSearchCV(logistic, distributions)\n",
        "clf.fit(X_train, y_train)\n",
        "clf.best_score_, clf.best_params_\n"
      ],
      "metadata": {
        "colab": {
          "base_uri": "https://localhost:8080/"
        },
        "id": "BLYynnnFOhb7",
        "outputId": "91baaf62-9a5a-42e4-821a-a07be65db586"
      },
      "execution_count": null,
      "outputs": [
        {
          "output_type": "execute_result",
          "data": {
            "text/plain": [
              "(0.9800000000000001, {'C': 1.5298907239375743, 'penalty': 'l1'})"
            ]
          },
          "metadata": {},
          "execution_count": 131
        }
      ]
    },
    {
      "cell_type": "code",
      "source": [
        "clf.cv_results_"
      ],
      "metadata": {
        "colab": {
          "base_uri": "https://localhost:8080/"
        },
        "id": "edrNidyCPcSk",
        "outputId": "a4ab192d-ce7a-4f6e-9b8f-acdb01e0a5a7"
      },
      "execution_count": null,
      "outputs": [
        {
          "output_type": "execute_result",
          "data": {
            "text/plain": [
              "{'mean_fit_time': array([0.00283384, 0.00203638, 0.00177946, 0.0020359 , 0.00195556,\n",
              "        0.00126581, 0.00141249, 0.00175228, 0.00186729, 0.00185871]),\n",
              " 'std_fit_time': array([1.10592840e-03, 8.80602693e-05, 4.14789678e-05, 3.57482544e-04,\n",
              "        1.94485270e-05, 2.44312859e-05, 3.20048326e-05, 7.54442584e-05,\n",
              "        3.50444494e-05, 1.47798367e-04]),\n",
              " 'mean_score_time': array([0.00032554, 0.00027037, 0.00026321, 0.00026875, 0.00025568,\n",
              "        0.00026097, 0.00025024, 0.00025296, 0.00026226, 0.00026789]),\n",
              " 'std_score_time': array([9.37383024e-05, 1.00124449e-05, 1.70044436e-05, 1.75073930e-05,\n",
              "        9.56602370e-06, 1.57685369e-05, 9.76480540e-06, 5.01473115e-06,\n",
              "        1.22622270e-05, 1.69894610e-05]),\n",
              " 'param_C': masked_array(data=[2.793679785173072, 1.5298907239375743,\n",
              "                    3.5254648564826825, 3.886467423957161,\n",
              "                    3.4237770928780806, 0.036670225286984603,\n",
              "                    0.2591585091224551, 3.023673177711329,\n",
              "                    0.670024591869288, 3.2120139378672197],\n",
              "              mask=[False, False, False, False, False, False, False, False,\n",
              "                    False, False],\n",
              "        fill_value='?',\n",
              "             dtype=object),\n",
              " 'param_penalty': masked_array(data=['l1', 'l1', 'l2', 'l2', 'l1', 'l2', 'l2', 'l2', 'l1',\n",
              "                    'l2'],\n",
              "              mask=[False, False, False, False, False, False, False, False,\n",
              "                    False, False],\n",
              "        fill_value='?',\n",
              "             dtype=object),\n",
              " 'params': [{'C': 2.793679785173072, 'penalty': 'l1'},\n",
              "  {'C': 1.5298907239375743, 'penalty': 'l1'},\n",
              "  {'C': 3.5254648564826825, 'penalty': 'l2'},\n",
              "  {'C': 3.886467423957161, 'penalty': 'l2'},\n",
              "  {'C': 3.4237770928780806, 'penalty': 'l1'},\n",
              "  {'C': 0.036670225286984603, 'penalty': 'l2'},\n",
              "  {'C': 0.2591585091224551, 'penalty': 'l2'},\n",
              "  {'C': 3.023673177711329, 'penalty': 'l2'},\n",
              "  {'C': 0.670024591869288, 'penalty': 'l1'},\n",
              "  {'C': 3.2120139378672197, 'penalty': 'l2'}],\n",
              " 'split0_test_score': array([1. , 1. , 1. , 1. , 1. , 0.9, 1. , 1. , 1. , 1. ]),\n",
              " 'split1_test_score': array([1.  , 1.  , 1.  , 1.  , 1.  , 0.95, 1.  , 1.  , 1.  , 1.  ]),\n",
              " 'split2_test_score': array([0.9 , 0.9 , 0.9 , 0.9 , 0.9 , 0.85, 0.9 , 0.9 , 0.9 , 0.9 ]),\n",
              " 'split3_test_score': array([0.95, 1.  , 0.95, 0.95, 0.95, 0.7 , 1.  , 0.95, 1.  , 0.95]),\n",
              " 'split4_test_score': array([1. , 1. , 1. , 1. , 1. , 0.7, 1. , 1. , 1. , 1. ]),\n",
              " 'mean_test_score': array([0.97, 0.98, 0.97, 0.97, 0.97, 0.82, 0.98, 0.97, 0.98, 0.97]),\n",
              " 'std_test_score': array([0.04     , 0.04     , 0.04     , 0.04     , 0.04     , 0.1029563,\n",
              "        0.04     , 0.04     , 0.04     , 0.04     ]),\n",
              " 'rank_test_score': array([ 4,  1,  4,  4,  4, 10,  1,  4,  1,  4], dtype=int32)}"
            ]
          },
          "metadata": {},
          "execution_count": 132
        }
      ]
    }
  ]
}