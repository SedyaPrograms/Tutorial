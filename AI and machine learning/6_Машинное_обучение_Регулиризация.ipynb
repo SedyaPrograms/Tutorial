{
  "nbformat": 4,
  "nbformat_minor": 0,
  "metadata": {
    "colab": {
      "provenance": [],
      "include_colab_link": true
    },
    "kernelspec": {
      "name": "python3",
      "display_name": "Python 3"
    },
    "language_info": {
      "name": "python"
    }
  },
  "cells": [
    {
      "cell_type": "markdown",
      "metadata": {
        "id": "view-in-github",
        "colab_type": "text"
      },
      "source": [
        "<a href=\"https://colab.research.google.com/github/SedyaPrograms/Tutorial/blob/main/AI%20and%20machine%20learning/6_%D0%9C%D0%B0%D1%88%D0%B8%D0%BD%D0%BD%D0%BE%D0%B5_%D0%BE%D0%B1%D1%83%D1%87%D0%B5%D0%BD%D0%B8%D0%B5_%D0%A0%D0%B5%D0%B3%D1%83%D0%BB%D0%B8%D1%80%D0%B8%D0%B7%D0%B0%D1%86%D0%B8%D1%8F.ipynb\" target=\"_parent\"><img src=\"https://colab.research.google.com/assets/colab-badge.svg\" alt=\"Open In Colab\"/></a>"
      ]
    },
    {
      "cell_type": "markdown",
      "source": [
        "Вспомним линейную регрессию"
      ],
      "metadata": {
        "id": "6DHmelzATbs2"
      }
    },
    {
      "cell_type": "markdown",
      "source": [
        "тут увеличением количества фичей смогли апроксимировать синусоиду\n"
      ],
      "metadata": {
        "id": "bTwRTAvtU2dE"
      }
    },
    {
      "cell_type": "code",
      "execution_count": 8,
      "metadata": {
        "id": "XJJSuiOqDG8S"
      },
      "outputs": [],
      "source": [
        "import numpy as np\n",
        "import numpy.linalg \n",
        "import sklearn\n",
        "from sklearn.datasets import make_regression\n",
        "from sklearn.linear_model import LinearRegression\n",
        "import matplotlib.pyplot as plt"
      ]
    },
    {
      "cell_type": "code",
      "source": [
        "X = X.reshape(-1,1)\n",
        "X_new = np.hstack((X , X ** 2, X ** 3)) \n",
        "X_new.shape"
      ],
      "metadata": {
        "colab": {
          "base_uri": "https://localhost:8080/"
        },
        "id": "xXucIz2X6OSe",
        "outputId": "b424ba8a-7ba1-4625-c103-379e99ae57ef"
      },
      "execution_count": 13,
      "outputs": [
        {
          "output_type": "execute_result",
          "data": {
            "text/plain": [
              "(30, 3)"
            ]
          },
          "metadata": {},
          "execution_count": 13
        }
      ]
    },
    {
      "cell_type": "code",
      "source": [
        "linreg = LinearRegression()\n",
        "linreg.fit(X_new, y)\n",
        "A = linreg.coef_ # тут теперь 3 значения\n",
        "B = linreg.intercept_ \n",
        "print(\"A = \",A,\"B = \", B)\n",
        "plt.plot(X, y, 'go')\n",
        "plt.plot(X, B + A[0] * X + A[1] * X ** 2 + A[2] * X ** 3, \"r\")"
      ],
      "metadata": {
        "colab": {
          "base_uri": "https://localhost:8080/",
          "height": 300
        },
        "id": "KtDY0I2r8Jwz",
        "outputId": "75999006-6cec-4a9b-ac89-68173ef1788f"
      },
      "execution_count": 14,
      "outputs": [
        {
          "output_type": "stream",
          "name": "stdout",
          "text": [
            "A =  [ 1.58248309e-14 -1.33226763e-15  1.00000000e+00] B =  4.747160519086872e-14\n"
          ]
        },
        {
          "output_type": "execute_result",
          "data": {
            "text/plain": [
              "[<matplotlib.lines.Line2D at 0x7f95606a0d30>]"
            ]
          },
          "metadata": {},
          "execution_count": 14
        },
        {
          "output_type": "display_data",
          "data": {
            "text/plain": [
              "<Figure size 432x288 with 1 Axes>"
            ],
            "image/png": "[encoded data removed]"
          },
          "metadata": {
            "needs_background": "light"
          }
        }
      ]
    },
    {
      "cell_type": "markdown",
      "source": [
        "а что если бы был шум?"
      ],
      "metadata": {
        "id": "3PxVCJ_qVPJa"
      }
    },
    {
      "cell_type": "code",
      "source": [
        "X = np.linspace(-10, 10, 20)\n",
        "noise = np.random.normal(size = len(X)) # наш шум - для каждого значения Х \n",
        "print(noise)"
      ],
      "metadata": {
        "colab": {
          "base_uri": "https://localhost:8080/"
        },
        "id": "iYWBI_QvVPsA",
        "outputId": "0c4a3212-a183-491d-e77c-47a65ed153b7"
      },
      "execution_count": 44,
      "outputs": [
        {
          "output_type": "stream",
          "name": "stdout",
          "text": [
            "[ 2.01071912 -0.6589334  -0.07775095  0.12378628  1.07628734 -0.0396768\n",
            "  1.2058875  -1.11333695  0.34268967  1.39017416 -0.80948074  0.0957097\n",
            "  0.1643591  -1.45185941 -0.14751165  1.53634433  0.24131686  0.64698647\n",
            " -0.55882573 -0.2842564 ]\n"
          ]
        }
      ]
    },
    {
      "cell_type": "code",
      "source": [
        "y = X ** 3 + 3 * X - 5 + 60 * noise\n",
        "plt.plot(X, y, 'go')"
      ],
      "metadata": {
        "colab": {
          "base_uri": "https://localhost:8080/",
          "height": 282
        },
        "id": "zGvPwSGqWc2I",
        "outputId": "bf8b2678-2384-477d-b3be-e6b04158f667"
      },
      "execution_count": 30,
      "outputs": [
        {
          "output_type": "execute_result",
          "data": {
            "text/plain": [
              "[<matplotlib.lines.Line2D at 0x7f95555e1af0>]"
            ]
          },
          "metadata": {},
          "execution_count": 30
        },
        {
          "output_type": "display_data",
          "data": {
            "text/plain": [
              "<Figure size 432x288 with 1 Axes>"
            ],
            "image/png": "[encoded data removed]"
          },
          "metadata": {
            "needs_background": "light"
          }
        }
      ]
    },
    {
      "cell_type": "code",
      "source": [
        "linreg = LinearRegression()\n",
        "linreg.fit(np.vstack((X , X ** 3)).T, y)\n",
        "A = linreg.coef_ # тут теперь 3 значения\n",
        "B = linreg.intercept_\n",
        "plt.plot(X, y, 'go')\n",
        "plt.plot(X, B + A[0] * X + A[1]* X ** 3, \"r\")"
      ],
      "metadata": {
        "colab": {
          "base_uri": "https://localhost:8080/",
          "height": 282
        },
        "id": "519rRF9ZVQIv",
        "outputId": "9b062eb6-445a-4d08-ae19-99d41b1cfc33"
      },
      "execution_count": 35,
      "outputs": [
        {
          "output_type": "execute_result",
          "data": {
            "text/plain": [
              "[<matplotlib.lines.Line2D at 0x7f9555568970>]"
            ]
          },
          "metadata": {},
          "execution_count": 35
        },
        {
          "output_type": "display_data",
          "data": {
            "text/plain": [
              "<Figure size 432x288 with 1 Axes>"
            ],
            "image/png": "[encoded data removed]"
          },
          "metadata": {
            "needs_background": "light"
          }
        }
      ]
    },
    {
      "cell_type": "markdown",
      "source": [
        "Довольно хорошо\n",
        "\n",
        "Увеличим разброс, через параметр scale"
      ],
      "metadata": {
        "id": "LpwFYa-hX1ew"
      }
    },
    {
      "cell_type": "code",
      "source": [
        "noise = np.random.normal(scale = 100, size = len(X))"
      ],
      "metadata": {
        "id": "0EPvBW_-YC3u"
      },
      "execution_count": 46,
      "outputs": []
    },
    {
      "cell_type": "code",
      "source": [
        "y = X ** 3 + 3 * X - 5 + noise\n",
        "linreg = LinearRegression()\n",
        "linreg.fit(np.vstack((X , X ** 3)).T, y)\n",
        "A = linreg.coef_ # тут теперь 3 значения\n",
        "B = linreg.intercept_\n",
        "plt.plot(X, y, 'go')\n",
        "plt.plot(X, B + A[0] * X + A[1]* X ** 3, \"r\")"
      ],
      "metadata": {
        "colab": {
          "base_uri": "https://localhost:8080/",
          "height": 282
        },
        "id": "aTwIBQ24YV8q",
        "outputId": "13a3c5c6-ab56-40c0-82b0-7f1fab930fa7"
      },
      "execution_count": 47,
      "outputs": [
        {
          "output_type": "execute_result",
          "data": {
            "text/plain": [
              "[<matplotlib.lines.Line2D at 0x7f95553238e0>]"
            ]
          },
          "metadata": {},
          "execution_count": 47
        },
        {
          "output_type": "display_data",
          "data": {
            "text/plain": [
              "<Figure size 432x288 with 1 Axes>"
            ],
            "image/png": "[encoded data removed]"
          },
          "metadata": {
            "needs_background": "light"
          }
        }
      ]
    },
    {
      "cell_type": "markdown",
      "source": [
        "Уже не совсем очевино, но норм"
      ],
      "metadata": {
        "id": "6is_LRGeYcpU"
      }
    },
    {
      "cell_type": "markdown",
      "source": [
        "Попробуем сконструировать много разных фич"
      ],
      "metadata": {
        "id": "WK7E_PCeYxXc"
      }
    },
    {
      "cell_type": "code",
      "source": [
        "X_features = np.vstack(tuple(X ** i for i in range(20)))"
      ],
      "metadata": {
        "id": "Ars-0TbLYghw"
      },
      "execution_count": 56,
      "outputs": []
    },
    {
      "cell_type": "code",
      "source": [
        "X_features.shape"
      ],
      "metadata": {
        "colab": {
          "base_uri": "https://localhost:8080/"
        },
        "id": "SAvfgf0PZDF_",
        "outputId": "b11c10ad-fcde-49b2-8a88-9f81ad6244b9"
      },
      "execution_count": 57,
      "outputs": [
        {
          "output_type": "execute_result",
          "data": {
            "text/plain": [
              "(25, 20)"
            ]
          },
          "metadata": {},
          "execution_count": 57
        }
      ]
    },
    {
      "cell_type": "markdown",
      "source": [
        "Сделаем больше точек"
      ],
      "metadata": {
        "id": "Mtwa60l2Zgjq"
      }
    },
    {
      "cell_type": "code",
      "source": [
        "X = np.linspace(-10, 10, 25)\n",
        "X_features = np.hstack(tuple(X.reshape(25, 1) ** i for i in range(20)))\n",
        "X_features.shape"
      ],
      "metadata": {
        "colab": {
          "base_uri": "https://localhost:8080/"
        },
        "id": "ck5lP2cAZJCH",
        "outputId": "6f9291f7-500c-454f-a292-95703898377e"
      },
      "execution_count": 59,
      "outputs": [
        {
          "output_type": "execute_result",
          "data": {
            "text/plain": [
              "(25, 20)"
            ]
          },
          "metadata": {},
          "execution_count": 59
        }
      ]
    },
    {
      "cell_type": "markdown",
      "source": [
        "сделали разную размерность, чтоб их не путать"
      ],
      "metadata": {
        "id": "pPg5hFU-ZuOC"
      }
    },
    {
      "cell_type": "markdown",
      "source": [
        "Пусть `X_features[:,1] = X`"
      ],
      "metadata": {
        "id": "TAXFAXFFaq0x"
      }
    },
    {
      "cell_type": "code",
      "source": [
        "X_features[:,1] = X"
      ],
      "metadata": {
        "id": "mnHfUXdIZw_9"
      },
      "execution_count": 61,
      "outputs": []
    },
    {
      "cell_type": "code",
      "source": [
        "X_features[:,1] == X"
      ],
      "metadata": {
        "colab": {
          "base_uri": "https://localhost:8080/"
        },
        "id": "54EaIvlNa7IU",
        "outputId": "5b931bc5-7511-42b4-cbdc-f4a0d4e28eb1"
      },
      "execution_count": 62,
      "outputs": [
        {
          "output_type": "execute_result",
          "data": {
            "text/plain": [
              "array([ True,  True,  True,  True,  True,  True,  True,  True,  True,\n",
              "        True,  True,  True,  True,  True,  True,  True,  True,  True,\n",
              "        True,  True,  True,  True,  True,  True,  True])"
            ]
          },
          "metadata": {},
          "execution_count": 62
        }
      ]
    },
    {
      "cell_type": "markdown",
      "source": [
        "Если везде True, то все правильно"
      ],
      "metadata": {
        "id": "HF4HE_Q6a-fW"
      }
    },
    {
      "cell_type": "code",
      "source": [],
      "metadata": {
        "id": "_VsIPV0Sa73C"
      },
      "execution_count": null,
      "outputs": []
    }
  ]
}