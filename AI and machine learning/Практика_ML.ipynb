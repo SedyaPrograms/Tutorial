{
  "nbformat": 4,
  "nbformat_minor": 0,
  "metadata": {
    "colab": {
      "provenance": [],
      "include_colab_link": true
    },
    "kernelspec": {
      "name": "python3",
      "display_name": "Python 3"
    },
    "language_info": {
      "name": "python"
    }
  },
  "cells": [
    {
      "cell_type": "markdown",
      "metadata": {
        "id": "view-in-github",
        "colab_type": "text"
      },
      "source": [
        "<a href=\"https://colab.research.google.com/github/SedyaPrograms/Tutorial/blob/main/AI%20and%20machine%20learning/%D0%9F%D1%80%D0%B0%D0%BA%D1%82%D0%B8%D0%BA%D0%B0_ML.ipynb\" target=\"_parent\"><img src=\"https://colab.research.google.com/assets/colab-badge.svg\" alt=\"Open In Colab\"/></a>"
      ]
    },
    {
      "cell_type": "markdown",
      "source": [
        " * # Практика\n",
        "Ниже представлен датасет из соревнования:\n",
        "https://www.kaggle.com/competitions/titanic/overview/evaluation\n",
        "\n",
        "Примените один (можно комбинировать несколько) из изученных методов машинного обучения. Результатом будет классфикатор, который будет отвечать на вопрос \"выживет ли человек с данными признаками на титанике?\"."
      ],
      "metadata": {
        "id": "XKnhh-FbAsUN"
      }
    },
    {
      "cell_type": "markdown",
      "source": [
        "* ## Загрузка датасета"
      ],
      "metadata": {
        "id": "1hkqVyECBg5f"
      }
    },
    {
      "cell_type": "code",
      "source": [
        "!wget -O titanic.csv https://raw.githubusercontent.com/datasciencedojo/datasets/master/titanic.csv"
      ],
      "metadata": {
        "colab": {
          "base_uri": "https://localhost:8080/"
        },
        "id": "8n33D9mYBLy6",
        "outputId": "e23aa16f-b0df-4f35-bf6f-3a23cfdfd2d3"
      },
      "execution_count": null,
      "outputs": [
        {
          "output_type": "stream",
          "name": "stdout",
          "text": [
            "--2023-02-11 12:38:08--  https://raw.githubusercontent.com/datasciencedojo/datasets/master/titanic.csv\n",
            "Resolving raw.githubusercontent.com (raw.githubusercontent.com)... 185.199.111.133, 185.199.109.133, 185.199.108.133, ...\n",
            "Connecting to raw.githubusercontent.com (raw.githubusercontent.com)|185.199.111.133|:443... connected.\n",
            "HTTP request sent, awaiting response... 200 OK\n",
            "Length: 60302 (59K) [text/plain]\n",
            "Saving to: ‘titanic.csv’\n",
            "\n",
            "\rtitanic.csv           0%[                    ]       0  --.-KB/s               \rtitanic.csv         100%[===================>]  58.89K  --.-KB/s    in 0.001s  \n",
            "\n",
            "2023-02-11 12:38:08 (43.6 MB/s) - ‘titanic.csv’ saved [60302/60302]\n",
            "\n"
          ]
        }
      ]
    },
    {
      "cell_type": "markdown",
      "source": [
        "* # Подготовка данных"
      ],
      "metadata": {
        "id": "Cru9Gpj3DFfK"
      }
    },
    {
      "cell_type": "code",
      "source": [
        "import pandas as pd\n",
        "import numpy as np"
      ],
      "metadata": {
        "id": "f5BgdSo1DJGT"
      },
      "execution_count": null,
      "outputs": []
    },
    {
      "cell_type": "code",
      "source": [
        " df = pd.read_csv('./titanic.csv')"
      ],
      "metadata": {
        "id": "xGhdZ-lRBjo1"
      },
      "execution_count": null,
      "outputs": []
    },
    {
      "cell_type": "code",
      "source": [
        "# Посмотреть на данные (Визуализация)\n",
        "# Препроцессинг данных (обработка)\n",
        "# Разделение на тренировочную и тестовую выборки\n",
        "# Обучение модели \n",
        "# Проверка метрик на тестовой выборке"
      ],
      "metadata": {
        "id": "04jCMEGwj7Ir"
      },
      "execution_count": null,
      "outputs": []
    }
  ]
}