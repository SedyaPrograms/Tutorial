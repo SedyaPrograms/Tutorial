{
  "nbformat": 4,
  "nbformat_minor": 0,
  "metadata": {
    "colab": {
      "provenance": [],
      "include_colab_link": true
    },
    "kernelspec": {
      "name": "python3",
      "display_name": "Python 3"
    },
    "language_info": {
      "name": "python"
    }
  },
  "cells": [
    {
      "cell_type": "markdown",
      "metadata": {
        "id": "view-in-github",
        "colab_type": "text"
      },
      "source": [
        "<a href=\"https://colab.research.google.com/github/SedyaPrograms/Tutorial/blob/main/AI%20and%20machine%20learning/ML_10.ipynb\" target=\"_parent\"><img src=\"https://colab.research.google.com/assets/colab-badge.svg\" alt=\"Open In Colab\"/></a>"
      ]
    },
    {
      "cell_type": "code",
      "execution_count": null,
      "metadata": {
        "id": "3m1Ty4XQF2eF"
      },
      "outputs": [],
      "source": [
        "import pandas as pd\n",
        "import numpy as np"
      ]
    },
    {
      "cell_type": "code",
      "source": [
        "dataset = pd.read_csv('./spam_2.csv')"
      ],
      "metadata": {
        "id": "OMd-tF1nJ_rm"
      },
      "execution_count": null,
      "outputs": []
    },
    {
      "cell_type": "code",
      "source": [
        "dataset.columns"
      ],
      "metadata": {
        "colab": {
          "base_uri": "https://localhost:8080/"
        },
        "id": "IXgYyXrFMgFM",
        "outputId": "3c00d744-31fb-4531-beb8-2bae3bd824eb"
      },
      "execution_count": null,
      "outputs": [
        {
          "output_type": "execute_result",
          "data": {
            "text/plain": [
              "Index(['Category', 'Message'], dtype='object')"
            ]
          },
          "metadata": {},
          "execution_count": 3
        }
      ]
    },
    {
      "cell_type": "code",
      "source": [
        "emails, y = dataset['Message'], dataset['Category']"
      ],
      "metadata": {
        "id": "TYiRZ8GHMP6G"
      },
      "execution_count": null,
      "outputs": []
    },
    {
      "cell_type": "code",
      "source": [
        "# 1. Удалим цифры\n",
        "# 2.  Удалим знаки препинания\n",
        "# 3. Все слова будут состоять из букв в нижнем регистре"
      ],
      "metadata": {
        "id": "-Ov2iKIjLkXM"
      },
      "execution_count": null,
      "outputs": []
    },
    {
      "cell_type": "code",
      "source": [
        "import string\n",
        "import re\n",
        "\n",
        "def remove_multi_whitespace(line: str) -> str:\n",
        "    \"\"\"\n",
        "    Функция заменяет несколько идущих подряд пробелов на один\n",
        "    \"\"\"\n",
        "    return re.sub(' +', ' ', line)\n",
        "\n",
        "\n",
        "def normalize_line(line: str) -> str:\n",
        "    \"\"\"\n",
        "    Функция приводит строчку к единому виду:\n",
        "     - Каждое слово содержит символы только из нижнего регистра\n",
        "     - Удаляем все посторонние символы и знаки препинания, остаются только пробелы и символы из латинского алфавита\n",
        "     - В получившейся строке все слова должны быть разделенены максимум одним пробелом\n",
        "     - Строка не должна начинаться с пробела\n",
        "     - Могут понадобиться: filter, string.ascii_lowercase, \"some string\".lower(), \"\".join() и remove_multi_whitespace (см. выше)\n",
        "    \"\"\"\n",
        "    line = line.lower()\n",
        "    normalized = \"\".join(filter(lambda symbol: symbol in string.ascii_lowercase or symbol == \" \", line)).strip()\n",
        "    return remove_multi_whitespace(normalized)"
      ],
      "metadata": {
        "id": "iOwo6V5mLkMK"
      },
      "execution_count": null,
      "outputs": []
    },
    {
      "cell_type": "code",
      "source": [
        "for i in range(len(emails)):\n",
        "    emails[i] = normalize_line(emails[i])"
      ],
      "metadata": {
        "id": "aOkXrtGPX7p1"
      },
      "execution_count": null,
      "outputs": []
    },
    {
      "cell_type": "code",
      "source": [
        "from sklearn.feature_extraction.text import CountVectorizer"
      ],
      "metadata": {
        "id": "1pNklxGxQw9-"
      },
      "execution_count": null,
      "outputs": []
    },
    {
      "cell_type": "code",
      "source": [
        "vectorizer = CountVectorizer()\n",
        "X_transformed = vectorizer.fit_transform(emails)"
      ],
      "metadata": {
        "id": "ptm4tOPuSQxa"
      },
      "execution_count": null,
      "outputs": []
    },
    {
      "cell_type": "code",
      "source": [
        "from sklearn.model_selection import train_test_split\n",
        "X_train, X_test, y_train, y_test = train_test_split(X_transformed, y, test_size=0.2, random_state=42)"
      ],
      "metadata": {
        "id": "DrzzvsHaYepQ"
      },
      "execution_count": null,
      "outputs": []
    },
    {
      "cell_type": "code",
      "source": [
        "from sklearn.linear_model import LogisticRegression\n",
        "\n",
        "linreg = LogisticRegression()"
      ],
      "metadata": {
        "id": "ftSJqgdcYsMf"
      },
      "execution_count": null,
      "outputs": []
    },
    {
      "cell_type": "code",
      "source": [
        "linreg.fit(X_train, y_train)"
      ],
      "metadata": {
        "colab": {
          "base_uri": "https://localhost:8080/"
        },
        "id": "DzxnBCJIZACg",
        "outputId": "2f8d9c38-358a-47ea-e851-cb052075d80b"
      },
      "execution_count": null,
      "outputs": [
        {
          "output_type": "execute_result",
          "data": {
            "text/plain": [
              "LogisticRegression()"
            ]
          },
          "metadata": {},
          "execution_count": 13
        }
      ]
    },
    {
      "cell_type": "code",
      "source": [
        "indicies = np.abs(linreg.coef_).argsort()"
      ],
      "metadata": {
        "id": "QBfipsNFdDGx"
      },
      "execution_count": null,
      "outputs": []
    },
    {
      "cell_type": "code",
      "source": [
        "vectorizer.get_feature_names_out()[indicies[0][::-1][0:40]]"
      ],
      "metadata": {
        "colab": {
          "base_uri": "https://localhost:8080/"
        },
        "id": "HSs_SBZvdOIr",
        "outputId": "44868fe1-f476-43b2-c4de-778505389d80"
      },
      "execution_count": null,
      "outputs": [
        {
          "output_type": "execute_result",
          "data": {
            "text/plain": [
              "array(['txt', 'call', 'text', 'stop', 'ringtone', 'reply', 'new', 'won',\n",
              "       'claim', 'ltgt', 'real', 'now', 'chat', 'service', 'help',\n",
              "       'mobile', 'from', 'free', 'me', 'cost', 'lost', 'message', 'who',\n",
              "       'my', 'win', 'httptms', 'widelivecomindex', 'order', 'pmin',\n",
              "       'customer', 'next', 'content', 'error', 'tfp', 'ringtoneking',\n",
              "       'send', 'enjoy', 'services', 'voicemail', 'freeringtonereply'],\n",
              "      dtype=object)"
            ]
          },
          "metadata": {},
          "execution_count": 47
        }
      ]
    },
    {
      "cell_type": "code",
      "source": [
        "from sklearn.metrics import accuracy_score, precision_score, recall_score, f1_score"
      ],
      "metadata": {
        "id": "VFuIis6_ZDdN"
      },
      "execution_count": null,
      "outputs": []
    },
    {
      "cell_type": "code",
      "source": [
        "y_pred = linreg.predict(X_test)\n",
        "\n",
        "accuracy = accuracy_score(y_test, y_pred)\n",
        "precision = precision_score(y_test, y_pred, pos_label=\"spam\")\n",
        "recall = recall_score(y_test, y_pred, pos_label=\"spam\")\n",
        "f1 = f1_score(y_test, y_pred, pos_label=\"spam\")\n",
        "\n",
        "print(\"Accuracy: {}\\nPrecision: {}\\nRecall: {}\\n F1-Score: {}\".format(accuracy, precision, recall, f1))\n"
      ],
      "metadata": {
        "colab": {
          "base_uri": "https://localhost:8080/"
        },
        "id": "PIEHW6jXZNIL",
        "outputId": "cebdd503-6f8e-4f89-d6af-9a32f25bc5c1"
      },
      "execution_count": null,
      "outputs": [
        {
          "output_type": "stream",
          "name": "stdout",
          "text": [
            "Accuracy: 0.9802690582959641\n",
            "Precision: 0.9847328244274809\n",
            "Recall: 0.8657718120805369\n",
            " F1-Score: 0.9214285714285714\n"
          ]
        }
      ]
    },
    {
      "cell_type": "code",
      "source": [
        "from sklearn.preprocessing import OneHotEncoder\n",
        "\n",
        "X = [[\"Backend\"], \n",
        "     [\"Frontend\"],\n",
        "     [\"Data Science\"],\n",
        "     [\"Backend\"]]\n",
        "\n",
        "encoder = OneHotEncoder(sparse=False)\n",
        "\n",
        "encoder.fit_transform(X)"
      ],
      "metadata": {
        "colab": {
          "base_uri": "https://localhost:8080/"
        },
        "id": "xjRx6_-qeuxF",
        "outputId": "284d4960-73cc-4dea-e4a0-c7a57e868dd6"
      },
      "execution_count": null,
      "outputs": [
        {
          "output_type": "execute_result",
          "data": {
            "text/plain": [
              "array([[1., 0., 0.],\n",
              "       [0., 0., 1.],\n",
              "       [0., 1., 0.],\n",
              "       [1., 0., 0.]])"
            ]
          },
          "metadata": {},
          "execution_count": 54
        }
      ]
    },
    {
      "cell_type": "code",
      "source": [
        "# id, name, age, specialization\n",
        "\n",
        "\n",
        "# Specialization: [Backend - 1, Mobile - 2, Frontend - 3, Data Science - 4, QA - 5]\n",
        "\n",
        "One Hot Encoding\n",
        "\n",
        "Binary\n",
        "\n"
      ],
      "metadata": {
        "id": "ZeBu2IIhgAkV"
      },
      "execution_count": null,
      "outputs": []
    }
  ]
}