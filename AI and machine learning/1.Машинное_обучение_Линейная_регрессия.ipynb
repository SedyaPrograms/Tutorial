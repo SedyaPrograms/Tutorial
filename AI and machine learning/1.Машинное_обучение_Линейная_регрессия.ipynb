{
  "nbformat": 4,
  "nbformat_minor": 0,
  "metadata": {
    "colab": {
      "provenance": [],
      "include_colab_link": true
    },
    "kernelspec": {
      "name": "python3",
      "display_name": "Python 3"
    },
    "language_info": {
      "name": "python"
    }
  },
  "cells": [
    {
      "cell_type": "markdown",
      "metadata": {
        "id": "view-in-github",
        "colab_type": "text"
      },
      "source": [
        "<a href=\"https://colab.research.google.com/github/SedyaPrograms/Tutorial/blob/main/AI%20and%20machine%20learning/1.%D0%9C%D0%B0%D1%88%D0%B8%D0%BD%D0%BD%D0%BE%D0%B5_%D0%BE%D0%B1%D1%83%D1%87%D0%B5%D0%BD%D0%B8%D0%B5_%D0%9B%D0%B8%D0%BD%D0%B5%D0%B9%D0%BD%D0%B0%D1%8F_%D1%80%D0%B5%D0%B3%D1%80%D0%B5%D1%81%D1%81%D0%B8%D1%8F.ipynb\" target=\"_parent\"><img src=\"https://colab.research.google.com/assets/colab-badge.svg\" alt=\"Open In Colab\"/></a>"
      ]
    },
    {
      "cell_type": "markdown",
      "source": [
        "Хотим сделать линейную регрессию методом наименьших квадратов и град спуска"
      ],
      "metadata": {
        "id": "MetVp1ygqNYz"
      }
    },
    {
      "cell_type": "code",
      "execution_count": 5,
      "metadata": {
        "id": "XJJSuiOqDG8S"
      },
      "outputs": [],
      "source": [
        "import numpy as np\n",
        "import numpy.linalg \n",
        "import sklearn\n",
        "from sklearn.datasets import make_regression\n",
        "import matplotlib.pyplot as plt"
      ]
    },
    {
      "cell_type": "markdown",
      "source": [
        "тут поигрался с шумом (noice)\n",
        "наша цель: провести линию через точки"
      ],
      "metadata": {
        "id": "2ioCFUJHsbNx"
      }
    },
    {
      "cell_type": "code",
      "source": [
        "X, y = make_regression(n_samples=30, n_features=1, noise=3) # делает кастомный дата-сет\n",
        "plt.plot(X, y, 'bo')"
      ],
      "metadata": {
        "id": "Wicmshn3boKy",
        "colab": {
          "base_uri": "https://localhost:8080/",
          "height": 285
        },
        "outputId": "ea931980-2fea-4d79-d384-9e730982c8fc"
      },
      "execution_count": 6,
      "outputs": [
        {
          "output_type": "execute_result",
          "data": {
            "text/plain": [
              "[<matplotlib.lines.Line2D at 0x7ff636854d30>]"
            ]
          },
          "metadata": {},
          "execution_count": 6
        },
        {
          "output_type": "display_data",
          "data": {
            "text/plain": [
              "<Figure size 432x288 with 1 Axes>"
            ],
            "image/png": "[encoded data removed]"
          },
          "metadata": {
            "needs_background": "light"
          }
        }
      ]
    },
    {
      "cell_type": "code",
      "source": [
        "X, y = make_regression(n_samples=30, n_features=1, noise=40)\n",
        "plt.plot(X, y, 'bo')"
      ],
      "metadata": {
        "colab": {
          "base_uri": "https://localhost:8080/",
          "height": 282
        },
        "id": "-__uSuZcr5OH",
        "outputId": "e49c47d8-e8e2-4653-a4a8-e2b12b70ed47"
      },
      "execution_count": 35,
      "outputs": [
        {
          "output_type": "execute_result",
          "data": {
            "text/plain": [
              "[<matplotlib.lines.Line2D at 0x7ff632035b80>]"
            ]
          },
          "metadata": {},
          "execution_count": 35
        },
        {
          "output_type": "display_data",
          "data": {
            "text/plain": [
              "<Figure size 432x288 with 1 Axes>"
            ],
            "image/png": "[encoded data removed]"
          },
          "metadata": {
            "needs_background": "light"
          }
        }
      ]
    },
    {
      "cell_type": "markdown",
      "source": [
        "попробуем в лоб посчитать (сделаем так называемое аналитическое решение)\n",
        "\n",
        "![2023-03-03_21-29-12.png](data:image/png;base64,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)\n",
        "\n",
        "формула псевдообратной матрицы в помощь, по ней считаем наклон нашей прямой"
      ],
      "metadata": {
        "id": "eP3M68tUs23q"
      }
    },
    {
      "cell_type": "code",
      "source": [
        "np.linalg.inv(X.T @ X) @ X.T @ y"
      ],
      "metadata": {
        "colab": {
          "base_uri": "https://localhost:8080/"
        },
        "id": "0CdkhDEos9op",
        "outputId": "92e6ac9f-9f04-4416-8540-1a64dc5a2870"
      },
      "execution_count": 37,
      "outputs": [
        {
          "output_type": "execute_result",
          "data": {
            "text/plain": [
              "array([89.11275318])"
            ]
          },
          "metadata": {},
          "execution_count": 37
        }
      ]
    },
    {
      "cell_type": "markdown",
      "source": [
        "получили параметр, который как-то описывает нашу прямую\n",
        "построим на графике эту пряму (вспоминаем уравнение прямой)"
      ],
      "metadata": {
        "id": "QofedCZWtvFt"
      }
    },
    {
      "cell_type": "code",
      "source": [
        "#X, y = make_regression(n_samples=30, n_features=1, noise=40)\n",
        "plt.plot(X, y, 'bo')\n",
        "B = np.linalg.inv(X.T @ X) @ X.T @ y\n",
        "print(B)\n",
        "plt.plot(X, 0 + B * X, \"r\")"
      ],
      "metadata": {
        "colab": {
          "base_uri": "https://localhost:8080/",
          "height": 300
        },
        "id": "XasJEOn7t4PP",
        "outputId": "65d3da1d-6168-43ad-ccb8-6f54ac312a78"
      },
      "execution_count": 36,
      "outputs": [
        {
          "output_type": "stream",
          "name": "stdout",
          "text": [
            "[89.11275318]\n"
          ]
        },
        {
          "output_type": "execute_result",
          "data": {
            "text/plain": [
              "[<matplotlib.lines.Line2D at 0x7ff631f9d370>]"
            ]
          },
          "metadata": {},
          "execution_count": 36
        },
        {
          "output_type": "display_data",
          "data": {
            "text/plain": [
              "<Figure size 432x288 with 1 Axes>"
            ],
            "image/png": "[encoded data removed]"
          },
          "metadata": {
            "needs_background": "light"
          }
        }
      ]
    },
    {
      "cell_type": "markdown",
      "source": [
        "тут константу наклона обозначил B, чтоб формуле соответсвовать, далее аналогичная ей констаната, будет называться иначе"
      ],
      "metadata": {
        "id": "jARotbftwrnq"
      }
    },
    {
      "cell_type": "markdown",
      "source": [
        "Ну вот так как-то, вроде похоже, теперь пропробуем сделать то же самое, но инструментами sklearn "
      ],
      "metadata": {
        "id": "IRD3ujfuuiTa"
      }
    },
    {
      "cell_type": "code",
      "source": [
        "from sklearn.linear_model import LinearRegression\n",
        "linreg = LinearRegression() #делаем экземпрляр класса Линейная регрессия\n",
        "linreg. fit(X, y) #fit - обучить модель; predick - предсказать , ес инглиш мен"
      ],
      "metadata": {
        "colab": {
          "base_uri": "https://localhost:8080/",
          "height": 75
        },
        "id": "KPsU3lBIv4sg",
        "outputId": "13fcbf3b-0442-4ebc-e915-e24318573a24"
      },
      "execution_count": 10,
      "outputs": [
        {
          "output_type": "execute_result",
          "data": {
            "text/plain": [
              "LinearRegression()"
            ],
            "text/html": [
              "<style>#sk-container-id-1 {color: black;background-color: white;}#sk-container-id-1 pre{padding: 0;}#sk-container-id-1 div.sk-toggleable {background-color: white;}#sk-container-id-1 label.sk-toggleable__label {cursor: pointer;display: block;width: 100%;margin-bottom: 0;padding: 0.3em;box-sizing: border-box;text-align: center;}#sk-container-id-1 label.sk-toggleable__label-arrow:before {content: \"▸\";float: left;margin-right: 0.25em;color: #696969;}#sk-container-id-1 label.sk-toggleable__label-arrow:hover:before {color: black;}#sk-container-id-1 div.sk-estimator:hover label.sk-toggleable__label-arrow:before {color: black;}#sk-container-id-1 div.sk-toggleable__content {max-height: 0;max-width: 0;overflow: hidden;text-align: left;background-color: #f0f8ff;}#sk-container-id-1 div.sk-toggleable__content pre {margin: 0.2em;color: black;border-radius: 0.25em;background-color: #f0f8ff;}#sk-container-id-1 input.sk-toggleable__control:checked~div.sk-toggleable__content {max-height: 200px;max-width: 100%;overflow: auto;}#sk-container-id-1 input.sk-toggleable__control:checked~label.sk-toggleable__label-arrow:before {content: \"▾\";}#sk-container-id-1 div.sk-estimator input.sk-toggleable__control:checked~label.sk-toggleable__label {background-color: #d4ebff;}#sk-container-id-1 div.sk-label input.sk-toggleable__control:checked~label.sk-toggleable__label {background-color: #d4ebff;}#sk-container-id-1 input.sk-hidden--visually {border: 0;clip: rect(1px 1px 1px 1px);clip: rect(1px, 1px, 1px, 1px);height: 1px;margin: -1px;overflow: hidden;padding: 0;position: absolute;width: 1px;}#sk-container-id-1 div.sk-estimator {font-family: monospace;background-color: #f0f8ff;border: 1px dotted black;border-radius: 0.25em;box-sizing: border-box;margin-bottom: 0.5em;}#sk-container-id-1 div.sk-estimator:hover {background-color: #d4ebff;}#sk-container-id-1 div.sk-parallel-item::after {content: \"\";width: 100%;border-bottom: 1px solid gray;flex-grow: 1;}#sk-container-id-1 div.sk-label:hover label.sk-toggleable__label {background-color: #d4ebff;}#sk-container-id-1 div.sk-serial::before {content: \"\";position: absolute;border-left: 1px solid gray;box-sizing: border-box;top: 0;bottom: 0;left: 50%;z-index: 0;}#sk-container-id-1 div.sk-serial {display: flex;flex-direction: column;align-items: center;background-color: white;padding-right: 0.2em;padding-left: 0.2em;position: relative;}#sk-container-id-1 div.sk-item {position: relative;z-index: 1;}#sk-container-id-1 div.sk-parallel {display: flex;align-items: stretch;justify-content: center;background-color: white;position: relative;}#sk-container-id-1 div.sk-item::before, #sk-container-id-1 div.sk-parallel-item::before {content: \"\";position: absolute;border-left: 1px solid gray;box-sizing: border-box;top: 0;bottom: 0;left: 50%;z-index: -1;}#sk-container-id-1 div.sk-parallel-item {display: flex;flex-direction: column;z-index: 1;position: relative;background-color: white;}#sk-container-id-1 div.sk-parallel-item:first-child::after {align-self: flex-end;width: 50%;}#sk-container-id-1 div.sk-parallel-item:last-child::after {align-self: flex-start;width: 50%;}#sk-container-id-1 div.sk-parallel-item:only-child::after {width: 0;}#sk-container-id-1 div.sk-dashed-wrapped {border: 1px dashed gray;margin: 0 0.4em 0.5em 0.4em;box-sizing: border-box;padding-bottom: 0.4em;background-color: white;}#sk-container-id-1 div.sk-label label {font-family: monospace;font-weight: bold;display: inline-block;line-height: 1.2em;}#sk-container-id-1 div.sk-label-container {text-align: center;}#sk-container-id-1 div.sk-container {/* jupyter's `normalize.less` sets `[hidden] { display: none; }` but bootstrap.min.css set `[hidden] { display: none !important; }` so we also need the `!important` here to be able to override the default hidden behavior on the sphinx rendered scikit-learn.org. See: https://github.com/scikit-learn/scikit-learn/issues/21755 */display: inline-block !important;position: relative;}#sk-container-id-1 div.sk-text-repr-fallback {display: none;}</style><div id=\"sk-container-id-1\" class=\"sk-top-container\"><div class=\"sk-text-repr-fallback\"><pre>LinearRegression()</pre><b>In a Jupyter environment, please rerun this cell to show the HTML representation or trust the notebook. <br />On GitHub, the HTML representation is unable to render, please try loading this page with nbviewer.org.</b></div><div class=\"sk-container\" hidden><div class=\"sk-item\"><div class=\"sk-estimator sk-toggleable\"><input class=\"sk-toggleable__control sk-hidden--visually\" id=\"sk-estimator-id-1\" type=\"checkbox\" checked><label for=\"sk-estimator-id-1\" class=\"sk-toggleable__label sk-toggleable__label-arrow\">LinearRegression</label><div class=\"sk-toggleable__content\"><pre>LinearRegression()</pre></div></div></div></div></div>"
            ]
          },
          "metadata": {},
          "execution_count": 10
        }
      ]
    },
    {
      "cell_type": "code",
      "source": [
        "linreg.coef_"
      ],
      "metadata": {
        "colab": {
          "base_uri": "https://localhost:8080/"
        },
        "id": "Dh12EhEewg5S",
        "outputId": "b40a0f98-cfa7-4aaf-f7b4-7c703a0d541b"
      },
      "execution_count": 11,
      "outputs": [
        {
          "output_type": "execute_result",
          "data": {
            "text/plain": [
              "array([98.73485715])"
            ]
          },
          "metadata": {},
          "execution_count": 11
        }
      ]
    },
    {
      "cell_type": "markdown",
      "source": [
        "Получили коэфициент оч похожий, на полученный в лоб\n",
        "Для того чтобы найти начальную точку испльзуем linreg.intercept_ \n",
        "(уравнение прямой y = a*x + b, a - linreg.coef_, b - linreg.intercept_ )"
      ],
      "metadata": {
        "id": "wq8xFseTxgxq"
      }
    },
    {
      "cell_type": "code",
      "source": [
        "linreg.intercept_ "
      ],
      "metadata": {
        "colab": {
          "base_uri": "https://localhost:8080/"
        },
        "id": "dwXbm8Jnxu9b",
        "outputId": "9d07c560-9fc0-4075-f26d-89c323c7d519"
      },
      "execution_count": 12,
      "outputs": [
        {
          "output_type": "execute_result",
          "data": {
            "text/plain": [
              "0.9683356603534721"
            ]
          },
          "metadata": {},
          "execution_count": 12
        }
      ]
    },
    {
      "cell_type": "markdown",
      "source": [
        "Идем дальше, смотрим такой пример"
      ],
      "metadata": {
        "id": "d_xrt6Ney5kU"
      }
    },
    {
      "cell_type": "code",
      "source": [
        "X = np.linspace(-10, 10, 30)\n",
        "y = X ** 3"
      ],
      "metadata": {
        "id": "X0trYlANx--Z"
      },
      "execution_count": 14,
      "outputs": []
    },
    {
      "cell_type": "markdown",
      "source": [
        "РИсуем"
      ],
      "metadata": {
        "id": "apXycpF8zKNZ"
      }
    },
    {
      "cell_type": "code",
      "source": [
        "plt.plot(X, y, 'go')"
      ],
      "metadata": {
        "colab": {
          "base_uri": "https://localhost:8080/",
          "height": 282
        },
        "id": "8tBoI7a_zJ8D",
        "outputId": "01819425-4640-4fa4-e67f-3785b88b3206"
      },
      "execution_count": 15,
      "outputs": [
        {
          "output_type": "execute_result",
          "data": {
            "text/plain": [
              "[<matplotlib.lines.Line2D at 0x7ff6345613a0>]"
            ]
          },
          "metadata": {},
          "execution_count": 15
        },
        {
          "output_type": "display_data",
          "data": {
            "text/plain": [
              "<Figure size 432x288 with 1 Axes>"
            ],
            "image/png": "[encoded data removed]"
          },
          "metadata": {
            "needs_background": "light"
          }
        }
      ]
    },
    {
      "cell_type": "markdown",
      "source": [
        "Используем для нее нашу Лин. регресию и глядим на параметры"
      ],
      "metadata": {
        "id": "Kb9GlWRBzYJD"
      }
    },
    {
      "cell_type": "code",
      "source": [
        "X.shape"
      ],
      "metadata": {
        "colab": {
          "base_uri": "https://localhost:8080/"
        },
        "id": "9Uw9fWySgPj5",
        "outputId": "8dcf0039-b7dc-49f2-e643-c1dd90757559"
      },
      "execution_count": 16,
      "outputs": [
        {
          "output_type": "execute_result",
          "data": {
            "text/plain": [
              "(30,)"
            ]
          },
          "metadata": {},
          "execution_count": 16
        }
      ]
    },
    {
      "cell_type": "code",
      "source": [
        "linreg = LinearRegression()\n",
        "linreg.fit(X.reshape(-1, 1), y)\n",
        "A = linreg.coef_\n",
        "B = linreg.intercept_ \n",
        "print(A, B)\n",
        "plt.plot(X, y, 'go')\n",
        "plt.plot(X, B + A * X, \"r\")"
      ],
      "metadata": {
        "colab": {
          "base_uri": "https://localhost:8080/",
          "height": 300
        },
        "id": "Qk2d5vV_z15B",
        "outputId": "f38fc9fc-899d-4a7e-b545-ad8292c409b3"
      },
      "execution_count": 17,
      "outputs": [
        {
          "output_type": "stream",
          "name": "stdout",
          "text": [
            "[64.04280618] 4.5464596547827e-14\n"
          ]
        },
        {
          "output_type": "execute_result",
          "data": {
            "text/plain": [
              "[<matplotlib.lines.Line2D at 0x7ff6344d9580>]"
            ]
          },
          "metadata": {},
          "execution_count": 17
        },
        {
          "output_type": "display_data",
          "data": {
            "text/plain": [
              "<Figure size 432x288 with 1 Axes>"
            ],
            "image/png": "[encoded data removed]"
          },
          "metadata": {
            "needs_background": "light"
          }
        }
      ]
    },
    {
      "cell_type": "markdown",
      "source": [
        "У нас синусоида, как нам линейной функцией апроксимировать ее?\n",
        "![image.png](data:image/png;base64,iVBORw0KGgoAAAANSUhEUgAAAocAAAE2CAIAAACcCK/4AAAABmJLR0QA/wD/AP+gvaeTAAAgAElEQVR4nOzdfVgTV94w/i+1Y3GENqgJSJZdsESrKVcDz4JCdAuocQV3i/SWPkL7iG/tY/Fey4r0qlhZWnCvUqx1F/RXqxXvNvQWnyK7a+gaFfDRgJL+IF0arIZKXBpeEmviogNlSnn+yPt7gICx+/1c/oHJZOacmTPnO+fMmTN+o6OjgBBCCCEf8MiDTgBCCCGEDDAqI4QQQr4CozJCCCHkKzAqI4QQQr4CozJCCCHkKzAqI4QQQr4CozJCCCHkKzAqI4QQQr4CozJCCCHkKzAqI4QQQr4CozJCCCHkKzAqI4QQQr4CozJCCCHkKzAqI4QQQr4CozJCCCHkKzAqI4QQQr4CozJCCCHkKzAqI4QQQr4CozJCCCHkKzAqI4QQQr4CozJCCCHkKzAqI4QQQr4CozJCCCHkKzAqI4QQQr5icqNy89t+4/R286QmzAd1fbjcz8/Pz29LzW37L9v2R/v5+fn57f232y0IIfRvBdvKviIiNiUaAOBY2eHmIeuvuj4tK5MBQEhBUvQDSBlCCKGp8uiDTgAy4mXteans+Y/7mvcmLGrfWbA+JYIBoOuq/7zq2If1fQCwJO/5JP8HnUqEEEKTaOqicvRLBVlRQa6W6KrPO1w3VcnxQSHph+rKdCl5f+vrOrV/y6n9Vl8uyRF9uhNbyggh9NM2dVE5YvX2netDXC1xZejfOyoDBETv/Ou19M+F+4/X1F+qv9YHABHx61KeX5uVtS4+BPs1EELopw5rel/DiFidU74650EnAyGE0AOAo70QQgghX4FRGSGEEPIVD09U/rbqeQ+fZu48lmp+8Pn5qm+tv71SYv7u0z6Xm2wu8XCLALqv647t3f588qK5hh/MXZT8/Pa9x+q+1rn8XV9VhmkbJS630XUsxc9pyj3fOZZbzKhylf8fdNcaqirytywXJMwzb3nuouTlz7+6v6rhmu4Hl9sBAAe7xTnXiXHC/EC86ee6rrrjeVtMW+QkLN+Ud+xzj1JrNNR3paoif8vyeFO+5yUItuT9uar52yFXv7M8Ci6YDpC5KJpKqa7r82N5m5YbUz8vQbAl73jdNQePsDs13qJo7QfdtYaq/a8+b94Jcxctz9i+/9PmPpf7wGTo27aa43lbBKa8+M2LX74l33kyvHWCm1PQ1/xpRd6m5Qkc98ek5IpHmUJoKoxOpqa3zBtKr+p1s3RzsXnpt5psv+0Wprv41kwr2mY5pixd2O10K+6S1FTswRYHrwl3ro5wsYcj1pVdcLqdXuE604LFrnL11xyrXNmk3NOdY73FdULH6aJ7L5RmLnQ5Mg8AIDK97JLW6XYGOo5udLVbbDlLjEvmArZO2Ds6qpWWpThLtuvUGmkvlWU+7SLnIcm5wg5nq7E8Ci6YDpC5KKYLu0dHta1lv3G26Yj00ia3qZ9YUTSvpqOmOD3S1T7YWdUx6GIFmqbyrckudmLEurImjcu9N5ETXL+QuMBVCuwUN7vdLQhNkYenreyZoXPFmw+Po9E1Tl1/2568MGv/512uljmVtzx6+Z5zY2mp2LhXX/xyxRTl6l5ziSB6eX7VNbfb66zJW7Yw65Sj5e41l6xctOW4q93iddorJSmxeXXOkq1P7YfXnLf0htoOpC5cllf1lYuc99UfyFoUu+XY1541GD13r7lkdUze35xtuqsmP2Hh/zp27Z7TFXipKHbV/S55Ufqemk7ni/TV789clPy27Vw3ekOy/alRCdv1T9g7T0ZCVFaV0kVKnfLkBO/6NGuhoMRVChDyYT+tqDzUtn/v/ik7GXUNeVm/rTD1tUWszimvaero1Wq1Wm1vR1NNeY6p4dJXXyJIKbkyvqp8qO3Pe6YqV7q6/PQ9DcaNhSzMfEsoajbkSavt7WgWCd+ybEb3Vf2uvN4uW20f7txj6hLUr6S+9abWXsfRtV5KuKJ889o9+mMRsa5YWN/RazwKm5NMye2rejk572+OY9K148+n/L7OnPP1xcI6Y5q7WkVVxeY2dOexLUmb3QSVN0QOsquXG2+3dFf5xnTDHotML666YEh982eWjc6+j7ck59c5TL2XiuJQ89tZqX829x5HrNt51Liem21WiWnem775U7srAGXV5tUWF0YhyZtLhaK2m/pkXKiyaIL3VWWtL2l2fpHhmCcn+O26/b833w2JWJ1TXnOh6VqvgwNRVzDGzSM0JSa1JT7FPdg3j6TY5W/SerC7P8s0B6f4nJqbjpNUk2Oug3kFTQM233vQg6046iBXk9SD3VZmnqhkScEF+25GPW1T8RJzYnaKrbszBy/sNH+ZUn5tvInxgGUBAwCAiM1V9gdC27TPojszZOcF26MwOigtNh+mkJQyqcPeYm3rexYd5OuEtlsaw1EYHR21LvD61G8U3qTttnqp2Cr1YrvOY+8UxdHB5mKLaWriC+ocHBDtJcsdlSOyKiGWhRlCXjrqoKufvil8ySKt77Va5MI7J/jNI8nmNOwSuer2t9j/2IONfMdPKCqbF4iO5jk9ab0UlQcvvGGqXEJ21rk6929WmevMlI9saky3Udm8QDTPXGdOTlS2zFR0cbOrW4ejzcXm/O9rtfpKavHVGxdcrsW7UTkk00FI1htsetO89+yOws2jq81furyMGGx6yxSVQgrqrTM3sagc8pJdmDdt9VKBOfWrj1ov5q2iaLkTXOxJq9BouZLB+gJzvF1SbB/1DQYu7DSnt8BcPrxzgvd+9pI5dUcVLnYGRmXko34yPdi6un07awAAIGRXWbFHo24m4HZd1R+NnWQbK/asZrhYNmJ9cbGxvqv7U03bWLaj+1vxzlMAABCys2zf82NP6Jj0DjHzCralJ6+Mj1iZk7nE5Zzb4QtNTZK+H6y6Q3W9vab+w4SoRVM3c/e6/fvXOxvr5B//uz2bjf+xPQqymorPDX9GlxbnPOViG/7xucXGoNJXcqp+AoMFbKTv35fpNPVL8/ZsNP7n84oamcV33iqKnfVVxp3gck9CxEs7TeG37tN6Yy/2UNPnJcZ0RBcf2Bkf4OT3Ack5+4xxva+k7pKHt3U8PMF7u9pNfycscjFmDSFf9ROJykOXy/box4CEZFb8LtnldNteoGuuP2b8e+f6FFcVIQBARPJaYwiT1bW6GEdj415z2d4KQ67+lDfpuYKIlNydxYc+uyBuuine7Gb8NIMx19k3TGffTK6dW9Ndjbqdk5JpalNaH4W2BqExPiXnrHU313hAQoqpNXa4vtVbo7525aT/zMXXjJSXTKGwrU5qvqHrraLYJ62rN/6d85LTkewAAP4JyS9FxK9M3ryrrGz9ImOpbGv+2LgALyvF5SVdxLL0lKeTk9flFJSWJ3s2Tt/jE3zuXI5HK0TIZ/00Ztxsq9hVoq9YU94qTv8ZTPZbiLu++sz4Z0oEc0inc1M3z2AsBNBXevVt13QQ6a7yBACAtg93luhbRauLi9eFgC88UnlP19XZ2tZWV3ek5pizZeaEJBtz29TeMbQ+ZEqayznJsa634x8T/zxABQBYH4W+rjZTozF6LkOnc9f+nTE3HgxFrL7ta0jmuVneEznLYtykPjrBOvUR+tR7qSgOdbTVGBdJT4hyXT79k0tvNtl81tlhHvP8mwQ3lzaRm0Xtm10vYs3zE5wREm76u6mjE+KxuYweNj+FqNz1cXGePmItKSveOpZnZMep71qbqQaq2x4dtH0sP+7VaQE8iMrKquLf6yuf+LJ97lquk2NI19f1dUdX17Vr33ZdO9fW0VXf7ElDPzImhQf1MgCAvj/u2f/b+gLXneFesTJ6obudypg7NwRAf+SaOrsA9LGj65qpkQf7U5n7Hf7WiTbtWEcRO5Y8ttQ3X+sC/du4vVUUdX1K08cxEeFjWYve7T5TUzt9oZdL61hOcP+YZTnwrv7qpW7PW1XJ/+X0vgBCvunh78G+Xbc/X3+ZH13wbs6Y3nVYk+l6yqmEPZOQ3hqlJw856epKDXfRot/cnzOm1tjeBJeZmpt1yt0afuir//P2VI7fjKC5i+KXp2Zuz8vff+ycZyEZACB681umOU+a98Qvev7tqjpZl9tm3IQwZsxwu0xIRILxz7Z73knMtW6vPLLGmOH+umVuxDLjn7Ihr6Teoih2dZlKBc9/HNdQfV2tpr/nBnj1ImyMJzjjN5vLjA8I9H2clZC8peJ087U+3dAYJndD6EF62NvKQ/Wlmw23XrcV5y2dmqFFvb2Kyd2AeaqEkJzi38VP3YApgCFZRda67S4mkYhYkp6yMiU5Vif8bV6Nk2UYvymreas1Ya++rd9VszerZu8kpNUrdNreB52ECZiEosiZO8FxAXOZHt2g8cw4TvDonZ8KW+Oz9M8s9zUc297g9GYLQj7o4Y7KQ1/s3/Ou/no/ff9ut0NdvGXuXA6AYRxscdNogf2sEBNiMVVC+nt7UuZ4d+0uKas2r95eY9H8C3k6OWFZfEJsTHR4RER0xNwAhr++yHxbJXS1Iv/4N+taGZuf/13NlM7vNQ6MIHMQWifsrc50NdDJ50xCUVT09gJMZCf0anQe3aPxwDhP8PBMYbP/3E05+xu80pOB0JR6qHuwu4R7DdM5pRwpy3Q1hNWx9CMdTidg0mq1WpEHc/+0djmbHH+8uj7eY5jmafXRsvVjrx5dzCrlZjqtrmOvZplmRQr5TfGF7sHe9gufHSreuTE9OSk6gmEMyR5hRP/nZzcHe1trjha8NKYbC5Pm2y7ziKZwRzv2VJcPX0NYdDKvjXCU+okUxZAIU6kYV/d4SNhC09+9Xro7MKETPDy9rL5Xe+2C8E859jOPIOTLpq6tHDHHy03Zvk/ztuifsFxSXPzSuIZ0BAQxGC5SFeTkVmVIhPmR1poOJcDYLwic+rYq7+U6AACIL34razy5muE6U0MznB3zK1V7TE+sLimr++tOV7HUw7t0/v7wbV3Vx8ZBzpHpxW9tTo6OWWgYl9372aZFW057tirXTnV0uWvh9XV3mP6OCDG1kEMi1gIY0tDapYT4cG+kZ2w8KEV9vebUR5pS762iGMQw77uO3j53u/LynrnbmhfNjYheuTBhdU760/4QEBQNoD/MTUq3je2uqvTl5fci5kbGJ0QlZ21z/CKJiZ/gDH9d6+nP6gz/C0neuidnfUJ0dIThwarmsqCUknGsFqFJNXVt5aBAL48BKf69YVKBnW/tjJ7KW68AEVGZpr+PNXjxOSzLqRKKd/5ySnPVpWg19felv5ruunk7pGh1dlPZcqnmt1NiTJ3YSwouNH9WsD4l/qkQhkGQ00uEMatrkrleYKhDWmX8Oz1moWnfRiyMNQWFms+aH0yfZ53UzewyQ+1N5tRHm+dm8VJRZCyMNs0KU9XU7qax23Wtue+r+vpzx/bn12n1g8OeMv++r6HVTZfDUFfr6a7mc/U1h0vyupx0dk/8BFdWZcU/b+zEDsk8Ui86kpOeFB3BMJe+sa8UoUk3qVHZciBNiFeb5YPNh/cYx4Ac27NyamMyQEh0sqlbrG/vsRp3r79tezdmbtTy5YLlW/L3V33htMobvFJhnCoh51h+8hTnqk9pjrNzGa6nLOmr+dDiCaKBQYdZ6vp0c/peU5xIOfpxcfIk3iNvE55zGdhu11W9a/x73fPJFm3KhUs2m8NyqdDd5Gu6mk1+8+KXLxc8v33v/jrl+FJrq+2/6l1uV1f3qWmHpz+/zGJebC8VxYjYFNN12P5PHb8Dw7SOmkPGx6B4KTH6B4L9Y5K3Gb8/Zz37mH1mPq8yZWZzvMMHtSd8gt9rLllvcTtml/DY1oVTXU0gND6TOZ1na5mL+ajteT4P9pL4eNNquxysyWJ65EmaB9vqJa8uZjAeHR0dbSuzGIOz+TOnE/rHxxuf6Ej/L0frc5Fyb8yDffO/zOuILm11ugLr6ZTt12PQJbRYyNm8yt6dB9vFvMeWL0UIyfmrzWTRraZnaQAg/q0mF3N3W73omldmtZsmNg92yhHnU09b7PCQbTZvXPBWUbScBzu64JLTfWA5IM6ynFjNg23/6g7zcq0WrzaxSIO3TvDRUevpyp1Pyo3zYCOfNIlRWVu306K2KHZVzet5HpWNrN45Y2Hyo7Ltq5zi/1PY4ejMH7x21DKC2SXY6jU7xkqkzHGuJjkqW75wAiDe8dsp6N4L++ymY3QQUK1eDeQ8VHj7nVEhmUev2SWb7hW9YVFH277dYXR0dHRQbFFWISRlX5Pjl0aJLQc520X3ib4zKiTzSIf9Tu+ts9yooysP7xRF63dgOHlxltULrGzfGXXTsjDH/+dn9u+/GqVvCjdGOE6Dt07w0dHBZosXWzkryaMYlZGP8nZU1jYdLS0rKy0r2JZiOTzD3buDRkdHxx6VecXOGjVTEZXtm4yRKTl/+sz4JtebrXXCsq3Ww1gcXLPbR2XnL2ua7Khs3WQEiEh/y/hyXK32ZptIWJqTYp6/MCQkxNl6rPdMSKbD5o67xHjE7k2OABCRsuuo43f6ukqMdesKIOTpzOIqUWuX6RXFR3eusxpw5OBSY8JvcgSAiNU7jxre69zbUS8sttqo01c5eaMo2u8Ey5dM277sGSAks9ruiFl1kFgno6tVZHMslhS3WpZ0b53gA1avGXXV84FRGfkkb0dlabFtQ8rhmePQ2KKyoxfNGk1NVB4dHew44vHjrY5fV2wblUN2Ob98mfSobP2aYRciNx+9NmixkwusNulR37X7xHjC8kAXvOXuWISklLW56py+8Ianj/uGvHTUQXt0AlE5/c1i96l/r9V56ideFMe0Exw360ftWuRjSIN3TnDP+q71MCojn+Tl0V59FuN4jeILxMfG8TCxayEvVeRN+SAvO/4LtwqvtQt3JrmuhyLSSy/0XvJgrFNIZsXvpnqQlyX/XxbUt5VbNWhsRaSXXui9dnTzU/4RkaZa1HL8c1fV3p3mUTYv7S92/k5A71q0UdhUs9PxQzYAEevKmtpFO3ku9i4jeV9Tb32Zy+wDhCTvrOq49l+bFzp7U+H4LNwsbP7MaUGKTC+7dE2U62IksreKIiN5X31HldPdaEqM0MngKf+nNgvbm8rWuTjoIcm5wo5zbk6H8Z3gQ1f27zQPMIx39UJJhHyWd4N805sWq46MT99WfsHzFtAY2spu3mc+VW1lM+010dE3c9JXxptqo5Cnk5M37iyvutDhtF0yatNWdjHex03KvdRWNqC1HXVHd25MNr9vJzI+eePO8qqmXsvWi8XtzGhjP6HHfdceJ8YlBwdae1P0p5z0JYbjELEkefOuoyKFw9vEzgz2NgvLd21OTlpoykvEkuT0bQVHa1p7XTS2J9JWNhxQ7c268px1xlIUGZ+8cefRuptjSv14i6I1WttRd7RgW3ry08Z9YEhMh9b+brEjg91Nwj/t3GxORsjCpPScUmFTt5M9OPET3PO+az1sKyOf5Dc6OgoIPZya3/ZLMMywnS7s/szrXTKT60qJX7zhBSjpVb2fjWMeN4TQT85DPeMmQggh9JOCURkhhBDyFRiVEUIIIV+BURkhhBDyFRiVEUIIIV+BURkhhBDyFRiVEUIIIV+BURkhhBDyFTiLCEIIIeQrsK2MEEII+QqMygghhJCvwKiMEEII+QqMygghhJCvwKiMEEII+QqMygghhJCvwKiMEEII+QqMygghhJCvwKiMEEII+QqMygghhJCvwKiMEEII+QqMygghhJCvwKiMEEII+QqMygghhJCvwKiMEEII+QqMygghhJCvwKiMEEII+QqMygghhJCvwKiMEEII+QqMygghhJCvwKiMEEII+QqMygghhJCvwKiMEEII+QqMygghhJCvwKiMEEII+QqMygghhJCvwKiMEEII+QqMygghhJCvwKiMEEII+QqMygghhJCvwKiMEEII+QqMygghhJCvwKiMEEII+QqMygghhJCvwKiMEEII+QqMygghhJCvwKiMEEII+QqMygghhJCvwKiMEEII+QqMygghhJCvwKiMEEII+QqMygghhJCvwKiMEEII+QqMygghhJCvwKiMEEII+QqMygghhJCvwKiMEEII+QqMyggh9PCiVB0yWatS96DTgbzlUe+vsr0y849iAABgZ5W9mxrqZLEe0a48oQoAQFBQlc31fjoQQg8dhfCVQumKfe+vCwcAAFp6eMsBddahQgHjwabLN9D98oZzokbpDZWGoi2/CM54NyYcd9FPwyREZTNVY6sqNZTt+Lur51STuW2E0EOIk/gbtqiqcPfdrNSY6ZpL4tNXgbctDuMNAKU4VVx8Wknbf+PPTt0kcFzPoofQpEVlgiBoWnVJplrDdlRcVNL/q56sTSOEHlrsNUX7iOMVNcKKepoI5Czdvm9rAgZloK4eLz6tpP3DUzdk8RdFsPyNX/iTJPEgE4a8btKi8i/i4r6XSLrPSbtT2WF233Y2nukHVgL/iSaJYrJSgBB6GJHhq3LeXZXzoJPhUzSXRRKa4L1clp8460GnBU2yyevB5sQtU0qqVI1fqNLCbFvLiisNFLDWxHLamiQOfqqRi/9SWye9oR6ggSBZnMVpmVmJ80irZbprX3u92mFzm7PhYNEqptX6WquP1zTKb+poAIIRzk3K2JjOY06zWMJ8L9wBwRtV2VEAAPKPMkvOO1i/R+7Iqj8SittVFA1EIJu7Iss2DSOU6qq4tr6xTaGmaAAgSOb8xSlpaSu4psU0Zwt3nLC5jCEYwfOj12VvTTDtZHllZokYONkHiwSWyeyu3fV6tcoiO3pUt+TMSVFjh1I3BODPCF+UmLEhg8cc26rMCQvOePdAms3xNn+7oqBqk8UQghGN/Hxtbd3VGxqK1uc3PStraTg5zfr3I5Tq6hlhnaMjqBEX7qh0emEXmX3wLQHTsIzt8AXqasW2gxLaPneWXBYM25IwoGw8Kax1Xm71+4Gz4WBRrMpYGAgyjCt4YWNGjF0KRijlZaGwxsXO0Yj37qjsBABgrXv3/bW2e930rc0RB42s+kS1kyNukWubg2U6jubP9cXDblyIwx3u/liPrdxaUAhfKRQNEII3TtguMCKv3FQiprkvHypIdNHedlXh6FPljPMxMZ7uQ2MCzooam+RKHQ1gOCipL6zhhxkLz8ANWScQK1ITn9DJzwiFdS1KHQ0EyY4SpGWu4Yda141ucqRfQFy4o1IRmX2wME5Vc0R4Xq4aoB3XSwAwoJLU1zbWt93QGGomFmdxynNpgij31SB9tWLDQUeVvF3t4fq8oC6VbjksM5zRNnk9W7jjhIJMKTr6IsfxCRuZffAttsiD0kW1V+b9UawDhmDPwexF5i4ITV3hjk8UMEtQUJrNtdvZAOC6nCxc+fs3N/7SyZcOTOJ95fCYRHaVUPV/paq11p3YI4qWSxSErY2dB212v9JcOlB4WKoDAH8GK3g6UFp1R8ORPZdrV+Xv22CxQ3Q6NQARyAqy2EfDd9W6IevVjWgkfyqskOoAgGCwWI/BvTtK2enSHRdjc97M5QdbL+zPYD0x3fIDByscn35xYX6lggYikMWaBffuqGSnS/M6ssv2CAwnwIhGXJxXeZ0GIEgmi/UIAKVVa+QNJ+SXr1gsBgDWuR6+q9b1yxvKd387UObyWkEj/rDa/ka+5nxJ3kdyGgx7e/iuWtlaW9raKHijLDvKcelztipjThul3WnWvSOqlnpHcbNfcuDtCukdACAYwazpP97TauQNH+y+XCPI/6NF0R/RiEvzKttpMBzBYW2//ggKCkqzudOmM4JZLP2SP97TaiiaIFmzAgy/nT3dad/ekLz6I4mDW3QOeVAwqOvC4n0iJQ1AkKzgIPjeUG7Fa/bsyeRY7UqVuOSkSD5EkEwWi9aqu2W1ZTsaVxSUbbIo3pRC+Hax6JahPAQ9Mqztlzd8sPvy31P3vJnFsTsyavuzrKflXKeDrNifX/ojHrutKHfZ2K81PeThsXaUXleFzYCT+GuW6JS6QSrPjrIOkR3SBhqAl+jivrS7Cmc6aSpgMKzt19FAMIKDjKWBnO5ktZ4zRgJjAmBY269TttZWtDYqTKdht0IOEM6iRMU7hNdpU1JVrbUVraLGTWUFK8zHztMqFACgR1y6Q9ROE4EsVvCwtl9lPrNMyxnrLiBIVjALAO7dUas7Gio7Lks2uK5zAAz1NBAMVtBj5g/v3VFT9ueey/OCjE3iH5ZJOiVtGoF1WNa0SRQAZNISjvkzmxPWaT1gW7rIqKycVS0lZ3XiQ9X8g1kcfa3bLyr/RAHAELya5bKsAliVDQAA+F6r1nlazZhM5miv0LiVkcLKTrtqurOlYQDYv+GxQW77k+7a0sNSHRDczKLc1YbraKpDWPyOSHm29B12WdEKqwMSnl5gWSz0bVlLipOFFVIdzOLnFObw9QuOaGSfHDhwVlrxXm34vjS25VXh0pz3rS9s7Vc4LjrJCaGCBsaK/LINPHIawICs8o1S8fXK401L85eRAKD6vLTyOg2Raft2ZYQHGn5GdQgLi0Wq60LRdUH2Iqe5plo//F1Zg6JKJF/ldCg7dbVaaF9HdwoLP5LTwOBvL8pJMKxQVVe4+xOFuOw494OcWH+7nzhblT5hUVx1u1zypXXvSI+ssdtu0RFV7XsV0jtARGUVbU81ZHlALtxXKrolLn03tKzQcOopThZWttPWR1AlKt4tvC4uPcE9ui0x90CiYZ36y/9fZBTYXU3bU31eKR5wt5CJ24Khk5TvEylpgrOu6PXfGsvtTfEH71VKzxQff/JwzmLz2aw4L4JZ/Jx3DNmhbta+U1StOF9azjmYv4xhXF2x6BZNLMgo+n2acecoxUdLK6Wi4o/mH94ea1E5hHOj1PJ2iawnjW3xvIOqtdFBMOsUFh6W6qyPuKa18sBBsfRwaW34u2n2N5smzuNjbc9FYbPEXrySfUqouiiVb+ByzWc0Lb3cQAPBT4pzWpe6r3A4GQfezzAsrW8PJeUc8N4zI0PS42ViHZD8bX/MMV0VjajE+wsrZTpxzeW0KAEDAEaABkkvNyQAACAASURBVND8/bjwzszYVwq2L2UT0wAANE0VheUS+UeFlaHGtt2YqtBOsciyMAwoa98rrL4uLi3nHMznMwAAVKL3KhU0cNbuez3d2LExQsk/LSypU7mucywlbXvfohvD3Itjyc154c+LW0ZILikkrRqB5aWA/uozbG1ipMW67E5YsI81jksXwX0hRyAtEd8RHflr4rtr2TCiqn1PqABgryuwbD07y6ht2XDZ2ebMpD6vzIzmcwDUjV9Y1Q9yiZgCzsrF9oPAaOmZ0yoAckV+/hpz1xa5KGvPq3wCaMUpsWLE6gcshsthIAOS02d0AJysN40VOgBMY/I25GZFAnSfrm0d81XMeFCKjt4g0p+/MZNnyFQgLzYGAOA+dR8AADTyDprhT6ZmmUMyAJCLMjISAIDu6ta4WD35TGw0ALjIir5dOIvH+4Xlp7T07yIdAHtdgamCBgB2Su7GKIIxS6Xq8XxVBsQz/KRAULXILZOram1UAZu/jGO5JN1ae7obIFCQn5tqznIgN+vN7XwC6OvV4uv6zUnFZ3QA7IzXLY8gO3XHRq4/I0ilGucwfo34yCkVweN5q25V1B2X0UA+m/v6WotyO0+w/RUBCbSkpsE6nVbZIeelvf4qnwBaVmOMo52i4zIaApNyd6VZ7JxwwbYcQSDQTdUNVoeG4CUkkaBqabfa67JLKgjj8y2rKqAkNSIdAOfFIssjzozJzs3kAKhOn5FOxvng6bG257KwWQmNWxkJQDc0Wp7RQ7KWKzQQcXFRzirTMVc4Xkdfv6FgkETUi1mWHRXT2IL1a1gAcL1HXyQ0PV0AoLujI1fkbH/WEJIBgJmQU7CODaAT/0WiG1eOrE7/wPC0Xdv5BNCyU4Yr6X65fJhBBKa+mG5xr2Eayf2PDD4A0F0qVzWTiZt62pQWl+cFEbs0iQBQ1LdYnk36q0/2Mt6Yh6A7K13+3KxXBQwA1akjon5QnCyp7gaIzMr/7dQNcp/cWUSYMXyOvnvN9NGIXHqRhqikOPvL4xG57BINwFqzkmtzGpGLBYJAgIGGli7DJ5RODQAzXY4+pDtkMgDgCZJseqqBGfcrDgDd0nFjHJkaMzJ264H3j35kbnrqOmurLwIAGRGqL61MQf77hz46mrXA5pcE6abDBABAdfZ0CwCEMZ2VfNXnleIBUvBKFs9yb43IZU0AwFm51Ka0MRLfOHHowL60eR6vymQal7eYgE5Jm/lcVUkvqCAsMc56bfJWCQ3A+vVKrk1znIwVrCIBqIb/XwEAcF0mAYDIlXybNhwjseCjQ+8Xp4U7ybJLlPSkUAGcrI2pXjrPVHIpBUAmLefZHC4iKnYpAdDdIr9j8SkvTWCdHfKXiUkEQH+LrB8AQNUupQDIZxNtV+fPjU0gAFQtHVYzRhBP8ZYSoLDc693Sc93AXhZndSk0JDecD3Y91cxYPgeAviKfjPPB02Ntx01hs8KMW84FoFu+kJnCMt3e0kID8Wyiwy4fgLFVOJOEeCbr/YNHT7xhd9fbn3zCweIOkspOSuUCQHuLfGAcOeKlrbA+CcjYxGcJALXhIi9YkH/g0IkPjH25Fsmb6VkGdd+pAJ4gnR0C67S4Pi9gEV8QCNDdKDNflapkl1TguI3nhovSRSzKylnFAFBU73vtwBkdEJzsnFTbe+2TaVKfVwZgxiVFVSrazZ3YdGtjAw3cBJ6DEHJH/S0AAI/joBuNHf4kgIxS9VIQSQLA/QEdQDiTZb+kmbpHAQDwtXB37inb777XAgD9jUoD3LHeTFOc2JF5wvgffwZrXrSHAx+su25I7oaibPur+BGaomht/w3lNzdk0qY2R/WVsqbktb8b/0Np1QM0+HOzf+8kxujbhQm5GVHTL1vuBsPejmB7nn9nq7LAjU0izoulHTrBswwAgG5pYz+wM3nh0GK5IrUKAIAX6SDJ7LD5ADLqWzUFnPt93wIAhI8hjW7R7dUfNNHsdS8LmLpKr6xxqEfVDwB0w59fk9pd5d4DAFD0qACMQ2dZnHDba61prNBfAHQqNWqAYLpHpQYA+mLFa1K7bVEAAIp/qgAsTqBHuLHPEuLzUrlOoK/dVV80qoGdFWOz11UKAAC5cO9rdkdvWAuGpo/5fDhfkunR7RtxSaaLPjpPj7XtPvGgsFliPMPnglx+pUW2MTbWHwBo2VUJDWQq33mHyFgqnHHydB8CAMAQRQ2ou7qVitaWlla50uIbBoMFoHCcVAaTTYCcvqHsB/4TY8xR8HzLzjk9FjscQKHsUwNYn3Y0RQ1pVQpll0ImbWrz8ALu/gAF8DOWB+PG3Z0XANM4cctIUZ3FNBjd0nPd4LiN55qb0mXsx9aodUBwMrcLbNt1k2uSozIweAlcaJefuaRIy+QA0LIvWmjg8p8Z6wOIJGMOgKHLlwQAVbcSgM9ydD1potOqAQCGdGqvjNgyshpiRmn1Ax/qHIykcPDT6bNZrAH9WCFK/rdqSUyuqcdG01p9/KRY3m05DIIg/B10TdMDarXNPdGhG9J2jSDYvmwa2oXZL8SS4FFnk3OerYrDjSPEkqty6lk+CaC4dEYNnOzFbGj1dDMkgwUAcO/+/Ykl17ERlegTMRUoyF3NBvDSHIUD+nJGUxo15cHiT7gZIWQotg6OsnPzo+KI85KWdipxGQmgaPy7GiKz40KtR1PqB94Arev3bKoAuzFuhktAW3YjXPTD7jzYguWxtj53xl5uGXGJvCNyWUtL+8uxsQQMtDQ0AQQmxdn2P3nItsIZJ0/24YCy8aSwukluOX6Q8CcIi1OfcNU0ZTFDAW5R9CCAq/rQUY4CPRitNqKR1RzXD9I2f+hPePaMtEalBAhmetLQdHdeAABwliSRdSLTNBiKS2fUALylY51kxoPS5T8/NoYUn6cAZkaETfXj8pMdlY3XsBdbFJkczpCs5RLtekikE5TuNoD5BoVK+TVAMDvUZcfIdH8SgCJWFZzY4M0JPW0GW9HdouI9QsXZA6eX2HdB22Ak7ng/EQBGKNmJvNLz0iP/Rxq3LZYA0JwtzDuhoIFgzONFc+ZzosLZIfPDg8kbJxwMN7N6IGeE1nWJDrxdLf+oUBh+KMvqPqJlu3CCmfZ4Vf68uFiQNEnaBvj8QEXLRQoi+dFj2br+3gSwghheC5tmmvNHqrsJ/o4M297UifCfORMAgJNdXiTwoE1Au7lVOXNmAAAAZ9OhohWenidEVFwcSCTNbdQyPtnZ0jAAnHS7vT6DIAEoQlBwwrPBSnZDZhw9mAcORri4flzNguWxtjSuckvGJfGPyCQtX8hejo2lZRIZAOvXiRz3P3SSNKsKZ7zc7kNKXvlGifgOEIEsbgyPw+HMD2Ozw9nM+w1W+1B/7BxvQ6255UlKHeWIdnftZHo2xJ8RHhM9n8PhhbGZnHB24A2XD4wZDSmVtwAS2C77NI1p8eQWfmTi2jCRsLtR1pPKDlW0XKQA+EmxY7ts8qR00R3CivP6/a0THxLGlmV7s8ZwZ/LfTsGIS+QBDDS0dAL9ZYsEgP+skyGRs9gRBADIFI6G7Cq/AQCSMZsAANAp5P1A8Diubyaww+aDoZt6EhFhqRnPEgCUtMPjsUfTSF5qarjpTt6A5PgJBQ0MwRuHDxXnb92QlhjD44SSxDT3Zw1MIxiRaS+uJAF0DS3WNeGPhnZh9mpH+ykwiAUA4GC8hur0axtefa30vMUXrldlheDF8gFksg4arrc0DAB3uX33EpMdTgCArNPBHlPdugEA5CwGYei4A1A6SGNt7oZXc0vF/e6SY4mSVlcpIDIrY/EEWj/2AlnsQABQ9nh2/JU37SZNHFH33AIATigbAEjWz0gAUP5zLEPZ/HlxCQAymXxIPxkAN2mx3V4PDp8Pno/Q8RZPj7XZGAqbFSIqLo4A+lKLbIhqa5YBsN3cbvS8wpk0itoD4jtALMguO/R+wfbsjFV83qJwJknAj9anvv7YOTpboVshAwDgsJljz9EtpdKuH1GtUgIA5+dsAKCajldep2GWoKD80L68rdnPJfJiOOxAAkbc10wAALdutAFwnuJ4shPdnRd6bN4yNoDq3FWV/lkeYlkcb0zx0pPSNSQXHhLrgOBt25fDI+COuOKkfEoGBhtMwTujyOh4HgDV0CKXSSUA/LhnnByjafO5SwgA9ZlztruA+kIsHgAglvIiAAB0X0rkQCTFuLniJ6PiuADQeU5iW0Zp+UdbNrzy2q4qL+1rl/0zVIewJPfV3aeUTpdQ6s+ruNgo2248SZNH2ydnBgAATQ9bftgjOlLdTfA3OWkX+nN5PABQnLtsXV2OqKRX1LTuHjvMXK27WZU14pk4PkBLq0wmbaCc3K2YHxVHAKj/fk5uUylQUvE5CoBYGsUBAGIRjweOjmC3VNJP6yh2xBz36TG6L/3vDyQ0O2PrxDsObHDilpEAdMNFqW1rRiMuzNzwam5po+XVg7RFZr0c9UVjAw0QFsedBQDA+R9JJAB9sdHB6vZmbnj1tdJ6+7pZfzHU0vKlrOUSBVF8BwM3ArlxUeDgiAPQ7ZVbNmx57XXhZNQ9Hh5rkzEVNiv++pFKLfIv22QygMiVcc5ejaPncYUzaTRdX1MAEL4k2qaPV9XUqLT8v/HY1Z6z6YOgZHVn1GAMTmPOUUvLlzZlUdp4kQZgxy1iAECXvmaKibW5OUd9IbnsQfYU0gYKOJ7er3R3XuixF6/kAKjb5NJ2KQVE0tLYMV03eVC6aPnJCvEdIBZkbVwWzt+YxSFAd7ZC2DF1cXkq3uRI8vg8AOrigQ+aXF/aELFr1rIBqPOlpWeUlLFDg+oQFh+S0EBwXkrlTgMYUYhOySFQwF/kbD1GDH7aKgaAqvqdA+KbxgM+Qqsullecp+iBYV6cYaSipnv8g091nbXV9TQAGbvI8cUX6U+o+nXK06UVTcbKdEQlPnFaCUAs4c4HgJBQDgDA5cYmc5ct3S+rfLvco3kuBmTnLqgBgDvP8oRTiM+7bheS/PRUBoDqVIlFwij5yYrT3QCRGQJzb7zbVVnz5/J4QF85fsRZeAAgYtLWhgEMiEsPiJSmu6cDcuHb5RIaiAVZqfqnGwP5a9foj2CFRGOx2KHTKgBOusB2aKgrEvF5ilyRnToJj+RyVmVwCKCbyotPyDSmjjidXPieUAH0/bl8nuVoEVpS/m6tKdfUzdp3DkloIAUvGl8wsECQsYAAWlL+dqXMlOsRnbzqgLAT6PuhfPuJwAxXMHTLx0caBpyMpgQG/zn9Ix8lB86azy+6u7H8AzFFU8PPxNmO3PUGT4+1wRgLmzUuX0ACffljYQs47KSxTZpHFc4kMnQkKCQNSlNAGtEpzh4oOWVz5cRIXJfKANCdOWB57FRnDxy4SAHByUrXB6ex5oiWHHqn1lQ3Dihr3y2X0ECuyBaEAgCw2BwAgKuNEtNDBCO0prWy+JAHNZNOcvocNYahWG7PCz1mXFIUQGft8Qtqj6KAFfeli+4QVpzVAcHJelXABACmYPsLHH0/tu1l5aSZ9PvKAACBcUkJFbImigKC/0uXjzmEpeVv6yo8LJVX7d5Sw2A9Md04OIJgrcp/fQVTd/HAH07K1DoAf0lFnu0Q1eG7APohyl+n/WFHIgMI7otF2T15le3Syj1SIYMV9JhpViaCu6koKxIUJ1+ruDKs7dcBAPdJj3rMLIdAmyapYazIXevspvK8NTkrGkvO6yTlO1pOsIJI469M5xJzacaK2pLzOkn5q/oFTCOrU1cMi87bjoe0GoNtHFlDMNPWJtgUNXftwsisok3KvI/kpoQZds6s2Jwcmx+OqYlJRsfzQCbT0c4HYkxjp/0+p+vtCmm7cPcr1YzgoOnmjAjyd5m3xXmhKPtWXmW7pGJHy3FmUMAj+vmVgBGbs33FGBu9BP+V/zkZcQeAKXg9r2d3mVh5tnRHPcmaFQCW2dnOt9oJkZzwm9W7XznNCA6abpj6h+Cs25NhHpDPFOzK73mjVHxLXLqjgWQGBTxiKjMsQZ7N6owCo/nGvZ4Y43ivE4uyizap8j6SS0/slp5ksJ6Ybpp7iIjKLnphvDdhXfP4WBtNoD9jQVxSoEh0RwceDil1V+GMLxWe46ZmcS5WKjprd28RMYKDphunD2M9K+C3iiUDXao7YGgpGs9W07EzVmUM/qu55kHCY8sRhzNPWb1ny2kGK+gxw5lFLMjYYzxNmMsyBH8rEd+RVGzXn32GckhEpQoGReJOZY/GdqS2nuLkaxX1WjUNhLL2D7m1Nt/euwMA0HD4NdmzOe+bSp3780KPEbeUd6RdprsDZErcWK7L9VyWLkrfdw2cF7abFmKuejnj4q7qbnFFVazVBHyTZkqisr57rUkCRFJijJtakbks99BTstqTosb2G+p+HRAkO0aQmr5WP4nr/SGdYQIz5yOr6QG1+rthw6XcNKYg/2j0l6eP1zTKb6rVAODPCI8xT/w7fF+t7gcgSHbsxpeXetTTYj04lmDM4/JXZqxdajes34zkbjp0kFdtSMMAgD+Duywj64VE42MJJHdD2b4nhcKTl+U6tXqAIJnzk9LT0lZwmT210vMKdZNM8SLXVP5sRucSjHCe/czeAJ60C5krCg4vkJw5WStuV6kHgAhkcZPXZT/HZ1s/LzHWJiYZFccFmRx4fNtHbi0E83MPzpedqRbVt93oV+uAIMN4gpSMtTbzYE9jCvIPc6+eEf5FLO9Wq4EgmVzBC9lrF7Ntp8t2h5OZMcZxIWNARmW/f5Df+H+qa6U31P1qAIJkcpc6nNY7PKPoP2nhB0fEHWodEIxFSRn207yT3Oz3DvIvn6quuXpDo9ZPLstdlmZRZhwkgbvYsNejnS4DzBUFR6Nkpz+ubuxQqvsBgGDM4yWmO5qI24s8PNb6bEyoP8Mw+6bnQ0pdVziTLlhQVMaqPiEUt6t0/WrwZ4THpKW+sIYfRkjLxZImhbTd+JCh/myd1yisqm27aai1WIscvCNgLDmKyNiznf70yJF6uVoHBIOb9IJ1iSW52X/cF64fIq5RUwTJ4iRlPJcmiGKqTkvFnerLrYrsRQ4u5obvG+ooF48S0Dq1+r7FTTdPzgt9ovSzb9rMsukZl6WLkv93hfgOQFjGy5bTh01jp23PkLxerTpfUR3rYipi7xl9qKj/vnf9+r1n1S4W+er4+vXr33S5CEIPgvrve9evX7/+2FcPOiE/Zd/W7Fi//n+Vtww/6IT4NvXZvevXr19/fJLK4lfH3K1cn4BjX42O47wYbClfv359/plvJ55QnzQV95URQmgqjCga/672pE8OPbx0V8USAE5y3NTNgTm1MCojhB5yI/p/lPKvn4gHgJ22cpJHaaEHQT94TSMRnpIDwV8zea84e9Cm5r4yQghNmjsW85bMEmSv+qk2ov6tyc1TKhGcDZM4RuSBe8iiMnNVUdUq14tws6uqsqckMQghnzCLPT+QUAwAuWDpK//b9Qub0VTgbqqq2uRyCaagqEowpnWywrkEyGl/Nu+5l7e7e6/zQ81vdHT0QacBIYQQQgB4XxkhhBDyHRiVEUIIIV+BURkhhBDyFRiVEUIIIV8xVVG5vTIzMzNzr3hKXyLnoxTCVzJfM79CipYe3pBZJPb6u4QRQgg9dB6yJ6N+EjiJv2GLqgp3381KjZmuuSQ+fRV42zyctRchhNBPGUblB4C9pmgfcbyiRlhRTxOBnKXb921NwKCMEEIIo/KDQYavynl3Vc6DTgZCCCHfMjlReYRSXta/l5AmAtlx6TkbQw3fDGtkwg+OiDt0NEGyowRZmzJ4+reHDkhKX6mQASf7YJHt2y814sIdlYrA1KJDWZyOysw/imFFQdUmrtUiZwt3nFCYP9f/BAQFVdmG5Si5sOiAuJsK33CwaBWI9+6o7LTflrwys0RsmQb79ehXdrVi20EJbZdaTav+dY06GoBghHNtX7Bot3697tpdr1erAARvVGVbvQHelu7L6iNVYnk3RQNBhnEFL9i9gG9AJamvbaxvu6GhaAAgSBZnccpzaYIo02Ia8d4dlZ3W6/VnsOZFr9u0lR9qXmoMGR+hVFfPCOucZNzjVRkOIgAEZ7x7IM1m1kTztzZHXyMX/6W2TnpDPUDr82v/bjsAgBGN/Hxtbd3VGxqKBoJkzl9sfM2iec2OcDYcLFrFtC1gxkxIy7cdaKIhMvvgW+N9JTBCCFmYjKhMyU/klZzXARCMYNZ0Si05sVs+iwEA0F9bkqfTAckKZg3fVataa0vb5dmlRYJggMC4pIQKWZNC0qoRWM+mpmmVKADIZ8fxgmsTWnqiVNQNJJPF8CcA6Anlb0he/ZHEdhUjGsmfCiukOgAgGCzWY3DvjlJ2unTHxdicN3P5wY7WY6ARf1it8mCzmrOFeScUNBAkkxUE97TdstqyPPmGsiLT7uoXF+ZXKmgAgmQFswDg3h21uqOhsuOyxHIxAACCZAYFGIb6DWv7deqOhoo3vr2vPxZjzLi4NK+ynTZmfFjbr8+4oKDU+dyHDldl0t8o7U5jW70GVdVS7yBwai4dKDws1QGAP4MVPB0orbqj4ciey7Wr8vdtsNg4Ja98o1SsocG09zTyhg92X27MLtsjIPwZ+t0FAPpXxBOBrCDjjxn+Tt8+RLdXf9A0sbKEEELWvB+VqavHS8/rYFbsy7tzE0MBAFR1hbs/UQAADOjuL8h6d08qexrACCU7kVd6XiH8/8TRhQImELzFfKJJopC0aVZZNjv01TF7beKYX3Btpmk4c4kmVxQc3sQlAAAmNBJc9Xml2O493oqThRVSHczi5xTm8PWpH9HIPjlw4Ky04r3a8H1pbCeXFNTVamGn46+s6CTHqxQ0MASvl2U/QwIA9WVl3jtixYnjkoR8fiAAqETvVSpo4Kzd93q68b3lI5T808KSOpWiSiRfZdlUDc/YY9XYlR39XelFhfDvcsEGLjjhLOOV7bR1xlWi4t3C6+LSE9yj22IdxjSHqzKkLIqrbpdLvlSlhVm0lntkjd12i3bXlh6W6oDgZhblrjZkmeoQFr8jUp4tfYddVrSCadh35aViDU0syCj6fVp4IAAADMgq3ygVX68s/Zz77prc9581rFLfJg5PLyhyO9HuiEr0iZhysxBCCI2N15+M0lwWSWgg+C+9kmjsDmWn5G40dMyyM7amGuLTNJK3ITc1EOjr1eJOAAAiJjGJAOg819JjsT59dRyWyAuFcVNdPacAMulXXC+8c1UjPnJKRfB4VrFrQHL6jA6Ak/WmMTIBwDQmb0NuViRA9+naVictKn2TcRaP9ws3m6UUHT0Mkli2MesZQyOOfCY2DgDg/v0hAADol8uHGURg6oumkAwA00juf2TwAYDuUrm4FJlG8mKjAYAecb6Mw4wPScVndADsjNctM85O3bGR688IUqkc9wE4XJUR8Qw/KRBULXLL9KpaG1XA5i+zvDKjpWdOqwDIFfn5a8xZJhdl7XmVTwCtOCVW6LPT3XhKRgPB377LGJIBIJCX/Z+pjEAWreoZX2TVnD9S3e0sEwghNE7ejsoDN2SdABAX94xl3yWD+0w4AEAgb75lcJ3GiXuWBKDkNzQAANO4/JUkgKqx1VyZq1obVRN8wfWIovFvKghbmxg57lWYUNKTQgVwsjamWqaH7pDJAIAnSLLt/mXG/YoDQLd03HC4OtXnleIBUvBKFs/d9QIZu/X9g0dPmJqeIzrF6eoGAAiMYOsjTbAg/8ChEx9k2fbz+5Mz3WZrRCX6WwsAsFnOhoI7zjhcl0kAIHIlP8x6cUZiwUeH3i9OC/d8VSbTuLzFBHRK2sxhWSW9oIKwxLh5lmmWyy7RAKw1K20vtsjFAkEgwEBDSxcAgKa9RQ1APJto++q3BVmHPnj//VfG9UY4SlpdpYDIrI2r8aWBCCFv8nYPdr/yBgD8Ijzc3+pjZth8ACUEM21qfcZsNoBC2acGYAIAJzaJrBOpLslUa9hsAEN1DNykxdbdiedLMs97lp4RWvX5J6IBgvcif+LVp/4+InvdywKmrtLic3WPAgDga+Hu3FO2v/leCwD0NyoNcG27RPVNxoTcjKjpl+1+55TG4lWyJDe7MJvrb7cMTVFDWpVC2aWQSZvaHF0RKKuLX6szXpLdu6OmaCCisvOdxBhnGdf0fQsAEM72fKCTs1VZ4sYmEefF0g6d4FkGAEC3tLEf2Jm8cGgxL3RH/S0AAI8TZr8CdviTADJK1UtBJKnuUwJAOJtlv9x40fL//kBCszO2usgEQgiNh7ej8iBNAQAx3q7iBXFJgSJRd6OsJ5UdCtDZeKYfgJdoO8WGP4P1xHSrTyitesC+l1hc8pIYgMHfVpazbMIPBOvvIwYKclezAaxm4tJp1QAAQzr1kOerMzQZs1+IJcd0n3vadEYwiwXD2n4dTclrT0qic42dxyMaWc1x4Xm5ynJX+Ds8GDSlUdv03NIKadttgYPRXs4zPmYerorDjSPEkqty6lk+CaC4dEYNnOzFbGj1cDMkYw4AwH3qPsAkvGu3W1R5niJX5KaGTXR/IISQDW9HZQaDBaDu1+j0jd8x0897pWpsVaWGshUtDRQA/9k425p1ac77Dp+MssXNyOPrTh0XHy2ZPv0PWxdPKDDr7yPyd2TYt02n+5MAFLGq4ITzoVI2LJqMY0zHrMTcA4kAxvFK0iPV0ricWAJGNOLivMrrNPgzwmOi53M4vDA2kxPODrxRmVkitl2L9aNNtE5x5kDxKXnl28KIg7Z94C4yPlaersqfFxcLkiZJ2wCfH6houUhBJD96DDuK0t0GAGAxJmNuFo34w2oVwc/9n94YpoAQQta8fV+ZwQwFgAGdzrrVqOvvAgAYoIatF1erlAAQHmLuXWTHJLIBVBekKlC0XKSA4Mc9M+7aj82JScx+M18QqG44uNujoc7OGO8jZix20PZih80HQze1Z340NBmzJ3JXMpCXmhJuumlNNR2vvE7DLEFB+aF9eVuzn0vkxXDYgQSM0O6f3SEYZyedLQAAIABJREFUnN++KAgEuGO4F2vmMuMMBgsAQGmfcVVt7oZXc0vF/Z6uyiZBvFg+gEzWQcP1loYB4C6Psw3Ks9gRBADIFPZjs0dUym8AgGTMJgCAEcQCAKVKbbvYkLRiw5bXcoWysTzcpB8zz8nMGNftaIQQcsPbUTlwPi8SAFpavrTsH6UVXysAAPrlCssevyG59CoNwObzLKrc0LiVkQD9bfKrcukAEM8mxk6wiUZyM7YmkaATfVircjHG2JX7UtN9RIdbiIrjAkDnOYlthKDlH23Z8Mpru6rkljV/j+hIdTfB3+R565OSV5W89uru6ptOl+hSyAAAYmJtHhGmvpBc9mQL08iZJADQtNV1k5uME4t4PHCU8W6ppJ/WUeyIOZ6uynbNz8TxAVpaZTJpAwVc/jN2rd5p87lLCAD1mXNym6hKfSEWDwAQS3kRAADsqFgSgL7YKLXusqe+bGmhKTWLHe75VR8lrf5IQodlvLwCpwxBCE0Krz8ZxUz6DZ8AWnLoHZHxASfqS+HxJv2f8k+OiA2hcUTVeLhCPAAEL41v9dQTM245F0BR+7FYDaSA74UnT8hn1m3kEdBdfeT8+J5UlojPU+SK7FQHA4sAAIDBT1vFAFBVv3NAfNNY94/QqovlFecpemCYF2fZ26kQn/ewyWjOwUxCpdYpa9+rkJhy0CM+/hclABG3aD4AsNgcAICrjZI7xgVGaE1rZfEh55N1WKC+PCfuBwCu9eApdxkP5K9do8+4RcIG5MJDp1UAnHSBRWe4u1XZ8OfyeEBfOX7kEgVRfJ6Drmgids1aNgB1vrT0jJIyXm9RHcLiQxIaCM5LqVz91iNTN/IIoCXl79YqTQ9J9zR+8LGEBlKwhj+Gbu4msXiAFLyY6uzpc4QQmiDvzyJCxG7MX6UoPasQ5m04zQwKoLVqHc2YxYA7OiAIWl65a2st64np+nG/MEuQv922WmTEJPJALrujg8DUOC88zgQADP7GLPGOSkXVccnifOP2rMYhAwDAsNb4uTz9D7nPWqSL4L/i6j4iwX2xKLsnr7JdWrlHKmSwgh6D4btq3RAAENxNRVm2ufC0yWgSnpojuFgiviOp2NFynBkUAPe0GooGIBZkZcQQAMBcliH4W4n4jqRie8txZlDAI6aR1amCQZG4U9mjsbzVb513w1g5grV2LT/QesNuMg6cF4qyb+VVthsT9siwtl9HAzBic7bbNCjdrcoaGR3PA5lMRwNvqZMXaoWl5W/rKjwslVft3lLDYD0x3ZyRVfmvm7fO4G/PV7xRKr5evfuV04zgoOk/6vceEb7m9Yyosd0fIRJecf0TwxAHnIMTITQukzHjJsnd8H5ZlPDIUbFco6YD2fwNORtDGre8I4ZfZO3739NrD37S0q2jCZKdkJGzQRBu32I0zL45wVk2rTEFL66pLTwjO/KJNHp7OAA4HIds+lw3ZNXCdH8fcRpTkH80+svTx2sa5TfVagDwZ4THJGZsyODZ1c1jaDKaf8PNPniQV3O8ukGu1KgpAILBTXrBMJOzYYE/7gs/Kaxukus0aoogWZykjOfSBFFM1WmpuFN9uVWRvcg0C4dN3gnGPF5iut2s2p5m/DD36hnhX8TybrUaCJLJFbyQvXYxm7Q+dmO9F0tGxXFBJgcen+f0Z8xluYeektWeFDW231D364Ag2TGC1PS1tvNgk9zs98piz9fW/uWyvF8NQDDm8VNfyEiNGmvc5GS9gDeUEUKTyG90dHQqttNemflHsccNCFpavuFAEzur7N3UCUzpNU4aceGOSthw0P2ciwghhJBXef2+sjfoJOImgMiVcVMfkhFCCKEHx5eismEUmEbyabUcCH7qUmyrIoQQ+rcyOe9XHh/9u5MBAIBYkJ3xS7x/hxBC6N+LL0XlkHCuP8iHCHbM2pdfFTAf1MMnTEFRleABbRshhNC/taka7YUQQgghd3zpvjJCCCH07w2jMkIIIeQrMCojhBBCvgKjMkIIIeQrMCojhBBCvgKjMkIIIeQrMCojhBBCvgKjMkIIIeQrMCojhBBCvgKjMkIIIeQrMCojhBBCvgKjMkIIIeQrfOmdUciOVqtVKBSPP/74z372s8HBwVu3bt27d+/pp58mCEKj0fT29rJYrLCwMJLEt14ihNBPAb4zynd99913//znP2/evNne3v7000/PmTPnzp07X3/99fz58+fMmfPjjz+q1equrq41a9ZwOBx/f/8HnV6EEEIThT3Yvqurq6urq2vWrFlHjx4VCoX//Oc/g4KCbt++/dlnn7W0tEyfPv1nP/tZZWVla2vr3bt3H3RiEUIIeQFGZd81PDxM03RgYGBAQMBzzz2XlpYWHh4eEBAQEBAQExOzZMmS2bNn379/f2Rk5EGnFCGEkHdgVPZdixYtWrRo0Y0bNyIjI8PCwgICAgYHB+Vy+YIFC0JDQwcHB3t6embMmBEWFhYUFPSgE4sQQsgLMCr7LgaDQRDEtWvXFixYMGfOnEceeeT+/ftffvnlk08+GRwc3NfX949//CM8PJym6f7+fq1W+6DTixBCaKIwKvs0nU537dq1+fPnMxiMwcHB77777u7du6GhoY8//nh/f39HR0d0dLRKpbp169bw8PCDTixCCKGJwqjs0yiK6unpWbBgAYPB+O677/r7+7lcblBQEEEQQ0NDg4OD0dHR33333cjISHBw8INOLEIIoYma9oc//OFBpwE5NTw8/OijjwoEAgaDMTQ09OOPP0ZERPB4vBkzZsyYMWP27NmdnZ2JiYlRUVH4ZBRCCP0E4PPKPu3evXv9/f0///nPCYL4/vvv7927NzQ0xGKxCIIYHh6+e/euWq1ms9mBgYHTpk170IlFCCE0URiVEUIIIV+B95URQgghX4HzYD9goxZMnwCAn5+f6W8TPz9P+zb8/PwefRQPLkIIPWSw4n7Abt68efnyZYlEcvv27du3b1MU5ZXVPv3003/+859JksT7zQgh9BDBqPyAPfroo4ODg/X19VqtdmBg4Oc///ny5cuffvppT6IpTdNqtXpoaEir1arV6r6+PoVCoZ+D8/79++fPn09KSmIwGFOQC4QQQl6BUfkBCwoKevLJJ0NDQ/v7+2maJghi7ty5//Ef/zFnzhxTF7SpN9umW1s/q5d+dpH+/v6enp7r1693dnZev379X//611/+8peYmBiMyggh9BDB55UfsMceeywgIIAkya+++uru3btarbavr4/D4cydO5ckST8/P30kBmNs1v+hN23atCeeeGL27NlhYWFPPfVUbGzsr3/968jISABQqVT//Oc/BQIBk8nETmyEEHpYYFR+8EiSfOqpp7755puenh6tVnv//n2FQhEfH89ms8e6Kj8/v5CQEB6PN2/evCtXrjAYjODg4NmzZ09GshFCCHkdRuUHz8/PjyCI0NDQnp4epVJJUZROp5s+ffqcOXNCQ0PHurZHHnnE399/1qxZ8+bN6+joCA0NDQ8Pn4RUI4QQ8j6Myj7Bz89v1qxZIyMjt2/f7uzsHB4e1mq1DAbj5z//+RNPPDHWtT3yyCMzZsyYO3fuwMBAREQETpGNEEIPC4zKvuLRRx8NCgqiafrrr7/+17/+dfv27R9//HH27NkLFy60vLvsIX2Lefbs2cHBwY899tgkpRkhhJB3YVT2ptHR0R9++IGm6dHR0XGMsXr88cdnzpw5PDz8j3/8g6bp3t7e77///le/+tXMmTMfeWTMs7D5+fk9/vjjGJIRQughglHZm2ia/uqrr65cuTI0NDSOsVoAEBQUFBoa+o9//OPOnTsURd27d6+3t5fP55Mk6fXUIoQQ8jUYlb1pZGSku7u7q6srICBg3rx541jDtGnTZsyYMWfOnI6ODo1GMzg4eOfOnVmzZgUHBz/++ONeTzBCCCGfMomziGi1Wq1W+9hjj+nfPGj6/P79+48++ugU9Kx+//33arXaz88vKCho5syZlgkYGRnRB7nvvvtuZGRk5syZlgtM0A8//DAyMjLunwcEBCQlJX355ZcURV27dq27u1soFIaGhjIYjICAAK+kcHR09N69e/fv3ycI4vHHHzcdnaGhIYqigoKC/Pz8vv/++/v37+tfHOl2Su3BwcHbt2/TNB0UFBQYGPjDDz98++2306dPnzVrlrfSjBBC/w4mq63c29t7/fp1uVz+zTffBAQEzJgxgyCIkZGRe/fuSaXS77///vHHH5/U1yfcvXv31q1bCoXiq6++AgDTHVa1+v+1d6dBbZz3H8C1klYnkpCEDoQQSEJg7ssEE/CBMY4zidM6iR0nnSadJJ2kk5l20mTSTmeati/7Mm3aZnpMnUziJHYTpwFDEt+AbUw4ZIy4hACBAF3oQvdKu/8X+y/DcAUwAtX9fV5kEu1q9xFk+Op59nl+j91gMNhstszMzFAo1N7ePjIygiBIenr6/d80Ho/Pzc3Nzc2JxWKtVru1i5AzqMVisdPpNJlMfr/fbDZLpVKlUimVSrfwgHmZSCTicDhGR0eNRqPNZovFYlKplHzdZDL19PTIZDIGg2EymW7dujU0NKTT6db5ChWPx+12u9FoHBsbGxsb83g8wWDQ7XYPDAyMjY3hOJ6SksJise6zzQAA8D8iIalMEMSZM2e6u7sdDsfZs2fD4XB6erpMJgsGgz09Pa+//rrL5SosLBQKhSvfSBAEjuPEBpBvWXVyMkEQN2/ebGpqotPp7733nsPhkEgkKpWKQqGcO3fub3/728TExLFjx8bHx3/3u999/vnnCII0NDTc/wffllQmkcuZyPikUCjj4+NcLreqqur+xxhmZ2cvXrz49ddfDwwM3Lp1y2g0PvrooxQKZW5u7sMPP/z9739fVlYmlUrff//9X/ziF+3t7c8999zK39SiQCDw8ccfnzt3js1mj42NffHFFzdu3HA4HDwe7+zZs2azmcfjkeXGAAAAfKeE9FZ7enoQBKmurmYyme+//77P54vFYhQKJRAItLe3R6NRhUKxsj5GPB7v6Ohob283m81LX19rUZBMJtu/f//Ro0dXHhofH3c4HEql8tFHH3333Xfn5ua8Xi95qL+/PxQKKRQKOp2u0WhKSkrIsdxt+Njbraqqym63DwwMTE9Pu93ub775RiKR/PSnP72fa0YiEYvFcu/evVdfffXLL7+8fPnyYkd2dHR0ZGSEzWaXlZXxeLyqqqqjR4/evHlz/Qt+9tlnKIq+9tprWq12bm5uaGjI4XAwGAyZTDY7O0un0xd/8gAAAL5TQlLZbDar1WqBQDA6Ourz+YRCITmFOBQK9fb2cjictLS0lX0+KpWqUqnq6uqKioqWHVo1mFNSUrKyslZtgMPh4HA4UqnUYrEEg0GpVJqeno7jODlIi6JodnY2giAsFqu6uppCoUilUoIg7Hb7vXv3XC4Xg8Gw2+3V1dUajYbH4631Mb1er81mW/oKhmHT09MOh4PL5ZJ93EVMJjMzM3NT488ikaimpub5559/5513PB7PyMhIa2vrQw89VFxcvOWn4OQz9by8vOzsbLfbHYvFyCEECoViNpvn5+fJXxydTi8tLT1y5IjBYFhs88TExJ///OcTJ04UFhYu1jYJh8MKhaKkpITNZlssllAolJaWVllZqdVq6+rqdDpdYWHh4t2/+uqr0dHRxx9/PDMzc+lUAwAAAKSEpLJMJsvIyJienr579y6VSs3PzxeLxTiOLywsGAwGrVablpa28l0IgqjVarVaff8NEAgE5GSu1tZWHMe1Wm1WVhYZmXa7Xa1WL06QlslkeXl5QqEQx/E7d+6YTCZyjpLVar169WosFqusrFzrLvPz8z09PUtficVik5OTFoslFostfZiKIAiPxyOna218HTOdTlepVCdOnOjq6rpz547L5RoZGens7NRoNFtOZSqVmp6ezuPxXC4XOby8d+9e8tD09LTP53vooYfIGBaJRFqtVq1WL8ZnJBKZmZmJRCKLjw8oFEpxcXFaWhqfzw+FQiMjI4FAQKfTVVZWCgSCkydPKpXKpb9Qr9frdDrvZyocAAA82BKSynV1dRQKRa/XDw4OSqVS8g93IBCw2+3T09P19fVr1YCMRqOhUAjDsI3chU6ns1isVWcS5efnUygUg8HQ0dFBdqnFYrHX69Xr9QsLCwqFYjEqnE4n2UePx+PNzc3FxcXHjh1TKpWTk5O//vWvyeHctXI0HA47nc6lr8TjcY/Hs7CwwGKxlh2KRCIej4fFYm2qugiHw8nNzX3xxRfdbrder2exWMtCcbNSU1NTU1NDoVBra6vVas3PzydTORwOz8zMhEIhtVpNprLH44lGoyUlJeSoRjweT09Pf/vtt7Ozs5f+zGtra8l/wTDMYDDEYjG5XJ6enr7yUT2GYQcOHKitrVUqlVtuPwAAPNgSOAvaYrGYzea6ujqyYzc/Pz80NITjeG5u7qqpjOO42Wzu6uqanp7eyPUVCkVZWVlJSclaJ3i93lu3blVXV5ObJoVCITKVl+76MD4+zuPxcnNzcRzv7e0tLCwkS1Tm5OSQvUmXyyWRSFa9fl5e3rJFydFotK+vr6+vT6fTLcskcguKLcygZrFYTzzxxKVLl6LRaH19/c9+9jMGg7HZiywTjUa7urowDFOpVCqViiCI4eFhh8MhFosLCgrI7w2zs7NOp7O4uJi8ndvt9nq9Op1urY8Qi8UGBgZSU1OVSuWqTxwsFguHw4Gi3AAAsI4EpnI4HMYwLCMjgxwCJVOZIAidTrfqn2YEQZhMpkKh2OBCGoFAsP5AbiwW8/l8YrGYPC0SiRiNRnI2OJVKxXF8fn6eXLpDp9PHx8cDgQCDwWCz2RQKhUqlEgRBbni8VirTaLRlHV8qlcpgMOh0Ooqi27UcKBwOt7S0OJ3O/fv3P//889tyWRzH5+bmmEymQCAgfxSTk5MejyctLa2wsJDM3YmJCZvN9vTTT7NYrK6uroGBAbvdjmHYyy+/TK4iw3E8FAqdP38ex3FyOGR8fFyn05E/LhzHP/vsM4lEUlBQwGazr1+/bjabvV6vRqN59tln7/8jAADAAylRqUwQBJVKRVGUzWZTqVSv1zs0NNTX10cuuiWTbyWhUJiXlxeNRjdyCxRF169QgSAIjUajUqlkTQxyOyYajUaukw6FQi0tLXw+X6vV4jjucDhisdhi0JK9PQzDNtiYBPF6vXfv3v30009zc3MfeeSRPXv2bMtlyS9AOI6Tj3gJgjAajfPz83K5nMViIQgyODg4OzvL5XIzMjLi8fj4+Pjs7Cz55DgUCpEXwTDMYrG0tLSQz5XJK5SWlqakpESjUXJdeGVlJZ1O9/l89+7do1Aos7Oz29J+AAB4UCUqlREEkclkWVlZU1NT3d3dOI53dHRMTk7W1tauVTmSnBK1zpznzeLz+Xv37iWDLRwOWywWlUrldDonJiba2tqCwaBerz969KhOp6NQKKtOQdrsTk3bi6zt9fnnn4fD4YaGhocffvj+x65JKIpWVlbOzMyYzeaOjg4EQciNI8nFaUKh0GAwIAhSVFTEZDJDoZBQKOTz+fF4XCaTLdZ+IQgiFAq53W4cx00m0/z8PPkQemxsjE6nO51OkUiUmZnJ5/PJedrz8/M8Hm+dpc8AAAASVdsLx3EajRaLxa5cuTI8PNzT00NG47PPPltRUbEzJZ0ZDIZSqezs7Ozv7x8ZGcFx/Cc/+cn8/Lxer79y5Upvb++BAwcefvhhuVwei8X8fv+FCxeqq6srKirIMP7ggw/EYnFNTc1aI9grbWMVkXg8bjQaL1682Nra+pvf/Gbv3r3bWBMURdG8vDyr1drX13ft2rWenp6ysrKcnBy/39/a2trW1oYgyKFDhw4ePEg+DtdoNDMzM3fu3Dly5EheXh6bzUYQhEqlcrncyclJu93u8/kUCsVLL71EfuMZGBhwuVzPPPNMbm4uiqI8Hq+4uLilpQVBkJqams2uEAMAgP8dieoru91uDofz5JNP/uAHP6DT6b29vR999FF3d3ddXV1qamqCbrqMQCA4fPjw3r17yX0VURTlcrm/+tWvotEoOcDO5XLJhdRsNpusK+n1ej0ej0gkIuc5SySSrW39dP+mp6fPnj1rMBh++9vfVlRUbOMQAoVCQRCEy+W++uqrL7zwAvmfHA6HIIhoNEpuQ8lkMpc+HXC73WNjY1ardf/+/WStbHJzyZSUlJ///OfRaJR8oM5ms3NyciKRCPmYYLHCdiwWI8uhVFZW5uTk2O12qVS6hZ0uAQDggZeQVHY4HH/605/MZvO+ffteeeWVUCg0Ojrq9Xrr6+s1Gs2OVUWm0Wgrt51YtWIllUplsVh79+6l0+kOh4PNZg8ODqanp6vV6k31UGk0mlKppFKpqy7I3iByFtVHH33kdDobGxvr6up4PN62dy6pVKpQKNzgeLLRaPT7/ZmZmXa7PRaLMRgM8sdCpVLJ+e2LVv3lBoPBrq4uco8Qcr8QkUgEqQwAACslZCAxEAj09PQYjUYcx91u9/Xr10dGRlQq1alTp/h8fnL+OabRaE888QSTyezs7Lxx40ZbW9u+ffvKy8s3tYUGlUqVSCR79uzZ8l4X8Xjc4XCcO3fOaDTm5eU98sgjaWlpW/uJ4Th++/btDS4zWx+KouRmUGNjY0wmc7O1uMkvPTKZLBqNOhwOgUCQnP8PAADArktIX5nBYGi12ng8rlAoBgYGOjo6RCJRbW3ttuwAkSA0Gq2xsfHSpUvDw8MulysYDD755JObfTZMVvG8n8EAt9vd1dX1wQcfHD58uKGhgZyJtgUYhjmdzqampsbGxszMzC23h6TVal0uF7kpiFKpXCy3uUEsFqu8vHxubi4cDrPZ7G0p3wYAAA8k5H4KRa1jYGDg+vXr/f39fD7/wIEDVVVV27JV4oONIIjLly+/9957PB7vrbfeKigo2PJ1bDbbxYsX+/r6nnrqqfr6+u1tJwAAgARJ1GwvrVYrlUoff/xxGo3G4/G2cf7wA6y5ubmlpYXL5f7yl79ca+ONjRgZGblw4cI//vGPl156Cb4MAQDAf5FEpTKbzV6rVAhYiSCIe/fukdsmPvPMMzk5OZt6nk2hUOLxeDAYJHcE6ejo6Ozs9Pv9ZWVlK3fMBAAAkLQSWHETbFAoFJqamvr000+NRqNOpxOJRAMDA4tH16lkQhAEhmELCwt+v9/v98/Pz5vN5p6ensHBwXA4TC5D2pml4QAAALYFpPIuIwuPfPbZZ2fOnFGpVEKh8MMPP6RsrKwYjuOBQGBqampubs7hcLhcrsVDKpWqvr5+e1c5AwAASDRI5V3mcrk6Ozv/+Mc/zs/P2+32vr6+zV4hHo8TBIHj+NIXJRLJqVOndqxgCwAAgG0BqbzL6HS6Vqt96623yHClUCjkP++zBHd6erpKpdquutkAAAB2RqJWRoENikQifr9/YWFhey/LYrHkcvn2XhMAAECiQSoDAAAAyQK27kkuBEHE4/FQKLTsOfFG4DgejUa38EYAAABJAlI5ucRiMXJKts1m2+wb3W737du3HQ5HgtoGAAAg0WC2V3Jxu92Dg4NGo7Gmpmbj7xoYGOjq6jKZTG63+6WXXpLJZIlrIQAAgMSBvnJyQVFULBZXVFRsqvoHuY9TOBw2mUzbPnEMAADAjoG+chIJBAIYhikUipKSkk1V3NTpdEKhUCAQmEymxDUPAABAokEqJwuCIIxGY29vr9/vP336tEgkotFo68+QRxDkPpc1AwAASCqQykmBIIjh4WGyorVer6+oqCgpKZmYmGhrazMYDMtO5nA4crlcIBAIhcITJ06gKLorbQYAALDtIJWTRSAQ4PP5dDp9cnKSwWBQqVSZTLZ3797MzMxlZ6IoyuPxWCwWm82mUmFmAAAAPDgglZOFWCwOBoMYhjGZzPT0dCaTmZKSAvW5AADgfwqkclJAEEStVl+7ds3lchUVFaEoiiAIhmHhcDgSiaz1LhqNlpqaCo+WAQDggQGpnESMRqPX6y0oKLhw4cITTzwRi8X0ev3g4OBa56elpb3wwguwBQUAADwwIJWTiNVqtdlsRUVFTqcTwzCZTLZv376ioqK1zmcwGOQCqr6+vs7OzrGxsenp6UuXLoXD4ZycnJycnB1sOwAAgG0AqZxEKisrRSKRXC7X6XSpqalsNpvNZm+kUBdBECiKZmRkNDQ0SKVSKIUNAAD/pWDPqCSysLDgcrmi0ahWq93U5Gqr1epwOBY3ZuZwOCKRSCgUJqylAAAAEgJSGQAAAEgWsNoVAAAASBaQygAAAECygFQGAAAAkgWkMgAAAJAsIJUBAACAZAGpDAAAACQLSGUAAAAgWUAqAwAAAMkCUhkAAABIFpDKAAAAQLKAVAYAAACSBaQyAAAAkCwglQEAAIBkAakMAAAAJAtIZQAAACBZQCoDAAAAyQJSGQAAAEgWkMoAAABAsoBUBgAAAJIFpDIAAACQLCCVAQAAgGRB35W7GgwGv99fXV29K3ffeXa73WQyUSiUgoICgUCw280BAACQpBKbygRBrPr61NTU6OgoiqJFRUUMBiOhbfhOs7OzExMTGIYtbS2CIDKZTKFQpKSkBAKBgYGBSCSy9F1isVihUKSlpS19ca3PG4/HHQ7HjRs3XnnlFUhlAAAAa0lUKs/Pz09NTc3Nza16tL29fXBwcGZm5vXXX5dKpTQaLUHN2IjZ2dlbt275/f7Z2dlwOEyhUJhMplQq3bdvH4/H43A4CwsLbW1tJpMpGAwyGAyJRMJkMgsLC9ls9mIq4zhutVr1ev2qt/D5fMPDwxcvXiwvL09NTZVKpTv38QAAAPz3SFQqDw0N/fOf//z3v/+98hCGYdFolCCI4eHhkydPCgQCDoeToGZsBJ1OZ7PZGIbduXPHZDJhGJaRkfHUU09xOBwmk0meE4lEOjo6zGazUqk8evQoj8fj8XhsNnvxItFo9NatW6+++urK6xMEEY1GI5EIiqIXLlyQSCSPPPLIZhuoMOJfAAANmklEQVRJ/MfufoMBAACQUMhag673KRQKeb1ev9///7dBEMp/Bnh7enqam5sjkciPf/zjmpoaLpdLHt0tkUgkFAphGPbxxx+fOXNGr9fn5uaeP38+KyuLy+VSqdRAIHDhwoXz589nZGScPn06Pz+fTqczmUwmk0mn///XGoIg/H6/zWZbef1wOHz58uVPPvnk0KFDJ0+ezM/P38K3kFAo5Ha7o9Fodnb2fX5eAAAASStRfWU2m720K7nU8PBwXV1dRkbGQw89xOFwdjeSKRQKma8EQTQ2Nt66dctgMIRCIYPBIJfL+Xx+MBg0mUzffPNNeXn5oUOHKioqeDzeyosgCEJ2oFce8ng8RUVFJ06ceOyxxzQazdYGBmw22/DwMIZhkMoAAPAA24U52EqlMjs7W6FQJNW8JwRB1Gp1fn7+7du3fT5fU1NTSUkJh8MxGAwtLS0ikejAgQNrRfL6UBTNycmRyWT5+flbHn8mO+LxeHxrbwcAAPBfIYGpjON4LBYLh8MMBgNF0cVAKisrS9xN7weLxSouLi4sLLx06dLVq1dPnTrl8Xg6OjoMBsObb75ZUFCwViSHw+FYLEalUlftB3O5XC6Xu3gmgiAoilKpsFIcAADAcglM5Wg0arfbx8fH09PTFQrFskgjnzHv+vD1MlVVVf39/a2trVar9auvvnI4HDQa7e23387Ly1trBRdBENPT006nMyUlpaioaNknwnEcQZDFF6enp1EUlUgkizm988hZY+S/L20bAACAXZeoVJ6dnW1tbW1raxOJRAaD4eTJk8ePH5fL5eTR9vb2pqYms9n87rvvSiSSBLVhC6RSqU6nU6lUFovl888/b2hoOHXqlFarRVF01fPn5+fPnj1rNputViuGYWq1+q233hKJRBQKxev1fvvtt+++++6xY8e+//3v83i8np6ed955B8fx48ePv/jii5tq2LbE5+joaHd39507d+7duxcMBplM5vHjx3/0ox8tW3UNAABgtyQklQmC+OabbxwOx/79+wOBwBdffNHV1VVYWLiYyv39/ZcvX2axWLFYbJ3r3LlzZ3R01O12b/zWCIIwmczGxka1Wr2FljOZTK1Wu3///nPnztntdqlUWl5evtb8LJfLdffuXb1eX1dXR6fTr169ajQaX375ZYFAQKPR3G73119/ffv27YqKCrJ7Go1Gx8fHZ2dnlUolQRCbStn7nCrv9/tv3rzZ1NRktVpTUlKqqqrkcjmLxSooKFhrUh4AAICdl5BUNplMQ0NDarW6sbHx0qVL8Xjc7Xb7fD7yqMvlMplMdru9pqZmcWXRqrxe7/T09FqlSFaFIAibza6pqdly42k0GpPJRFE09h9rnWmxWO7cuaNWq+vr68PhcCAQCIfD8XicTFCPx9Pe3o7juEAgSElJQVE0MzNTp9P5/f5lZcI2aMvBHAgEhoaGzpw509vbW1JScuTIkaqqKrVajaIoDF8DAEBSSUgqd3d3y2QynU4XCoXa29uDwaBEIlkcJh0ZGZmenmYwGFqtdv1UrqioyMjIWFhY2NTdEQTJyMjYWst9Pt/IyEhfX59IJHI4HENDQ11dXVqtdtWTnU6nxWJ58803BQIB+Wg5Pz+fx+PR6fRYLObxeIaGhiQSiVwuT0lJQRAkLy/v8OHDDAZDoVCsGofxeJxcPL3ykMfjCQQCsVhsfn5+5VEURcn1Xau202KxtLS0fPHFF/n5+UePHj127BiCIAsLC1wul8lkQjADAEDySEgqV1ZW1tbWCgSCoaGhmzdvEgRRUFCQm5tLHjUajVarNTU1tbi4eP0i2CKRSCgUbqGPuOUFSM3NzdevX8/Pz9+zZ8/Vq1fv3bvX0dFx+vTpVaMrNzf39OnTSqWyu7t7bGyMy+XW1NSwWCwKheJ2u81mcyAQqKurk0gki28Xi8XkqrBV7+71evv7+zs7O1cestvtMzMzOI4Hg8GVR7OyssrKyvLz81ceIgjCYDB88MEH0WhULBaPjIz8/e9/Jw8dPXq0oKCAbDAAAIBkkJBUViqVNBptYWFhfHzcarVWVFRoNJrFWcdGo9FmsymVyqKiorVmUZF2cvlQPB7/8MMP9Xr9nj17Dh06ZLFYBgYGhoeHTSbT4OBgbm7uyqZKJBKyZ9zf3z81NSWTyQ4fPkw+prXb7UajkewfL51L5fV6BQLBWs+8GQxGWlpaTk7OykPkM3gcx1c9KpPJ1lq1NTMzMzQ0ZLPZ0tLS5HI5g8FYzHVyLB1SGQAAkkdCUplMJpvNNjg4GI1Gy8vLMzIyFvuvRqPR5/NJpdKsrKz1R7CtVuvs7KzX6934rREEYTAYeXl5YrF44+9yOp03btzo6enRaDQHDx4sLi4mS52Mj4/PzMx0dHSoVKqVqbw4aNzf3+9wOMrLy0tKSsjev91uHxkZQRBEq9UKhcLFt4yNjUml0rWGxJlMZkZGxqqLpng8Hrn+u7KycuVRNpu9VioHAgGv14vjuEqlOnjw4NJQV6lUu75hFwAAgKUSuF55bm5ueHiYSqWWlpbKZDIKhRKPxz0ej8ViodFoSqVSIBCs/1DTYrH09fVZLJaN35Sc7SUWizeeygsLCwMDA2fPni0tLT18+HBJSQmFQpHL5aWlpcPDwzab7cqVK8ePHydrYq96hcnJyXA4LJfLpVIp+YncbvfMzAyCIFlZWWQJs3g87vV6HQ7HOiPYKIoKhcKlKb4oEAhYrdZ4PL7ZueU0Go1Go6EoSpY4JT/dqshaKGSJb3jYDAAAuyKBqez1eufm5shRXDIjg8Fgd3e3z+fLyMjQaDTf+aefLJi12aU7G38OTa5WGhoaun79utfrfe6555Z2JQ8dOtTf39/U1NTW1jY3NycSiVYd7CUIIhQKMZnMxS8ZBEFEIhG/348giFKp5PP5FAolGAx2dXXJ5fKsrKydHDRmsVhcLpfM2nWeCGAYNjk56XK5hEKhTqdbfwwDAABAgiT8jy+CIFwulxz+9Xq9//rXvxwOR3V19Ub6fOQMpi0Uf05JSfnOcwiCCAQCV69ebW5uXlhY+MMf/qBUKpeesG/fvitXrly6dCkUCn355Zd8Pl+n023k7uFw2Gq1Luviu93u999/f9kY8g6QyWS5ubnp6emTk5Orzu6mUCgEQXR3d//lL3+5detWfn7+X//6V4lEAsEMAAA7L4F/edVqdVVV1bffftvS0uLz+SKRyPXr1y9fvux2u8l9IL7zCiwWKxHdyomJCb1e39/fPz09bTQaJycnuVxua2vrD3/4Q/J2kUhkcnLyxo0bnZ2dGIbFYrGmpian01lUVFRQUHDw4MGlV0MQpKqqyul09vb2Xrp0SS6Xt7W16fV6jUbT399/5coVclHT3bt3mUxmcXHxWsPXCYKiaElJyenTpz/55JNPPvnEZrNpNBoMw/R6PUEQxcXFlZWVBEHMzc1NTU1NTExQKJSurq79+/eTFcoAAADspASmcnZ29rFjxywWi91u7+zsRBDEbrdbLBYul6tUKtPT0xN36/WRQ+sulysajcpkMqFQyGQyvV7vYqecfP7t8/k0Go1QKCTrhQUCgampqcXyZEs9/vjjNBptZmZGr9enpqbabLY9e/ZUVFS0t7fb7fbu7m4Mw4LB4GOPPZabm7vzFbAzMzO/973vYRjm8Xju3r1rt9tpNJrD4ZBKpeRsL/L5d11dHYVCiUajo6Oj5eXlkMoAALDzEpXKfr8fw7CcnJw33nhjbGzMZrMxGIz8/HwqlZqbm5uZmbmLs3/5fH5hYWFRURGbzUYQBMOwSCRCo9EWpzHT6XSxWHzkyJFDhw4tvossMaZSqVZecP/+/RkZGYODg7Ozs4FAoLa2trCwMDU19eGHHx4ZGfF4PEKhMCcnp7a29n6Ghbc8A4vL5RYWFmZnZ3d2dk5MTPj9fh6PV1tbu2fPHnJmGYIglZWVfD5frVZ3d3fHYrH7LPAJAABgaxKVygaDQa/X02i0p59+uqqqikajjY6OfvrppxQKpb6+Pj8/fxdn+Wo0Go1Gs84JDAZjs09/V71mVVVVVVXVptu3mvv8cVGpVB6P19jYuM45Op3O7XaPjY3pdLq1Sn8DAABIqESl8vnz55ubm7OyskpLSwsLC6lUan9//8WLF7OzsxsaGtZasAvWolAo1lmatV3m5+fNZvNrr72Wmpqa0BsBAABYVaL2jLLZbNFoVKlUKhSKQCBw48aN5uZmBoPxxhtvFBcXQ1dss1JSUjgcTkJTuaurq7+/PzMzUywWr19zDQAAQIIkqq9cWlqKYRifz9fr9X6/v7e3l8FgPPnkk88888xGli2BZXYgJsfHxzEMa2hogDVRAACwW5AEzeuxWCzXr1+/du2a0+nkcDiVlZX19fWrVosESeLatWvxePzIkSO73RAAAPjflahUxnEcwzAMw3AcRxCETqejKAqdsGSGYRhlRzrlAAAA1pKoVAYAAADAZu3cVokAAAAAWB+kMgAAAJAsIJUBAACAZAGpDAAAACQLSGUAAAAgWUAqAwAAAMkCUhkAAABIFpDKAAAAQLKAVAYAAACSBaQyAAAAkCwglQEAAIBkAakMAAAAJAtIZQAAACBZQCoDAAAAyQJSGQAAAEgWkMoAAABAsoBUBgAAAJIFpDIAAACQLCCVAQAAgGQBqQwAAAAki/8DlhSY4CrAqVkAAAAASUVORK5CYII=)\n",
        "\n",
        "Надо указать разные веса перед каждым слагаемым, тогда их наклон будет разный ( тут опять смотрим уравнение прямой, ну и физ смысл производной)\n",
        "\n",
        "Это будем называть фичами, представим их в виде полиномов"
      ],
      "metadata": {
        "id": "31ijewEM0o2i"
      }
    },
    {
      "cell_type": "code",
      "source": [
        "X = X.reshape(-1,1)\n",
        "X.shape"
      ],
      "metadata": {
        "colab": {
          "base_uri": "https://localhost:8080/"
        },
        "id": "8kIigcgG2CxA",
        "outputId": "e61d78cf-3b95-4882-b001-143581ea0efe"
      },
      "execution_count": 18,
      "outputs": [
        {
          "output_type": "execute_result",
          "data": {
            "text/plain": [
              "(30, 1)"
            ]
          },
          "metadata": {},
          "execution_count": 18
        }
      ]
    },
    {
      "cell_type": "code",
      "source": [
        "X_new = np.hstack((X , X ** 2)) "
      ],
      "metadata": {
        "id": "XMvrFMMM2RVo"
      },
      "execution_count": 19,
      "outputs": []
    },
    {
      "cell_type": "code",
      "source": [
        "linreg = LinearRegression()\n",
        "linreg.fit(X_new, y)\n",
        "A = linreg.coef_ # тут теперь 2 значения, потому, что это квадрат. Уравнение кривой теперь использавть будем\n",
        "B = linreg.intercept_ \n",
        "print(\"A = \",A,\"B = \", B)\n",
        "plt.plot(X, y, 'go')\n",
        "plt.plot(X, B + A[0] * X + A[1] * X ** 2, \"r\")"
      ],
      "metadata": {
        "colab": {
          "base_uri": "https://localhost:8080/",
          "height": 300
        },
        "id": "2_zUL-w921HP",
        "outputId": "74f552f7-2e06-48c3-e715-39784ef936d1"
      },
      "execution_count": 20,
      "outputs": [
        {
          "output_type": "stream",
          "name": "stdout",
          "text": [
            "A =  [6.40428062e+01 9.78541445e-16] B =  -5.0076506466791146e-14\n"
          ]
        },
        {
          "output_type": "execute_result",
          "data": {
            "text/plain": [
              "[<matplotlib.lines.Line2D at 0x7ff6344ccf10>]"
            ]
          },
          "metadata": {},
          "execution_count": 20
        },
        {
          "output_type": "display_data",
          "data": {
            "text/plain": [
              "<Figure size 432x288 with 1 Axes>"
            ],
            "image/png": "[encoded data removed]"
          },
          "metadata": {
            "needs_background": "light"
          }
        }
      ]
    },
    {
      "cell_type": "markdown",
      "source": [
        "Получили, что коэфициент перед квадратом оч маленький почти ноль, поэтому остается прямая\n",
        "\n",
        "ИДЕМ ДАЛЬШЕ И ДЕЛАЕМ КУБ"
      ],
      "metadata": {
        "id": "9HsF9TR-4TB-"
      }
    },
    {
      "cell_type": "code",
      "source": [
        "X_new = np.hstack((X , X ** 2, X ** 3)) \n",
        "X_new.shape"
      ],
      "metadata": {
        "colab": {
          "base_uri": "https://localhost:8080/"
        },
        "id": "xXucIz2X6OSe",
        "outputId": "4d3123a0-6f01-43ae-9ab4-1773dd110d78"
      },
      "execution_count": 21,
      "outputs": [
        {
          "output_type": "execute_result",
          "data": {
            "text/plain": [
              "(30, 3)"
            ]
          },
          "metadata": {},
          "execution_count": 21
        }
      ]
    },
    {
      "cell_type": "code",
      "source": [
        "linreg = LinearRegression()\n",
        "linreg.fit(X_new, y)\n",
        "A = linreg.coef_ # тут теперь 3 значения\n",
        "B = linreg.intercept_ \n",
        "print(\"A = \",A,\"B = \", B)\n",
        "plt.plot(X, y, 'go')\n",
        "plt.plot(X, B + A[0] * X + A[1] * X ** 2 + A[2] * X ** 3, \"r\")"
      ],
      "metadata": {
        "colab": {
          "base_uri": "https://localhost:8080/",
          "height": 300
        },
        "id": "KtDY0I2r8Jwz",
        "outputId": "9fbae71e-d992-44ef-ebba-062c2457bd26"
      },
      "execution_count": 22,
      "outputs": [
        {
          "output_type": "stream",
          "name": "stdout",
          "text": [
            "A =  [ 1.58248309e-14 -1.33226763e-15  1.00000000e+00] B =  4.747160519086872e-14\n"
          ]
        },
        {
          "output_type": "execute_result",
          "data": {
            "text/plain": [
              "[<matplotlib.lines.Line2D at 0x7ff632447a90>]"
            ]
          },
          "metadata": {},
          "execution_count": 22
        },
        {
          "output_type": "display_data",
          "data": {
            "text/plain": [
              "<Figure size 432x288 with 1 Axes>"
            ],
            "image/png": "[encoded data removed]"
          },
          "metadata": {
            "needs_background": "light"
          }
        }
      ]
    },
    {
      "cell_type": "markdown",
      "source": [
        "ВАУ!!! какое попадание!\n",
        "Ну а вообще было логитчно, что кубом такую кривую лучше апрксимировать (смотри график кубичской функции)"
      ],
      "metadata": {
        "id": "63UTiYPW8UYk"
      }
    },
    {
      "cell_type": "code",
      "source": [
        "X_new = np.hstack((X , X ** 2, X ** 3, X ** 4)) \n",
        "X_new.shape\n",
        "linreg = LinearRegression()\n",
        "linreg.fit(X_new, y)\n",
        "A = linreg.coef_ # тут теперь 4 значения\n",
        "B = linreg.intercept_ \n",
        "print(\"A = \",A,\"B = \", B)\n",
        "plt.plot(X, y, 'go')\n",
        "plt.plot(X, B + A[0] * X + A[1] * X ** 2 + A[2] * X ** 3 +  A[3] * X ** 4, \"r\")"
      ],
      "metadata": {
        "colab": {
          "base_uri": "https://localhost:8080/",
          "height": 300
        },
        "id": "eM2LlUEf8oZ2",
        "outputId": "dbee0124-eb55-4ae1-97c6-2dbc6e8ff062"
      },
      "execution_count": 23,
      "outputs": [
        {
          "output_type": "stream",
          "name": "stdout",
          "text": [
            "A =  [ 2.66401408e-14  2.22044605e-15  1.00000000e+00 -4.00203220e-17] B =  1.2206434453257304e-14\n"
          ]
        },
        {
          "output_type": "execute_result",
          "data": {
            "text/plain": [
              "[<matplotlib.lines.Line2D at 0x7ff6323c7730>]"
            ]
          },
          "metadata": {},
          "execution_count": 23
        },
        {
          "output_type": "display_data",
          "data": {
            "text/plain": [
              "<Figure size 432x288 with 1 Axes>"
            ],
            "image/png": "[encoded data removed]"
          },
          "metadata": {
            "needs_background": "light"
          }
        }
      ]
    },
    {
      "cell_type": "markdown",
      "source": [
        "4-я степень такая-же (см фичи)\n",
        "\n",
        "добавим шум в наши данные и вернемся к 2-й степени"
      ],
      "metadata": {
        "id": "YHf-cuJo81ae"
      }
    },
    {
      "cell_type": "code",
      "source": [
        "X = np.linspace(-10, 10, 30).reshape(-1,1)\n",
        "y = X ** 2 + np.random.normal(scale = 500.0)\n",
        "plt.plot(X, y, 'bo')\n",
        "\n",
        "X_new = np.hstack((X , X ** 2)) \n",
        "X_new.shape\n",
        "linreg = LinearRegression()\n",
        "linreg.fit(X_new, y)\n",
        "\n",
        "A = linreg.coef_ # тут теперь 2 значения\n",
        "B = linreg.intercept_ \n",
        "print(\"A = \",A,\"B = \", B)\n",
        "\n",
        "plt.plot(X, B + A[0][0] * X + A[0][1] * X ** 2, \"r\")"
      ],
      "metadata": {
        "colab": {
          "base_uri": "https://localhost:8080/",
          "height": 300
        },
        "id": "x6rZKQWl9pyM",
        "outputId": "7ad5932a-b45d-4e01-819c-717b41a56400"
      },
      "execution_count": 25,
      "outputs": [
        {
          "output_type": "stream",
          "name": "stdout",
          "text": [
            "A =  [[4.34648666e-16 1.00000000e+00]] B =  [924.14203163]\n"
          ]
        },
        {
          "output_type": "execute_result",
          "data": {
            "text/plain": [
              "[<matplotlib.lines.Line2D at 0x7ff6322b4850>]"
            ]
          },
          "metadata": {},
          "execution_count": 25
        },
        {
          "output_type": "display_data",
          "data": {
            "text/plain": [
              "<Figure size 432x288 with 1 Axes>"
            ],
            "image/png": "[encoded data removed]"
          },
          "metadata": {
            "needs_background": "light"
          }
        }
      ]
    },
    {
      "cell_type": "markdown",
      "source": [
        "Какая красивая прарбола, хорошая апроксимация \n",
        "\n",
        "Смышленные заметыли, что мы дали шумовую константу по всем значениям - а это тупо ствиг и от отразился в В\n",
        "\n",
        "Теперь сделаем норм искажение"
      ],
      "metadata": {
        "id": "JnKz9l-P_-63"
      }
    },
    {
      "cell_type": "code",
      "source": [
        "X = np.linspace(-10, 10, 30).reshape(-1,1)\n",
        "y = X ** 2 + np.random.normal(scale = 3.0, size = (30, 1))\n",
        "plt.plot(X, y, 'bo')\n",
        "\n",
        "X_new = np.hstack((X , X ** 2)) \n",
        "X_new.shape\n",
        "linreg = LinearRegression()\n",
        "linreg.fit(X_new, y)\n",
        "\n",
        "A = linreg.coef_ # тут теперь 2 значения\n",
        "B = linreg.intercept_ \n",
        "print(\"A = \",A,\"B = \", B)\n",
        "\n",
        "plt.plot(X, B + A[0][0] * X + A[0][1] * X ** 2, \"r\")"
      ],
      "metadata": {
        "colab": {
          "base_uri": "https://localhost:8080/",
          "height": 300
        },
        "id": "mF95tywiAnbs",
        "outputId": "54d178a1-e570-4f53-8bae-86b98260ada5"
      },
      "execution_count": 26,
      "outputs": [
        {
          "output_type": "stream",
          "name": "stdout",
          "text": [
            "A =  [[0.09639553 1.02457398]] B =  [-0.97493279]\n"
          ]
        },
        {
          "output_type": "execute_result",
          "data": {
            "text/plain": [
              "[<matplotlib.lines.Line2D at 0x7ff63222d0d0>]"
            ]
          },
          "metadata": {},
          "execution_count": 26
        },
        {
          "output_type": "display_data",
          "data": {
            "text/plain": [
              "<Figure size 432x288 with 1 Axes>"
            ],
            "image/png": "[encoded data removed]"
          },
          "metadata": {
            "needs_background": "light"
          }
        }
      ]
    },
    {
      "cell_type": "markdown",
      "source": [
        "Видно, что апроксимация хорошая и что линейный член уже не равен нулю - это важно"
      ],
      "metadata": {
        "id": "hVZFd-HbBFHT"
      }
    },
    {
      "cell_type": "markdown",
      "source": [
        "**Немного о Машинном обучении**\n",
        "1.   делаем датасет - данные , анализ, нормализация\n",
        "2.   Деление датасета на тренировачный и тестовый\n",
        "1.   Grid search, cross - validation\n",
        "1.   Модель (Линейная Регрессия)\n",
        "2.   Смотрим график Loss Function\n",
        "6.   Тюнинг гиперпараметров\n",
        "6.   Оцениваем данные на тестовых моделях\n",
        "7.   MSE, MAE - насколько у нас отклоняются предикшины на тестовой выборке от произвольной. Проблемы, когда Accuracy(оптимизация метрик), Precision, Recall - о них потом \n",
        "\n",
        "\n",
        "\n",
        "\n",
        "\n"
      ],
      "metadata": {
        "id": "UlOpRSY2BxwD"
      }
    },
    {
      "cell_type": "markdown",
      "source": [
        "*Как считали Accuracy*"
      ],
      "metadata": {
        "id": "vBWF5KcgdgNV"
      }
    },
    {
      "cell_type": "markdown",
      "source": [
        "X = [x1, x2, x3, x4, x5, x6, x7, ...]\n",
        "\n",
        "y = [0, 1, 1, 0, 1, 0, 1, 1]\n",
        "\n",
        "x1, x2, .... - это столбцы\n",
        "\n",
        "мы брали предсказание по х и сравнивали с нашими y, которые были в тренировачной выборке(брали сумму по всем значениям и делили на всю длину (y)):\n",
        "\n",
        "(model(X) == y).sum / len(y)"
      ],
      "metadata": {
        "id": "Jdl0-DGeecLH"
      }
    },
    {
      "cell_type": "markdown",
      "source": [
        "*Grid search*\n",
        "\n",
        "Разные Гипер-параметры дают разный результат при одних и тех же входных данных, этот метод позволяет поглядеть на это дело\n",
        "\n",
        "**гиперпараметры не зависят от входных данных!!!!!**"
      ],
      "metadata": {
        "id": "khapPo3gHtUL"
      }
    },
    {
      "cell_type": "markdown",
      "source": [
        "Рассмотрим пример трейн тест сплина"
      ],
      "metadata": {
        "id": "bhG4S95eCkUg"
      }
    },
    {
      "cell_type": "code",
      "source": [
        "from sklearn.model_selection import train_test_split\n",
        "\n",
        "X_new = np.hstack((X , X ** 2))\n",
        "X_train, X_test, y_train, y_test = train_test_split(X_new, y, test_size=0.2)\n",
        "X_train.shape, X_test.shape, y_train.shape, y_test.shape\n",
        "plt.plot(X_train[:,0], y_train, 'bo')\n",
        "\n",
        "linreg = LinearRegression()\n",
        "linreg.fit(X_train, y_train)\n",
        "A = linreg.coef_ # тут теперь 2 значения\n",
        "B = linreg.intercept_ \n",
        "print(\"A = \",A,\"B = \", B)\n",
        "\n",
        "plt.plot(X, B + A[0][0] * X + A[0][1] * X ** 2, \"r\")\n",
        "\n",
        "linreg.score(X_test,y_test)"
      ],
      "metadata": {
        "colab": {
          "base_uri": "https://localhost:8080/",
          "height": 300
        },
        "id": "VVcCpff3Cvm-",
        "outputId": "ba4dea63-9d77-483a-9e5f-580d41ee0c83"
      },
      "execution_count": 27,
      "outputs": [
        {
          "output_type": "stream",
          "name": "stdout",
          "text": [
            "A =  [[0.10295413 1.04026219]] B =  [-1.53774085]\n"
          ]
        },
        {
          "output_type": "execute_result",
          "data": {
            "text/plain": [
              "0.9662160103590742"
            ]
          },
          "metadata": {},
          "execution_count": 27
        },
        {
          "output_type": "display_data",
          "data": {
            "text/plain": [
              "<Figure size 432x288 with 1 Axes>"
            ],
            "image/png": "[encoded data removed]"
          },
          "metadata": {
            "needs_background": "light"
          }
        }
      ]
    },
    {
      "cell_type": "markdown",
      "source": [
        "linreg.score - коэфициент корреляции"
      ],
      "metadata": {
        "id": "D7ynGGDkG9r6"
      }
    },
    {
      "cell_type": "markdown",
      "source": [
        "**Второе занятие**\n",
        "\n",
        "Повторим немного из первого"
      ],
      "metadata": {
        "id": "Yt15y5PfvOKM"
      }
    },
    {
      "cell_type": "code",
      "source": [
        "import numpy as np\n",
        "import numpy.linalg \n",
        "import sklearn\n",
        "from sklearn.datasets import make_regression\n",
        "import matplotlib.pyplot as plt\n",
        "from sklearn.linear_model import LinearRegression"
      ],
      "metadata": {
        "id": "hw960_vZhagn"
      },
      "execution_count": 34,
      "outputs": []
    },
    {
      "cell_type": "markdown",
      "source": [
        "для удобства продублировал импорт библиотек, чтоб второе задание смотреть не отвлекаясь на первое"
      ],
      "metadata": {
        "id": "vauOiv2LwEU6"
      }
    },
    {
      "cell_type": "code",
      "source": [
        "X = np.linspace(-10, 10, 20)\n",
        "y = X ** 3 + 3 * X - 5"
      ],
      "metadata": {
        "id": "pQ0pJUKLvHXx"
      },
      "execution_count": 30,
      "outputs": []
    },
    {
      "cell_type": "code",
      "source": [
        "linreg = LinearRegression()\n",
        "linreg.fit(np.vstack((X, X ** 3)).T, y)"
      ],
      "metadata": {
        "colab": {
          "base_uri": "https://localhost:8080/",
          "height": 75
        },
        "id": "QKTuEt9hiMgm",
        "outputId": "53096bca-c2e8-40d6-8190-6fdf5e3a1a02"
      },
      "execution_count": 31,
      "outputs": [
        {
          "output_type": "execute_result",
          "data": {
            "text/plain": [
              "LinearRegression()"
            ],
            "text/html": [
              "<style>#sk-container-id-2 {color: black;background-color: white;}#sk-container-id-2 pre{padding: 0;}#sk-container-id-2 div.sk-toggleable {background-color: white;}#sk-container-id-2 label.sk-toggleable__label {cursor: pointer;display: block;width: 100%;margin-bottom: 0;padding: 0.3em;box-sizing: border-box;text-align: center;}#sk-container-id-2 label.sk-toggleable__label-arrow:before {content: \"▸\";float: left;margin-right: 0.25em;color: #696969;}#sk-container-id-2 label.sk-toggleable__label-arrow:hover:before {color: black;}#sk-container-id-2 div.sk-estimator:hover label.sk-toggleable__label-arrow:before {color: black;}#sk-container-id-2 div.sk-toggleable__content {max-height: 0;max-width: 0;overflow: hidden;text-align: left;background-color: #f0f8ff;}#sk-container-id-2 div.sk-toggleable__content pre {margin: 0.2em;color: black;border-radius: 0.25em;background-color: #f0f8ff;}#sk-container-id-2 input.sk-toggleable__control:checked~div.sk-toggleable__content {max-height: 200px;max-width: 100%;overflow: auto;}#sk-container-id-2 input.sk-toggleable__control:checked~label.sk-toggleable__label-arrow:before {content: \"▾\";}#sk-container-id-2 div.sk-estimator input.sk-toggleable__control:checked~label.sk-toggleable__label {background-color: #d4ebff;}#sk-container-id-2 div.sk-label input.sk-toggleable__control:checked~label.sk-toggleable__label {background-color: #d4ebff;}#sk-container-id-2 input.sk-hidden--visually {border: 0;clip: rect(1px 1px 1px 1px);clip: rect(1px, 1px, 1px, 1px);height: 1px;margin: -1px;overflow: hidden;padding: 0;position: absolute;width: 1px;}#sk-container-id-2 div.sk-estimator {font-family: monospace;background-color: #f0f8ff;border: 1px dotted black;border-radius: 0.25em;box-sizing: border-box;margin-bottom: 0.5em;}#sk-container-id-2 div.sk-estimator:hover {background-color: #d4ebff;}#sk-container-id-2 div.sk-parallel-item::after {content: \"\";width: 100%;border-bottom: 1px solid gray;flex-grow: 1;}#sk-container-id-2 div.sk-label:hover label.sk-toggleable__label {background-color: #d4ebff;}#sk-container-id-2 div.sk-serial::before {content: \"\";position: absolute;border-left: 1px solid gray;box-sizing: border-box;top: 0;bottom: 0;left: 50%;z-index: 0;}#sk-container-id-2 div.sk-serial {display: flex;flex-direction: column;align-items: center;background-color: white;padding-right: 0.2em;padding-left: 0.2em;position: relative;}#sk-container-id-2 div.sk-item {position: relative;z-index: 1;}#sk-container-id-2 div.sk-parallel {display: flex;align-items: stretch;justify-content: center;background-color: white;position: relative;}#sk-container-id-2 div.sk-item::before, #sk-container-id-2 div.sk-parallel-item::before {content: \"\";position: absolute;border-left: 1px solid gray;box-sizing: border-box;top: 0;bottom: 0;left: 50%;z-index: -1;}#sk-container-id-2 div.sk-parallel-item {display: flex;flex-direction: column;z-index: 1;position: relative;background-color: white;}#sk-container-id-2 div.sk-parallel-item:first-child::after {align-self: flex-end;width: 50%;}#sk-container-id-2 div.sk-parallel-item:last-child::after {align-self: flex-start;width: 50%;}#sk-container-id-2 div.sk-parallel-item:only-child::after {width: 0;}#sk-container-id-2 div.sk-dashed-wrapped {border: 1px dashed gray;margin: 0 0.4em 0.5em 0.4em;box-sizing: border-box;padding-bottom: 0.4em;background-color: white;}#sk-container-id-2 div.sk-label label {font-family: monospace;font-weight: bold;display: inline-block;line-height: 1.2em;}#sk-container-id-2 div.sk-label-container {text-align: center;}#sk-container-id-2 div.sk-container {/* jupyter's `normalize.less` sets `[hidden] { display: none; }` but bootstrap.min.css set `[hidden] { display: none !important; }` so we also need the `!important` here to be able to override the default hidden behavior on the sphinx rendered scikit-learn.org. See: https://github.com/scikit-learn/scikit-learn/issues/21755 */display: inline-block !important;position: relative;}#sk-container-id-2 div.sk-text-repr-fallback {display: none;}</style><div id=\"sk-container-id-2\" class=\"sk-top-container\"><div class=\"sk-text-repr-fallback\"><pre>LinearRegression()</pre><b>In a Jupyter environment, please rerun this cell to show the HTML representation or trust the notebook. <br />On GitHub, the HTML representation is unable to render, please try loading this page with nbviewer.org.</b></div><div class=\"sk-container\" hidden><div class=\"sk-item\"><div class=\"sk-estimator sk-toggleable\"><input class=\"sk-toggleable__control sk-hidden--visually\" id=\"sk-estimator-id-2\" type=\"checkbox\" checked><label for=\"sk-estimator-id-2\" class=\"sk-toggleable__label sk-toggleable__label-arrow\">LinearRegression</label><div class=\"sk-toggleable__content\"><pre>LinearRegression()</pre></div></div></div></div></div>"
            ]
          },
          "metadata": {},
          "execution_count": 31
        }
      ]
    },
    {
      "cell_type": "code",
      "source": [
        "plt.plot(X, y, 'bo')\n",
        "plt.plot(X, linreg.coef_[0] * X + linreg.coef_[1] * X ** 3 + linreg.intercept_, 'r-')"
      ],
      "metadata": {
        "colab": {
          "base_uri": "https://localhost:8080/",
          "height": 282
        },
        "id": "R8TbjLjqi2RW",
        "outputId": "9cf8ba7c-3232-4fd2-8d93-7e356436e7ef"
      },
      "execution_count": 32,
      "outputs": [
        {
          "output_type": "execute_result",
          "data": {
            "text/plain": [
              "[<matplotlib.lines.Line2D at 0x7ff6320fcfa0>]"
            ]
          },
          "metadata": {},
          "execution_count": 32
        },
        {
          "output_type": "display_data",
          "data": {
            "text/plain": [
              "<Figure size 432x288 with 1 Axes>"
            ],
            "image/png": "[encoded data removed]"
          },
          "metadata": {
            "needs_background": "light"
          }
        }
      ]
    },
    {
      "cell_type": "markdown",
      "source": [
        "$$ y = bias + w_1 * x_1 + w_2 * x_2 = bias + w_1 * x_1 + w_2 * {x_1}^2$$"
      ],
      "metadata": {
        "id": "gCYgmUjW6bkh"
      }
    },
    {
      "cell_type": "code",
      "source": [
        "linreg.coef_[0],linreg.coef_[1],linreg.intercept_"
      ],
      "metadata": {
        "colab": {
          "base_uri": "https://localhost:8080/"
        },
        "id": "Ove9q7Mt6WQu",
        "outputId": "7f655ce2-b5c5-4b7b-9c78-2d0ca45056eb"
      },
      "execution_count": 40,
      "outputs": [
        {
          "output_type": "execute_result",
          "data": {
            "text/plain": [
              "(2.999999999999992, 0.9999999999999996, -4.999999999999999)"
            ]
          },
          "metadata": {},
          "execution_count": 40
        }
      ]
    },
    {
      "cell_type": "markdown",
      "source": [
        "Пример с **houses dataset**\n",
        "\n",
        "Скачиваем таблички экселя с данными"
      ],
      "metadata": {
        "id": "UL9_d4T5eXvF"
      }
    },
    {
      "cell_type": "code",
      "source": [
        "!wget -O houses_train.csv https://raw.githubusercontent.com/tiwari91/Housing-Prices/master/train.csv\n",
        "!wget -O houses_test.csv https://raw.githubusercontent.com/tiwari91/Housing-Prices/master/test.csv"
      ],
      "metadata": {
        "colab": {
          "base_uri": "https://localhost:8080/"
        },
        "id": "u59YSXIzeb3P",
        "outputId": "73408bc6-8515-4591-8f0f-4b4e1434910f"
      },
      "execution_count": 41,
      "outputs": [
        {
          "output_type": "stream",
          "name": "stdout",
          "text": [
            "--2023-03-04 08:38:42--  https://raw.githubusercontent.com/tiwari91/Housing-Prices/master/train.csv\n",
            "Resolving raw.githubusercontent.com (raw.githubusercontent.com)... 185.199.108.133, 185.199.109.133, 185.199.110.133, ...\n",
            "Connecting to raw.githubusercontent.com (raw.githubusercontent.com)|185.199.108.133|:443... connected.\n",
            "HTTP request sent, awaiting response... 200 OK\n",
            "Length: 460676 (450K) [text/plain]\n",
            "Saving to: ‘houses_train.csv’\n",
            "\n",
            "houses_train.csv    100%[===================>] 449.88K  --.-KB/s    in 0.04s   \n",
            "\n",
            "2023-03-04 08:38:42 (12.1 MB/s) - ‘houses_train.csv’ saved [460676/460676]\n",
            "\n",
            "--2023-03-04 08:38:43--  https://raw.githubusercontent.com/tiwari91/Housing-Prices/master/test.csv\n",
            "Resolving raw.githubusercontent.com (raw.githubusercontent.com)... 185.199.110.133, 185.199.111.133, 185.199.108.133, ...\n",
            "Connecting to raw.githubusercontent.com (raw.githubusercontent.com)|185.199.110.133|:443... connected.\n",
            "HTTP request sent, awaiting response... 200 OK\n",
            "Length: 451405 (441K) [text/plain]\n",
            "Saving to: ‘houses_test.csv’\n",
            "\n",
            "houses_test.csv     100%[===================>] 440.83K  --.-KB/s    in 0.04s   \n",
            "\n",
            "2023-03-04 08:38:43 (12.0 MB/s) - ‘houses_test.csv’ saved [451405/451405]\n",
            "\n"
          ]
        }
      ]
    },
    {
      "cell_type": "code",
      "source": [
        "import pandas as pd"
      ],
      "metadata": {
        "id": "xvzPdNM6xpJO"
      },
      "execution_count": 44,
      "outputs": []
    },
    {
      "cell_type": "code",
      "source": [
        "df_train = pd.read_csv('houses_train.csv').set_index('Id')\n",
        "df_test = pd.read_csv('houses_test.csv').set_index('Id')"
      ],
      "metadata": {
        "id": "Bp_nxW_0xwTy"
      },
      "execution_count": 46,
      "outputs": []
    },
    {
      "cell_type": "code",
      "source": [
        "len(df_train)"
      ],
      "metadata": {
        "colab": {
          "base_uri": "https://localhost:8080/"
        },
        "id": "xxXd-F3DyXrX",
        "outputId": "ee102130-7fa5-44a7-8e45-c1b86024b711"
      },
      "execution_count": 51,
      "outputs": [
        {
          "output_type": "execute_result",
          "data": {
            "text/plain": [
              "1460"
            ]
          },
          "metadata": {},
          "execution_count": 51
        }
      ]
    },
    {
      "cell_type": "markdown",
      "source": [
        "в тренировачной у нас 1460 объестов"
      ],
      "metadata": {
        "id": "ORqtDczuydZt"
      }
    },
    {
      "cell_type": "code",
      "source": [
        "len(df_test)"
      ],
      "metadata": {
        "colab": {
          "base_uri": "https://localhost:8080/"
        },
        "id": "PlQXrcB6yV_v",
        "outputId": "f07fcfe7-7a66-44e9-848c-5f78eaf973e1"
      },
      "execution_count": 52,
      "outputs": [
        {
          "output_type": "execute_result",
          "data": {
            "text/plain": [
              "1459"
            ]
          },
          "metadata": {},
          "execution_count": 52
        }
      ]
    },
    {
      "cell_type": "markdown",
      "source": [
        "в тестовой 1459"
      ],
      "metadata": {
        "id": "T7P3EpCJzzI1"
      }
    },
    {
      "cell_type": "markdown",
      "source": [
        "Рассмотрим корреляцию в трейне"
      ],
      "metadata": {
        "id": "ayRN-dFgz77E"
      }
    },
    {
      "cell_type": "markdown",
      "source": [
        "для примеря взяли SalePrice, и возьмем из него список фичей"
      ],
      "metadata": {
        "id": "oznUAmQh00Ty"
      }
    },
    {
      "cell_type": "code",
      "source": [
        "df = pd.read_csv('houses_train.csv').set_index('Id')\n",
        "df.corr()['SalePrice'].sort_values()"
      ],
      "metadata": {
        "colab": {
          "base_uri": "https://localhost:8080/"
        },
        "id": "yoESXKGM0FWf",
        "outputId": "71d5530a-cabd-4e52-fb73-ce8136dd393d"
      },
      "execution_count": 56,
      "outputs": [
        {
          "output_type": "execute_result",
          "data": {
            "text/plain": [
              "KitchenAbvGr    -0.135907\n",
              "EnclosedPorch   -0.128578\n",
              "MSSubClass      -0.084284\n",
              "OverallCond     -0.077856\n",
              "YrSold          -0.028923\n",
              "LowQualFinSF    -0.025606\n",
              "MiscVal         -0.021190\n",
              "BsmtHalfBath    -0.016844\n",
              "BsmtFinSF2      -0.011378\n",
              "3SsnPorch        0.044584\n",
              "MoSold           0.046432\n",
              "PoolArea         0.092404\n",
              "ScreenPorch      0.111447\n",
              "BedroomAbvGr     0.168213\n",
              "BsmtUnfSF        0.214479\n",
              "BsmtFullBath     0.227122\n",
              "LotArea          0.263843\n",
              "HalfBath         0.284108\n",
              "OpenPorchSF      0.315856\n",
              "2ndFlrSF         0.319334\n",
              "WoodDeckSF       0.324413\n",
              "LotFrontage      0.351799\n",
              "BsmtFinSF1       0.386420\n",
              "Fireplaces       0.466929\n",
              "MasVnrArea       0.477493\n",
              "GarageYrBlt      0.486362\n",
              "YearRemodAdd     0.507101\n",
              "YearBuilt        0.522897\n",
              "TotRmsAbvGrd     0.533723\n",
              "FullBath         0.560664\n",
              "1stFlrSF         0.605852\n",
              "TotalBsmtSF      0.613581\n",
              "GarageArea       0.623431\n",
              "GarageCars       0.640409\n",
              "GrLivArea        0.708624\n",
              "OverallQual      0.790982\n",
              "SalePrice        1.000000\n",
              "Name: SalePrice, dtype: float64"
            ]
          },
          "metadata": {},
          "execution_count": 56
        }
      ]
    },
    {
      "cell_type": "code",
      "source": [
        "columns = ['1stFlrSF', 'TotalBsmtSF', 'GarageArea', 'GrLivArea', 'SalePrice']"
      ],
      "metadata": {
        "id": "OT3edlSRegTK"
      },
      "execution_count": 57,
      "outputs": []
    },
    {
      "cell_type": "markdown",
      "source": [
        "посмотрим на нашу выборку"
      ],
      "metadata": {
        "id": "W_3fZuOY128z"
      }
    },
    {
      "cell_type": "code",
      "source": [
        "df[columns]"
      ],
      "metadata": {
        "colab": {
          "base_uri": "https://localhost:8080/",
          "height": 455
        },
        "id": "1IQ3rRRS1wGe",
        "outputId": "86fa47a4-a6a1-48a9-c843-b644f4cb11ef"
      },
      "execution_count": 59,
      "outputs": [
        {
          "output_type": "execute_result",
          "data": {
            "text/plain": [
              "      1stFlrSF  TotalBsmtSF  GarageArea  GrLivArea  SalePrice\n",
              "Id                                                           \n",
              "1          856          856         548       1710     208500\n",
              "2         1262         1262         460       1262     181500\n",
              "3          920          920         608       1786     223500\n",
              "4          961          756         642       1717     140000\n",
              "5         1145         1145         836       2198     250000\n",
              "...        ...          ...         ...        ...        ...\n",
              "1456       953          953         460       1647     175000\n",
              "1457      2073         1542         500       2073     210000\n",
              "1458      1188         1152         252       2340     266500\n",
              "1459      1078         1078         240       1078     142125\n",
              "1460      1256         1256         276       1256     147500\n",
              "\n",
              "[1460 rows x 5 columns]"
            ],
            "text/html": [
              "\n",
              "  <div id=\"df-f1392611-e889-436d-b6f3-c5972a0390dd\">\n",
              "    <div class=\"colab-df-container\">\n",
              "      <div>\n",
              "<style scoped>\n",
              "    .dataframe tbody tr th:only-of-type {\n",
              "        vertical-align: middle;\n",
              "    }\n",
              "\n",
              "    .dataframe tbody tr th {\n",
              "        vertical-align: top;\n",
              "    }\n",
              "\n",
              "    .dataframe thead th {\n",
              "        text-align: right;\n",
              "    }\n",
              "</style>\n",
              "<table border=\"1\" class=\"dataframe\">\n",
              "  <thead>\n",
              "    <tr style=\"text-align: right;\">\n",
              "      <th></th>\n",
              "      <th>1stFlrSF</th>\n",
              "      <th>TotalBsmtSF</th>\n",
              "      <th>GarageArea</th>\n",
              "      <th>GrLivArea</th>\n",
              "      <th>SalePrice</th>\n",
              "    </tr>\n",
              "    <tr>\n",
              "      <th>Id</th>\n",
              "      <th></th>\n",
              "      <th></th>\n",
              "      <th></th>\n",
              "      <th></th>\n",
              "      <th></th>\n",
              "    </tr>\n",
              "  </thead>\n",
              "  <tbody>\n",
              "    <tr>\n",
              "      <th>1</th>\n",
              "      <td>856</td>\n",
              "      <td>856</td>\n",
              "      <td>548</td>\n",
              "      <td>1710</td>\n",
              "      <td>208500</td>\n",
              "    </tr>\n",
              "    <tr>\n",
              "      <th>2</th>\n",
              "      <td>1262</td>\n",
              "      <td>1262</td>\n",
              "      <td>460</td>\n",
              "      <td>1262</td>\n",
              "      <td>181500</td>\n",
              "    </tr>\n",
              "    <tr>\n",
              "      <th>3</th>\n",
              "      <td>920</td>\n",
              "      <td>920</td>\n",
              "      <td>608</td>\n",
              "      <td>1786</td>\n",
              "      <td>223500</td>\n",
              "    </tr>\n",
              "    <tr>\n",
              "      <th>4</th>\n",
              "      <td>961</td>\n",
              "      <td>756</td>\n",
              "      <td>642</td>\n",
              "      <td>1717</td>\n",
              "      <td>140000</td>\n",
              "    </tr>\n",
              "    <tr>\n",
              "      <th>5</th>\n",
              "      <td>1145</td>\n",
              "      <td>1145</td>\n",
              "      <td>836</td>\n",
              "      <td>2198</td>\n",
              "      <td>250000</td>\n",
              "    </tr>\n",
              "    <tr>\n",
              "      <th>...</th>\n",
              "      <td>...</td>\n",
              "      <td>...</td>\n",
              "      <td>...</td>\n",
              "      <td>...</td>\n",
              "      <td>...</td>\n",
              "    </tr>\n",
              "    <tr>\n",
              "      <th>1456</th>\n",
              "      <td>953</td>\n",
              "      <td>953</td>\n",
              "      <td>460</td>\n",
              "      <td>1647</td>\n",
              "      <td>175000</td>\n",
              "    </tr>\n",
              "    <tr>\n",
              "      <th>1457</th>\n",
              "      <td>2073</td>\n",
              "      <td>1542</td>\n",
              "      <td>500</td>\n",
              "      <td>2073</td>\n",
              "      <td>210000</td>\n",
              "    </tr>\n",
              "    <tr>\n",
              "      <th>1458</th>\n",
              "      <td>1188</td>\n",
              "      <td>1152</td>\n",
              "      <td>252</td>\n",
              "      <td>2340</td>\n",
              "      <td>266500</td>\n",
              "    </tr>\n",
              "    <tr>\n",
              "      <th>1459</th>\n",
              "      <td>1078</td>\n",
              "      <td>1078</td>\n",
              "      <td>240</td>\n",
              "      <td>1078</td>\n",
              "      <td>142125</td>\n",
              "    </tr>\n",
              "    <tr>\n",
              "      <th>1460</th>\n",
              "      <td>1256</td>\n",
              "      <td>1256</td>\n",
              "      <td>276</td>\n",
              "      <td>1256</td>\n",
              "      <td>147500</td>\n",
              "    </tr>\n",
              "  </tbody>\n",
              "</table>\n",
              "<p>1460 rows × 5 columns</p>\n",
              "</div>\n",
              "      <button class=\"colab-df-convert\" onclick=\"convertToInteractive('df-f1392611-e889-436d-b6f3-c5972a0390dd')\"\n",
              "              title=\"Convert this dataframe to an interactive table.\"\n",
              "              style=\"display:none;\">\n",
              "        \n",
              "  <svg xmlns=\"http://www.w3.org/2000/svg\" height=\"24px\"viewBox=\"0 0 24 24\"\n",
              "       width=\"24px\">\n",
              "    <path d=\"M0 0h24v24H0V0z\" fill=\"none\"/>\n",
              "    <path d=\"M18.56 5.44l.94 2.06.94-2.06 2.06-.94-2.06-.94-.94-2.06-.94 2.06-2.06.94zm-11 1L8.5 8.5l.94-2.06 2.06-.94-2.06-.94L8.5 2.5l-.94 2.06-2.06.94zm10 10l.94 2.06.94-2.06 2.06-.94-2.06-.94-.94-2.06-.94 2.06-2.06.94z\"/><path d=\"M17.41 7.96l-1.37-1.37c-.4-.4-.92-.59-1.43-.59-.52 0-1.04.2-1.43.59L10.3 9.45l-7.72 7.72c-.78.78-.78 2.05 0 2.83L4 21.41c.39.39.9.59 1.41.59.51 0 1.02-.2 1.41-.59l7.78-7.78 2.81-2.81c.8-.78.8-2.07 0-2.86zM5.41 20L4 18.59l7.72-7.72 1.47 1.35L5.41 20z\"/>\n",
              "  </svg>\n",
              "      </button>\n",
              "      \n",
              "  <style>\n",
              "    .colab-df-container {\n",
              "      display:flex;\n",
              "      flex-wrap:wrap;\n",
              "      gap: 12px;\n",
              "    }\n",
              "\n",
              "    .colab-df-convert {\n",
              "      background-color: #E8F0FE;\n",
              "      border: none;\n",
              "      border-radius: 50%;\n",
              "      cursor: pointer;\n",
              "      display: none;\n",
              "      fill: #1967D2;\n",
              "      height: 32px;\n",
              "      padding: 0 0 0 0;\n",
              "      width: 32px;\n",
              "    }\n",
              "\n",
              "    .colab-df-convert:hover {\n",
              "      background-color: #E2EBFA;\n",
              "      box-shadow: 0px 1px 2px rgba(60, 64, 67, 0.3), 0px 1px 3px 1px rgba(60, 64, 67, 0.15);\n",
              "      fill: #174EA6;\n",
              "    }\n",
              "\n",
              "    [theme=dark] .colab-df-convert {\n",
              "      background-color: #3B4455;\n",
              "      fill: #D2E3FC;\n",
              "    }\n",
              "\n",
              "    [theme=dark] .colab-df-convert:hover {\n",
              "      background-color: #434B5C;\n",
              "      box-shadow: 0px 1px 3px 1px rgba(0, 0, 0, 0.15);\n",
              "      filter: drop-shadow(0px 1px 2px rgba(0, 0, 0, 0.3));\n",
              "      fill: #FFFFFF;\n",
              "    }\n",
              "  </style>\n",
              "\n",
              "      <script>\n",
              "        const buttonEl =\n",
              "          document.querySelector('#df-f1392611-e889-436d-b6f3-c5972a0390dd button.colab-df-convert');\n",
              "        buttonEl.style.display =\n",
              "          google.colab.kernel.accessAllowed ? 'block' : 'none';\n",
              "\n",
              "        async function convertToInteractive(key) {\n",
              "          const element = document.querySelector('#df-f1392611-e889-436d-b6f3-c5972a0390dd');\n",
              "          const dataTable =\n",
              "            await google.colab.kernel.invokeFunction('convertToInteractive',\n",
              "                                                     [key], {});\n",
              "          if (!dataTable) return;\n",
              "\n",
              "          const docLinkHtml = 'Like what you see? Visit the ' +\n",
              "            '<a target=\"_blank\" href=https://colab.research.google.com/notebooks/data_table.ipynb>data table notebook</a>'\n",
              "            + ' to learn more about interactive tables.';\n",
              "          element.innerHTML = '';\n",
              "          dataTable['output_type'] = 'display_data';\n",
              "          await google.colab.output.renderOutput(dataTable, element);\n",
              "          const docLink = document.createElement('div');\n",
              "          docLink.innerHTML = docLinkHtml;\n",
              "          element.appendChild(docLink);\n",
              "        }\n",
              "      </script>\n",
              "    </div>\n",
              "  </div>\n",
              "  "
            ]
          },
          "metadata": {},
          "execution_count": 59
        }
      ]
    },
    {
      "cell_type": "code",
      "source": [
        "df = pd.read_csv('houses_train.csv').set_index('Id')[columns] # получили такую же таблицу, что и сверху"
      ],
      "metadata": {
        "id": "c09lIQTr16De"
      },
      "execution_count": 63,
      "outputs": []
    },
    {
      "cell_type": "markdown",
      "source": [
        "'SalePrice' - это колонка, которую будем предсказыввать, поэтому мы ее удаляем из Х (это входные данные, тут только фичи)"
      ],
      "metadata": {
        "id": "S48eldYQ2AdB"
      }
    },
    {
      "cell_type": "code",
      "source": [
        "X = df.drop(columns=['SalePrice']).to_numpy()\n",
        "print(X.shape) # поглядим какая размерность матрицы\n",
        "y = df['SalePrice'].to_numpy()"
      ],
      "metadata": {
        "id": "U02782Ak9WVz",
        "colab": {
          "base_uri": "https://localhost:8080/"
        },
        "outputId": "94521ebe-1a5f-40f4-e1fe-c7ee3d40e1d0"
      },
      "execution_count": 65,
      "outputs": [
        {
          "output_type": "stream",
          "name": "stdout",
          "text": [
            "(1460, 4)\n"
          ]
        }
      ]
    },
    {
      "cell_type": "markdown",
      "source": [
        "Дальше вспоминаем про train test"
      ],
      "metadata": {
        "id": "ob2yTrj02-av"
      }
    },
    {
      "cell_type": "code",
      "source": [
        "from sklearn.model_selection import train_test_split\n",
        "\n",
        "X_train, X_test, y_train, y_test = train_test_split(X, y, test_size=0.2, random_state=42)"
      ],
      "metadata": {
        "id": "0dG0lYR59yub"
      },
      "execution_count": 68,
      "outputs": []
    },
    {
      "cell_type": "markdown",
      "source": [
        "test_size=0.2 - означает, что 20% для теста, а остальные 80% для train\n",
        "\n",
        "Дальше юзаем нашу линейную регрессию, что она обучилась"
      ],
      "metadata": {
        "id": "hTiRhSQ-3Mhb"
      }
    },
    {
      "cell_type": "code",
      "source": [
        "linreg = LinearRegression()\n",
        "linreg.fit(X_train, y_train)"
      ],
      "metadata": {
        "colab": {
          "base_uri": "https://localhost:8080/",
          "height": 75
        },
        "id": "QD0MgDMA9Yu9",
        "outputId": "c556890d-3ec7-428e-a0ad-c100112dc543"
      },
      "execution_count": 69,
      "outputs": [
        {
          "output_type": "execute_result",
          "data": {
            "text/plain": [
              "LinearRegression()"
            ],
            "text/html": [
              "<style>#sk-container-id-4 {color: black;background-color: white;}#sk-container-id-4 pre{padding: 0;}#sk-container-id-4 div.sk-toggleable {background-color: white;}#sk-container-id-4 label.sk-toggleable__label {cursor: pointer;display: block;width: 100%;margin-bottom: 0;padding: 0.3em;box-sizing: border-box;text-align: center;}#sk-container-id-4 label.sk-toggleable__label-arrow:before {content: \"▸\";float: left;margin-right: 0.25em;color: #696969;}#sk-container-id-4 label.sk-toggleable__label-arrow:hover:before {color: black;}#sk-container-id-4 div.sk-estimator:hover label.sk-toggleable__label-arrow:before {color: black;}#sk-container-id-4 div.sk-toggleable__content {max-height: 0;max-width: 0;overflow: hidden;text-align: left;background-color: #f0f8ff;}#sk-container-id-4 div.sk-toggleable__content pre {margin: 0.2em;color: black;border-radius: 0.25em;background-color: #f0f8ff;}#sk-container-id-4 input.sk-toggleable__control:checked~div.sk-toggleable__content {max-height: 200px;max-width: 100%;overflow: auto;}#sk-container-id-4 input.sk-toggleable__control:checked~label.sk-toggleable__label-arrow:before {content: \"▾\";}#sk-container-id-4 div.sk-estimator input.sk-toggleable__control:checked~label.sk-toggleable__label {background-color: #d4ebff;}#sk-container-id-4 div.sk-label input.sk-toggleable__control:checked~label.sk-toggleable__label {background-color: #d4ebff;}#sk-container-id-4 input.sk-hidden--visually {border: 0;clip: rect(1px 1px 1px 1px);clip: rect(1px, 1px, 1px, 1px);height: 1px;margin: -1px;overflow: hidden;padding: 0;position: absolute;width: 1px;}#sk-container-id-4 div.sk-estimator {font-family: monospace;background-color: #f0f8ff;border: 1px dotted black;border-radius: 0.25em;box-sizing: border-box;margin-bottom: 0.5em;}#sk-container-id-4 div.sk-estimator:hover {background-color: #d4ebff;}#sk-container-id-4 div.sk-parallel-item::after {content: \"\";width: 100%;border-bottom: 1px solid gray;flex-grow: 1;}#sk-container-id-4 div.sk-label:hover label.sk-toggleable__label {background-color: #d4ebff;}#sk-container-id-4 div.sk-serial::before {content: \"\";position: absolute;border-left: 1px solid gray;box-sizing: border-box;top: 0;bottom: 0;left: 50%;z-index: 0;}#sk-container-id-4 div.sk-serial {display: flex;flex-direction: column;align-items: center;background-color: white;padding-right: 0.2em;padding-left: 0.2em;position: relative;}#sk-container-id-4 div.sk-item {position: relative;z-index: 1;}#sk-container-id-4 div.sk-parallel {display: flex;align-items: stretch;justify-content: center;background-color: white;position: relative;}#sk-container-id-4 div.sk-item::before, #sk-container-id-4 div.sk-parallel-item::before {content: \"\";position: absolute;border-left: 1px solid gray;box-sizing: border-box;top: 0;bottom: 0;left: 50%;z-index: -1;}#sk-container-id-4 div.sk-parallel-item {display: flex;flex-direction: column;z-index: 1;position: relative;background-color: white;}#sk-container-id-4 div.sk-parallel-item:first-child::after {align-self: flex-end;width: 50%;}#sk-container-id-4 div.sk-parallel-item:last-child::after {align-self: flex-start;width: 50%;}#sk-container-id-4 div.sk-parallel-item:only-child::after {width: 0;}#sk-container-id-4 div.sk-dashed-wrapped {border: 1px dashed gray;margin: 0 0.4em 0.5em 0.4em;box-sizing: border-box;padding-bottom: 0.4em;background-color: white;}#sk-container-id-4 div.sk-label label {font-family: monospace;font-weight: bold;display: inline-block;line-height: 1.2em;}#sk-container-id-4 div.sk-label-container {text-align: center;}#sk-container-id-4 div.sk-container {/* jupyter's `normalize.less` sets `[hidden] { display: none; }` but bootstrap.min.css set `[hidden] { display: none !important; }` so we also need the `!important` here to be able to override the default hidden behavior on the sphinx rendered scikit-learn.org. See: https://github.com/scikit-learn/scikit-learn/issues/21755 */display: inline-block !important;position: relative;}#sk-container-id-4 div.sk-text-repr-fallback {display: none;}</style><div id=\"sk-container-id-4\" class=\"sk-top-container\"><div class=\"sk-text-repr-fallback\"><pre>LinearRegression()</pre><b>In a Jupyter environment, please rerun this cell to show the HTML representation or trust the notebook. <br />On GitHub, the HTML representation is unable to render, please try loading this page with nbviewer.org.</b></div><div class=\"sk-container\" hidden><div class=\"sk-item\"><div class=\"sk-estimator sk-toggleable\"><input class=\"sk-toggleable__control sk-hidden--visually\" id=\"sk-estimator-id-4\" type=\"checkbox\" checked><label for=\"sk-estimator-id-4\" class=\"sk-toggleable__label sk-toggleable__label-arrow\">LinearRegression</label><div class=\"sk-toggleable__content\"><pre>LinearRegression()</pre></div></div></div></div></div>"
            ]
          },
          "metadata": {},
          "execution_count": 69
        }
      ]
    },
    {
      "cell_type": "markdown",
      "source": [
        "Получили следующие веса:"
      ],
      "metadata": {
        "id": "X-KPg3IM3lNV"
      }
    },
    {
      "cell_type": "code",
      "source": [
        "linreg.coef_"
      ],
      "metadata": {
        "colab": {
          "base_uri": "https://localhost:8080/"
        },
        "id": "bjuewDhC3gpJ",
        "outputId": "6591e739-42b1-4543-d531-25449d897258"
      },
      "execution_count": 70,
      "outputs": [
        {
          "output_type": "execute_result",
          "data": {
            "text/plain": [
              "array([ -8.85744163,  50.7605105 , 105.18039453,  66.65706195])"
            ]
          },
          "metadata": {},
          "execution_count": 70
        }
      ]
    },
    {
      "cell_type": "markdown",
      "source": [
        "что мы можем отсюда узнать?\n",
        "\n",
        "например, чем меньше первая фича, тем меньше стоимость квартиры\n",
        "\n",
        "Проверим насколько мы ошиблись и посмотрим метод предикт"
      ],
      "metadata": {
        "id": "TGeQDBQS3tW0"
      }
    },
    {
      "cell_type": "code",
      "source": [
        "linreg.predict(X_test)"
      ],
      "metadata": {
        "colab": {
          "base_uri": "https://localhost:8080/"
        },
        "id": "hERDOgAD3_4Y",
        "outputId": "d802eb06-c764-4058-9ba6-7778e2f118e0"
      },
      "execution_count": 72,
      "outputs": [
        {
          "output_type": "execute_result",
          "data": {
            "text/plain": [
              "array([129249.18803692, 296635.91051109, 134445.73506383, 183159.986691  ,\n",
              "       257788.12049998,  54389.07117659, 192012.81409586, 165155.36843493,\n",
              "        54389.07117659, 144100.48188055, 143104.45770769, 110662.09161653,\n",
              "       214314.07808911, 207678.2702691 , 185851.00315774, 120668.09531357,\n",
              "       182124.2867558 , 129524.89401811, 128254.60266505, 203927.50911715,\n",
              "       198678.63405539, 195104.98690436, 172103.89006919, 120004.03272289,\n",
              "       211395.8787204 , 171905.39471422, 173118.20029218, 121864.29960099,\n",
              "       181151.14332887, 181783.54947928, 147327.46949688, 255737.06434258,\n",
              "       258324.4032032 , 119111.48495266, 253921.71741354, 149709.76887094,\n",
              "       189411.17238934, 195651.19475563, 293637.88088182,  69371.01539792,\n",
              "       154113.04612273, 212638.28242113, 118578.82350743, 353876.72429169,\n",
              "       153416.78368201, 195602.80488806, 115294.98169261, 130270.74598197,\n",
              "       299706.63513379, 157336.65763929, 116598.2097244 , 231208.71544919,\n",
              "       116202.20083151, 302884.64973953, 122230.94539856, 243658.51599103,\n",
              "       177666.33288456, 165032.30910984, 173472.15508679,  75027.18942116,\n",
              "        67690.75147443, 153342.13209284, 288348.00681707, 211348.45525233,\n",
              "       251453.95953908, 232325.8102793 , 110961.64112236, 277654.92645677,\n",
              "        91733.75617795, 160008.89588106, 116790.76376265, 138183.62200183,\n",
              "       121483.7262886 ,  88179.95170518, 327154.40417452, 171480.06769075,\n",
              "       295346.07646745, 305376.21148131, 142394.45756166, 107696.58967473,\n",
              "        99793.51532411, 132578.20378621, 147947.40316632,  75565.39706551,\n",
              "       153754.31136249, 152203.32340245, 271883.04773273, 190539.3344067 ,\n",
              "       122230.94539856, 159833.67868829, 240647.91306684, 175258.36510857,\n",
              "       102348.87966531, 291040.55504809, 177930.50004737, 170617.93754709,\n",
              "       199754.26734608, 164763.67921559, 219616.03103599, 226427.56765027,\n",
              "       216787.63648032, 198001.14139643, 281598.4431483 , 138173.71649954,\n",
              "       199645.61132169, 192937.79649355, 143658.25657479, 234429.67916245,\n",
              "       164151.9433969 , 221232.98808095,  45636.65978776,  98898.72481193,\n",
              "       126245.62739039, 145127.77617261, 212336.18285592,  97709.66045872,\n",
              "       113364.55749188, 130436.56506314, 157796.04517054, 335448.71411044,\n",
              "       105629.55143009, 122230.94539856, 179413.68044705, 181051.80442732,\n",
              "       198851.79051693, 117791.86470142, 234288.17228394, 111480.45495968,\n",
              "       142327.27140564, 187312.14145468, 178406.82894877, 290593.19956868,\n",
              "       198295.65502176, 164670.40199496,  70500.61306992, 254260.59442004,\n",
              "       281415.3064616 , 120221.15298452, 260217.0002134 , 463609.25669565,\n",
              "       318446.4177359 , 113245.44958252, 180471.90565974, 207133.47798629,\n",
              "       160798.87257762, 112164.8817448 , 184631.08491871, 204008.3858446 ,\n",
              "       111021.80546434,  79792.14178798, 116237.55750874, 151152.65244373,\n",
              "       285567.1836822 , 234363.82810646, 121450.09676904, 142990.79347844,\n",
              "       161591.36051326, 182296.6424861 ,  47766.50859766, 123743.65963364,\n",
              "       170866.70114435, 161219.59415575, 248424.39562961, 174208.85374434,\n",
              "       137255.14195229, 181404.42423354, 217416.85895758, 310968.39673353,\n",
              "       335948.71810122, 224574.98110123, 269068.29789636,  81746.2241427 ,\n",
              "       129686.53046639, 167258.7127909 , 300910.31005826, 153449.93679082,\n",
              "       138495.66347098, 190683.88886146, 141536.53448859, 168690.69412328,\n",
              "       173790.3288183 , 126760.58688771, 147963.75886084, 130609.02359707,\n",
              "       224609.27103489, 171714.99576472, 253351.82605666, 209683.76713328,\n",
              "       184361.95472862, 111746.36884711, 155318.29959937, 136770.01774653,\n",
              "       128418.59540229, 143904.26502738, 193408.28579779, 179667.00220964,\n",
              "       179219.88888413, 127273.72967569, 192930.23892617, 124923.00737871,\n",
              "       213002.7765559 , 155632.87772359, 152966.56694038, 296107.3275165 ,\n",
              "       186991.87316162, 132774.38846335, 216800.17524977, 158178.6847838 ,\n",
              "       154714.30670266, 109178.15531348, 239566.86087167, 149305.88611314,\n",
              "       105023.20862581, 160760.29094519, 181254.57149689, 234886.64952155,\n",
              "       199044.87431312, 193912.57246489, 148340.89120755, 146739.37782955,\n",
              "       127805.50399184, 187579.01895711, 219096.71844465, 110747.87928649,\n",
              "       209305.3812052 , 149135.32488123, 145968.94502249,  97964.08133614,\n",
              "       179210.27990907, 140902.21539539,  72145.39717319, 159430.64345024,\n",
              "       110084.09541335, 144465.57308628, 204745.43716686, 148687.06081153,\n",
              "       183190.11455577, 150398.1909423 , 219473.07913974, 113964.81366282,\n",
              "       110193.78489597, 263051.1999988 , 191889.56774416, 308663.47713211,\n",
              "       205224.90252549, 125219.63929636, 155626.64325744, 166114.4421262 ,\n",
              "       160217.9028909 ,  97945.23060977, 178294.30691597, 138786.27039476,\n",
              "       147628.7401212 ,  83730.20437551, 141675.85780822, 148326.34219996,\n",
              "       123949.02577257, 126950.24096139, 175208.99078684, 234911.49161291,\n",
              "       292392.88057266, 174565.3222041 , 115444.50722854, 217920.86399198,\n",
              "       256042.76465558, 222566.13662292, 168663.09240055, 122230.94539856,\n",
              "       165780.34535916, 136024.32136954, 300770.35569193, 179734.42593888,\n",
              "       236484.66534486, 117919.49912396, 105336.26630473, 189646.15570919,\n",
              "       180527.63435569, 253791.37668655, 191619.4214068 , 157201.59215922,\n",
              "       193455.91025056,  54389.07117659, 187822.98413012,  96000.8548049 ,\n",
              "       258721.61275384, 196235.5658232 , 213623.88515693, 168088.56749027,\n",
              "       197320.75856169, 156678.26685232, 149418.56608025, 128490.66445654])"
            ]
          },
          "metadata": {},
          "execution_count": 72
        }
      ]
    },
    {
      "cell_type": "markdown",
      "source": [
        "тут на выходе получили наши y, которые предполагает наша модель\n",
        "\n",
        "Посмотрим на наши метрики (СКО и МАО)"
      ],
      "metadata": {
        "id": "l_eLV3sQ4Pir"
      }
    },
    {
      "cell_type": "code",
      "source": [
        "y_pred = linreg.predict(X_test)"
      ],
      "metadata": {
        "id": "Kp7uBkg34lMk"
      },
      "execution_count": 74,
      "outputs": []
    },
    {
      "cell_type": "markdown",
      "source": [
        "посмотрим квадратичную ошибку, оценивать ее учитывая специфику данных"
      ],
      "metadata": {
        "id": "zFIB0tZB4mOX"
      }
    },
    {
      "cell_type": "code",
      "source": [
        "from sklearn.metrics import mean_squared_error\n",
        "mean_squared_error(linreg.predict(X_train), y_train)"
      ],
      "metadata": {
        "colab": {
          "base_uri": "https://localhost:8080/"
        },
        "id": "5IzH6wubCQOB",
        "outputId": "164bfce0-024d-460c-cc03-614396d157a2"
      },
      "execution_count": 76,
      "outputs": [
        {
          "output_type": "execute_result",
          "data": {
            "text/plain": [
              "2140672607.6538696"
            ]
          },
          "metadata": {},
          "execution_count": 76
        }
      ]
    },
    {
      "cell_type": "markdown",
      "source": [
        "Глянем еще на абсолютную ошибку, ну ошибка в среднем почти 30к"
      ],
      "metadata": {
        "id": "-G56q7eo47MI"
      }
    },
    {
      "cell_type": "code",
      "source": [
        "from sklearn.metrics import mean_absolute_error\n",
        "mean_absolute_error(y_test, y_pred)"
      ],
      "metadata": {
        "colab": {
          "base_uri": "https://localhost:8080/"
        },
        "id": "q5iwpRqq4_PT",
        "outputId": "39ca290c-ded3-4bac-c488-813735371897"
      },
      "execution_count": 78,
      "outputs": [
        {
          "output_type": "execute_result",
          "data": {
            "text/plain": [
              "28916.51268089065"
            ]
          },
          "metadata": {},
          "execution_count": 78
        }
      ]
    },
    {
      "cell_type": "markdown",
      "source": [
        "ну и запомним значения"
      ],
      "metadata": {
        "id": "BiUnhsg55IZZ"
      }
    },
    {
      "cell_type": "code",
      "source": [
        "mse_linreg = mean_squared_error(y_test, y_pred)\n",
        "mae_linreg = mean_absolute_error(y_test, y_pred)\n",
        "\n",
        "print(\"MSE: {}\\n MAE: {}\".format(mse_linreg, mae_linreg))"
      ],
      "metadata": {
        "colab": {
          "base_uri": "https://localhost:8080/"
        },
        "id": "Y0q_Nxef5L8b",
        "outputId": "12abe79e-6ce4-4e7e-ddfe-4d9c3878ffa8"
      },
      "execution_count": 79,
      "outputs": [
        {
          "output_type": "stream",
          "name": "stdout",
          "text": [
            "MSE: 2125411092.7866356\n",
            " MAE: 28916.51268089065\n"
          ]
        }
      ]
    },
    {
      "cell_type": "markdown",
      "source": [
        "Посчитаем в лоб"
      ],
      "metadata": {
        "id": "L810YY9B6GBW"
      }
    },
    {
      "cell_type": "code",
      "source": [
        "y_mean = np.ones_like(y_test) * y_train.mean()\n",
        "\n",
        "mse_mean = mean_squared_error(y_test, y_mean)\n",
        "mae_mean = mean_absolute_error(y_test, y_mean)\n",
        "\n",
        "print(\"MSE: {}\\n MAE: {}\".format(mse_mean, mae_mean))"
      ],
      "metadata": {
        "colab": {
          "base_uri": "https://localhost:8080/"
        },
        "id": "JKQLrnvJ6fOT",
        "outputId": "07e7be99-4bd2-4d4e-ecd5-715f72999641"
      },
      "execution_count": 81,
      "outputs": [
        {
          "output_type": "stream",
          "name": "stdout",
          "text": [
            "MSE: 7677095207.783831\n",
            " MAE: 62575.926451960964\n"
          ]
        }
      ]
    },
    {
      "cell_type": "markdown",
      "source": [
        "теперь видим, что решение в лоб хуже"
      ],
      "metadata": {
        "id": "jx7kZzps7JLJ"
      }
    },
    {
      "cell_type": "markdown",
      "source": [
        "Посмотрим на медиану"
      ],
      "metadata": {
        "id": "lgEZRwCf7mWn"
      }
    },
    {
      "cell_type": "code",
      "source": [
        "y_median = np.ones_like(y_test) * np.median(y_train)\n",
        "\n",
        "mse_median = mean_squared_error(y_test, y_median)\n",
        "mae_median = mean_absolute_error(y_test, y_median)\n",
        "\n",
        "print(\"MSE: {}\\n MAE: {}\".format(mse_median, mae_median))"
      ],
      "metadata": {
        "colab": {
          "base_uri": "https://localhost:8080/"
        },
        "id": "Z-hC73JP7qrS",
        "outputId": "79c14f07-8c60-4048-9ad3-3d2c93c42f06"
      },
      "execution_count": 82,
      "outputs": [
        {
          "output_type": "stream",
          "name": "stdout",
          "text": [
            "MSE: 7861866593.5239725\n",
            " MAE: 59568.25\n"
          ]
        }
      ]
    },
    {
      "cell_type": "markdown",
      "source": [
        "Видим, что линейная регрессия и тут обгоняет в качестве, возможно, что выбрав более характерные признаки, то наша модель могла бы очень хорошо отработать: у нас 70 фичей и 1500 строк и может возникнуть недо-обученность  "
      ],
      "metadata": {
        "id": "YRRrUFOn73AF"
      }
    },
    {
      "cell_type": "markdown",
      "source": [
        "глянем на X_train"
      ],
      "metadata": {
        "id": "FP_LzFmc8jN9"
      }
    },
    {
      "cell_type": "code",
      "source": [
        "mean_squared_error(linreg.predict(X_train), y_train)"
      ],
      "metadata": {
        "colab": {
          "base_uri": "https://localhost:8080/"
        },
        "id": "aP3l70GB8mUL",
        "outputId": "8e0d58f3-2f17-4f82-ecb7-5e10fd424634"
      },
      "execution_count": 84,
      "outputs": [
        {
          "output_type": "execute_result",
          "data": {
            "text/plain": [
              "2140672607.6538696"
            ]
          },
          "metadata": {},
          "execution_count": 84
        }
      ]
    },
    {
      "cell_type": "markdown",
      "source": [
        "Сравним с mse_linreg(ищи выше)\n",
        "\n",
        "MSE: 2125411092.7866356\n",
        "     \n",
        "mse: 2140672607.6538696\n",
        "\n",
        "Видим, что ошибка не сильно отличается, значит либо очень мало переобучились, либо вообще не переобучились (это хорошо)"
      ],
      "metadata": {
        "id": "S8FK8ce59MHw"
      }
    },
    {
      "cell_type": "markdown",
      "source": [
        "Конец "
      ],
      "metadata": {
        "id": "hbOzTh9E98Xd"
      }
    }
  ]
}