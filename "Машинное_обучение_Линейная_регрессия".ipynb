{
  "nbformat": 4,
  "nbformat_minor": 0,
  "metadata": {
    "colab": {
      "provenance": [],
      "include_colab_link": true
    },
    "kernelspec": {
      "name": "python3",
      "display_name": "Python 3"
    },
    "language_info": {
      "name": "python"
    }
  },
  "cells": [
    {
      "cell_type": "markdown",
      "metadata": {
        "id": "view-in-github",
        "colab_type": "text"
      },
      "source": [
        "<a href=\"https://colab.research.google.com/github/SedyaPrograms/Tutorial/blob/main/%22%D0%9C%D0%B0%D1%88%D0%B8%D0%BD%D0%BD%D0%BE%D0%B5_%D0%BE%D0%B1%D1%83%D1%87%D0%B5%D0%BD%D0%B8%D0%B5_%D0%9B%D0%B8%D0%BD%D0%B5%D0%B9%D0%BD%D0%B0%D1%8F_%D1%80%D0%B5%D0%B3%D1%80%D0%B5%D1%81%D1%81%D0%B8%D1%8F%22.ipynb\" target=\"_parent\"><img src=\"https://colab.research.google.com/assets/colab-badge.svg\" alt=\"Open In Colab\"/></a>"
      ]
    },
    {
      "cell_type": "code",
      "execution_count": null,
      "metadata": {
        "id": "XJJSuiOqDG8S"
      },
      "outputs": [],
      "source": [
        "import numpy as np\n",
        "import sklearn\n",
        "from sklearn.datasets import make_regression"
      ]
    },
    {
      "cell_type": "code",
      "source": [
        "X, y = make_regression(n_samples=30, n_features=1, noise=3)"
      ],
      "metadata": {
        "id": "Wicmshn3boKy"
      },
      "execution_count": null,
      "outputs": []
    },
    {
      "cell_type": "code",
      "source": [
        "X.shape"
      ],
      "metadata": {
        "colab": {
          "base_uri": "https://localhost:8080/"
        },
        "id": "9Uw9fWySgPj5",
        "outputId": "13e020c2-0cac-42cb-8c7e-c4e9ba6fbf00"
      },
      "execution_count": null,
      "outputs": [
        {
          "output_type": "execute_result",
          "data": {
            "text/plain": [
              "(30, 1)"
            ]
          },
          "metadata": {},
          "execution_count": 33
        }
      ]
    },
    {
      "cell_type": "code",
      "source": [
        "import matplotlib.pyplot as plt\n",
        "X, y = make_regression(n_samples=30, n_features=1, noise=15)\n",
        "\n",
        "plt.plot(X, y, 'bo')\n",
        "k, b = np.polyfit(X.flatten(), y, deg=1)\n",
        "plt.plot(X, k * X + b, 'r-')"
      ],
      "metadata": {
        "colab": {
          "base_uri": "https://localhost:8080/",
          "height": 283
        },
        "id": "zyWe7wiRb1Vw",
        "outputId": "2590d8d5-096c-4d6e-bc7b-029891b714e3"
      },
      "execution_count": null,
      "outputs": [
        {
          "output_type": "execute_result",
          "data": {
            "text/plain": [
              "[<matplotlib.lines.Line2D at 0x7f0e68fb1d60>]"
            ]
          },
          "metadata": {},
          "execution_count": 7
        },
        {
          "output_type": "display_data",
          "data": {
            "text/plain": [
              "<Figure size 432x288 with 1 Axes>"
            ],
            "image/png": "[encoded data removed]"
          },
          "metadata": {
            "needs_background": "light"
          }
        }
      ]
    },
    {
      "cell_type": "code",
      "source": [
        "X = np.linspace(-10, 10, 20)\n",
        "y = X ** 3 + 3 * X - 5"
      ],
      "metadata": {
        "id": "stWtfr3IgxIn"
      },
      "execution_count": null,
      "outputs": []
    },
    {
      "cell_type": "code",
      "source": [
        "plt.plot(X, y, 'bo')\n",
        "k, b = np.polyfit(X.flatten(), y, deg=1)\n",
        "plt.plot(X, k * X + b, 'r-')"
      ],
      "metadata": {
        "colab": {
          "base_uri": "https://localhost:8080/",
          "height": 282
        },
        "id": "E71PKTEyg7vp",
        "outputId": "9520bf6b-81d7-48fa-d041-bd168d16e8bd"
      },
      "execution_count": null,
      "outputs": [
        {
          "output_type": "execute_result",
          "data": {
            "text/plain": [
              "[<matplotlib.lines.Line2D at 0x7f6fae327820>]"
            ]
          },
          "metadata": {},
          "execution_count": 85
        },
        {
          "output_type": "display_data",
          "data": {
            "text/plain": [
              "<Figure size 432x288 with 1 Axes>"
            ],
            "image/png": "[encoded data removed]"
          },
          "metadata": {
            "needs_background": "light"
          }
        }
      ]
    },
    {
      "cell_type": "code",
      "source": [
        "from sklearn.linear_model import LinearRegression"
      ],
      "metadata": {
        "id": "hw960_vZhagn"
      },
      "execution_count": null,
      "outputs": []
    },
    {
      "cell_type": "code",
      "source": [
        "linreg = LinearRegression()\n",
        "linreg.fit(np.vstack((X, X ** 3)).T, y)"
      ],
      "metadata": {
        "colab": {
          "base_uri": "https://localhost:8080/"
        },
        "id": "QKTuEt9hiMgm",
        "outputId": "f50d23d3-8d27-4646-91e0-5feddfa294af"
      },
      "execution_count": null,
      "outputs": [
        {
          "output_type": "execute_result",
          "data": {
            "text/plain": [
              "LinearRegression()"
            ]
          },
          "metadata": {},
          "execution_count": 91
        }
      ]
    },
    {
      "cell_type": "code",
      "source": [
        "plt.plot(X, y, 'bo')\n",
        "plt.plot(X, linreg.coef_[0] * X + linreg.coef_[1] * X ** 3 + linreg.intercept_, 'r-')"
      ],
      "metadata": {
        "colab": {
          "base_uri": "https://localhost:8080/",
          "height": 282
        },
        "id": "R8TbjLjqi2RW",
        "outputId": "f83791c8-6675-422a-e9ff-837616a1003d"
      },
      "execution_count": null,
      "outputs": [
        {
          "output_type": "execute_result",
          "data": {
            "text/plain": [
              "[<matplotlib.lines.Line2D at 0x7f6fae1d34f0>]"
            ]
          },
          "metadata": {},
          "execution_count": 92
        },
        {
          "output_type": "display_data",
          "data": {
            "text/plain": [
              "<Figure size 432x288 with 1 Axes>"
            ],
            "image/png": "[encoded data removed]"
          },
          "metadata": {
            "needs_background": "light"
          }
        }
      ]
    },
    {
      "cell_type": "markdown",
      "source": [
        "$$ y = bias + w_1 * x_1 + w_2 * x_2 = bias + w_1 * x_1 + w_2 * {x_1}^2$$"
      ],
      "metadata": {
        "id": "gCYgmUjW6bkh"
      }
    },
    {
      "cell_type": "code",
      "source": [
        "linreg.coef_, linreg.intercept_"
      ],
      "metadata": {
        "colab": {
          "base_uri": "https://localhost:8080/"
        },
        "id": "Ove9q7Mt6WQu",
        "outputId": "bdf6213c-9057-464e-8298-cf4102af515f"
      },
      "execution_count": null,
      "outputs": [
        {
          "output_type": "execute_result",
          "data": {
            "text/plain": [
              "(array([3., 1.]), -4.999999999999999)"
            ]
          },
          "metadata": {},
          "execution_count": 94
        }
      ]
    },
    {
      "cell_type": "markdown",
      "source": [
        "**houses dataset**\n"
      ],
      "metadata": {
        "id": "UL9_d4T5eXvF"
      }
    },
    {
      "cell_type": "code",
      "source": [
        "!wget -O houses_train.csv https://raw.githubusercontent.com/tiwari91/Housing-Prices/master/train.csv\n",
        "!wget -O houses_test.csv https://raw.githubusercontent.com/tiwari91/Housing-Prices/master/test.csv"
      ],
      "metadata": {
        "colab": {
          "base_uri": "https://localhost:8080/"
        },
        "id": "u59YSXIzeb3P",
        "outputId": "3fa953b2-f116-4ddd-e3de-d02f9fd73819"
      },
      "execution_count": null,
      "outputs": [
        {
          "output_type": "stream",
          "name": "stdout",
          "text": [
            "--2023-01-19 16:47:45--  https://raw.githubusercontent.com/tiwari91/Housing-Prices/master/train.csv\n",
            "Resolving raw.githubusercontent.com (raw.githubusercontent.com)... 185.199.108.133, 185.199.109.133, 185.199.110.133, ...\n",
            "Connecting to raw.githubusercontent.com (raw.githubusercontent.com)|185.199.108.133|:443... connected.\n",
            "HTTP request sent, awaiting response... 200 OK\n",
            "Length: 460676 (450K) [text/plain]\n",
            "Saving to: ‘houses_train.csv’\n",
            "\n",
            "\rhouses_train.csv      0%[                    ]       0  --.-KB/s               \rhouses_train.csv    100%[===================>] 449.88K  --.-KB/s    in 0.006s  \n",
            "\n",
            "2023-01-19 16:47:45 (74.2 MB/s) - ‘houses_train.csv’ saved [460676/460676]\n",
            "\n",
            "--2023-01-19 16:47:45--  https://raw.githubusercontent.com/tiwari91/Housing-Prices/master/test.csv\n",
            "Resolving raw.githubusercontent.com (raw.githubusercontent.com)... 185.199.108.133, 185.199.109.133, 185.199.110.133, ...\n",
            "Connecting to raw.githubusercontent.com (raw.githubusercontent.com)|185.199.108.133|:443... connected.\n",
            "HTTP request sent, awaiting response... 200 OK\n",
            "Length: 451405 (441K) [text/plain]\n",
            "Saving to: ‘houses_test.csv’\n",
            "\n",
            "houses_test.csv     100%[===================>] 440.83K  --.-KB/s    in 0.006s  \n",
            "\n",
            "2023-01-19 16:47:45 (70.9 MB/s) - ‘houses_test.csv’ saved [451405/451405]\n",
            "\n"
          ]
        }
      ]
    },
    {
      "cell_type": "code",
      "source": [
        "import pandas as pd\n",
        "\n",
        "columns = ['1stFlrSF', 'TotalBsmtSF', 'GarageArea', 'GrLivArea', 'SalePrice']\n",
        "df = pd.read_csv('houses_train.csv').set_index('Id')[columns]"
      ],
      "metadata": {
        "id": "OT3edlSRegTK"
      },
      "execution_count": null,
      "outputs": []
    },
    {
      "cell_type": "code",
      "source": [
        "X = df.drop(columns=['SalePrice']).to_numpy()\n",
        "y = df['SalePrice'].to_numpy()"
      ],
      "metadata": {
        "id": "U02782Ak9WVz"
      },
      "execution_count": null,
      "outputs": []
    },
    {
      "cell_type": "code",
      "source": [
        "from sklearn.model_selection import train_test_split\n",
        "\n",
        "X_train, X_test, y_train, y_test = train_test_split(X, y, test_size=0.2, random_state=42)"
      ],
      "metadata": {
        "id": "0dG0lYR59yub"
      },
      "execution_count": null,
      "outputs": []
    },
    {
      "cell_type": "code",
      "source": [
        "linreg = LinearRegression()\n",
        "linreg.fit(X_train, y_train)"
      ],
      "metadata": {
        "colab": {
          "base_uri": "https://localhost:8080/"
        },
        "id": "QD0MgDMA9Yu9",
        "outputId": "0d537b6b-c637-4423-e617-e9d9bfdd2674"
      },
      "execution_count": null,
      "outputs": [
        {
          "output_type": "execute_result",
          "data": {
            "text/plain": [
              "LinearRegression()"
            ]
          },
          "metadata": {},
          "execution_count": 141
        }
      ]
    },
    {
      "cell_type": "code",
      "source": [
        "mean_squared_error(linreg.predict(X_train), y_train)"
      ],
      "metadata": {
        "colab": {
          "base_uri": "https://localhost:8080/"
        },
        "id": "5IzH6wubCQOB",
        "outputId": "17510153-89f0-4b9f-fdcb-6583192aafef"
      },
      "execution_count": null,
      "outputs": [
        {
          "output_type": "execute_result",
          "data": {
            "text/plain": [
              "2140672607.6538696"
            ]
          },
          "metadata": {},
          "execution_count": 169
        }
      ]
    },
    {
      "cell_type": "code",
      "source": [
        "linreg.coef_"
      ],
      "metadata": {
        "colab": {
          "base_uri": "https://localhost:8080/"
        },
        "id": "mwRYXBND_vHu",
        "outputId": "c49229a6-ea2a-4fe1-a4b4-76266fb89fe1"
      },
      "execution_count": null,
      "outputs": [
        {
          "output_type": "execute_result",
          "data": {
            "text/plain": [
              "array([ -8.85744163,  50.7605105 , 105.18039453,  66.65706195])"
            ]
          },
          "metadata": {},
          "execution_count": 150
        }
      ]
    },
    {
      "cell_type": "code",
      "source": [
        "y_pred = linreg.predict(X_test)"
      ],
      "metadata": {
        "id": "hxm7iv-t-dcJ"
      },
      "execution_count": null,
      "outputs": []
    },
    {
      "cell_type": "code",
      "source": [
        "from sklearn.metrics import mean_squared_error, mean_absolute_error\n",
        "mse_linreg = mean_squared_error(y_test, y_pred)\n",
        "mae_linreg = mean_absolute_error(y_test, y_pred)\n",
        "\n",
        "print(\"MSE: {}\\n MAE: {}\".format(mse_linreg, mae_linreg))"
      ],
      "metadata": {
        "colab": {
          "base_uri": "https://localhost:8080/"
        },
        "id": "iJ1MPST_-3P3",
        "outputId": "ef30029d-5bed-427f-b768-3296185087bb"
      },
      "execution_count": null,
      "outputs": [
        {
          "output_type": "stream",
          "name": "stdout",
          "text": [
            "MSE: 2125411092.7866356\n",
            " MAE: 28916.51268089065\n"
          ]
        }
      ]
    },
    {
      "cell_type": "code",
      "source": [
        "2140672607.6538696\n",
        "2125411092"
      ],
      "metadata": {
        "id": "0BM2T29FCaqa"
      },
      "execution_count": null,
      "outputs": []
    },
    {
      "cell_type": "code",
      "source": [
        "(np.ones_like(y_train) * y_train.mean()).shape"
      ],
      "metadata": {
        "colab": {
          "base_uri": "https://localhost:8080/"
        },
        "id": "fP81de-XAiKD",
        "outputId": "4c7d5a06-94ac-49a9-d3d9-07f4350a83a5"
      },
      "execution_count": null,
      "outputs": [
        {
          "output_type": "execute_result",
          "data": {
            "text/plain": [
              "(1168,)"
            ]
          },
          "metadata": {},
          "execution_count": 159
        }
      ]
    },
    {
      "cell_type": "code",
      "source": [
        "y_mean = np.ones_like(y_test) * y_train.mean()\n",
        "\n",
        "mse_mean = mean_squared_error(y_test, y_mean)\n",
        "mae_mean = mean_absolute_error(y_test, y_mean)\n",
        "\n",
        "print(\"MSE: {}\\n MAE: {}\".format(mse_mean, mae_mean))"
      ],
      "metadata": {
        "colab": {
          "base_uri": "https://localhost:8080/"
        },
        "id": "Gm7CH1YF-pUi",
        "outputId": "14703d28-680e-469e-c20f-1f4d5e0c0474"
      },
      "execution_count": null,
      "outputs": [
        {
          "output_type": "stream",
          "name": "stdout",
          "text": [
            "MSE: 7677095207.783831\n",
            " MAE: 62575.926451960964\n"
          ]
        }
      ]
    },
    {
      "cell_type": "code",
      "source": [
        "y_median = np.ones_like(y_test) * np.median(y_train)\n",
        "\n",
        "mse_median = mean_squared_error(y_test, y_median)\n",
        "mae_median = mean_absolute_error(y_test, y_median)\n",
        "\n",
        "print(\"MSE: {}\\n MAE: {}\".format(mse_median, mae_median))"
      ],
      "metadata": {
        "colab": {
          "base_uri": "https://localhost:8080/"
        },
        "id": "PvGJ0A5nANoV",
        "outputId": "f18807ad-b14d-434a-8ff8-be5a87d59f20"
      },
      "execution_count": null,
      "outputs": [
        {
          "output_type": "stream",
          "name": "stdout",
          "text": [
            "MSE: 7861866593.5239725\n",
            " MAE: 59568.25\n"
          ]
        }
      ]
    },
    {
      "cell_type": "code",
      "source": [
        "linreg.coef_"
      ],
      "metadata": {
        "colab": {
          "base_uri": "https://localhost:8080/"
        },
        "id": "Y5EPbU3W-M_F",
        "outputId": "09dbb331-208a-4a04-91c0-5476fa181c19"
      },
      "execution_count": null,
      "outputs": [
        {
          "output_type": "execute_result",
          "data": {
            "text/plain": [
              "array([ -8.85744163,  50.7605105 , 105.18039453,  66.65706195])"
            ]
          },
          "metadata": {},
          "execution_count": 143
        }
      ]
    },
    {
      "cell_type": "code",
      "source": [
        "len(df_train)"
      ],
      "metadata": {
        "colab": {
          "base_uri": "https://localhost:8080/"
        },
        "id": "Mfza3VsFeraZ",
        "outputId": "a157ce3f-0b5b-44fc-cee0-4cd07f5a6ed7"
      },
      "execution_count": null,
      "outputs": [
        {
          "output_type": "execute_result",
          "data": {
            "text/plain": [
              "1460"
            ]
          },
          "metadata": {},
          "execution_count": 108
        }
      ]
    },
    {
      "cell_type": "code",
      "source": [
        "len(df_test)"
      ],
      "metadata": {
        "colab": {
          "base_uri": "https://localhost:8080/"
        },
        "id": "ViIFX5NY7nkX",
        "outputId": "bb51093c-9e8d-409a-ced9-88095982d8bd"
      },
      "execution_count": null,
      "outputs": [
        {
          "output_type": "execute_result",
          "data": {
            "text/plain": [
              "1459"
            ]
          },
          "metadata": {},
          "execution_count": 109
        }
      ]
    }
  ]
}