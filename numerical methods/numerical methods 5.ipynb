# -*- coding: utf-8 -*-
"""
Created on Tue Nov  2 18:58:43 2021

@author: Kirill
"""

# -*- coding: utf-8 -*-
"""
Created on Fri Oct 29 21:19:17 2021

@author: Kirill
"""
import numpy as np
from numpy import linalg as LA
#Метод Гаусса
#заполнение матрици коэфициентами в соответствии с условием задачи 
print("Метод Гаусса")
A = []
x = [[]]
n = 100
a = b = 10
for k in range(n):
    A.append([])
    x[0].append(0) #первый вектор приближения беру везде 0
for j in range(n):
    i = 0
    while i <(j-1):
        A[j].append(0)
        i += 1
    if j > 0: 
        A[j].append(1)
    A[j].append(a)
    if j < n-2:
        A[j].append(1)
    if j < n-1:
        A[j].append(1/b)
    i += 4    
    while i < n:
        A[j].append(0) 
        i += 1
    if j == 0:
        A[j].append(0)
#     
def X(n,i):
    x.append([])
    u = 0
    xu = (u+1 - x[i-1][u+1] - x[i-1][u+2]/b)/a
    x[i].append(xu)
    u += 1
    while u < n-2:
        xu = (u+1 - x[i-1][u-1] - x[i-1][u+1] - x[i-1][u+2]/b)/a
        x[i].append(xu)
        u += 1
    xu = (u+1 - x[i-1][u-1] - x[i-1][u+1])/a
    x[i].append(xu)
    u += 1 
    xu = (u+1 - x[i-1][u-1])/a
    x[i].append(xu)
    return (x)

e=1
i = 1
E = 0.00000000000001
while e > E:
    X(n,i)
    delta = []
    for j in range(n):
        delta.append(abs(x[i][j] - x[i-1][j]))
    e = max(delta)
    i+=1   
print("Корни методом Гаусса") 
Korny_Gauss = x[len(x)-1]       
print(Korny_Gauss)
      

An = A
for i in range(n):
    for j in range(n):
        An[i][j] = An[i][j] * np.array(x[len(x)-1][j])    
w,v = LA.eig(An)
print("собственные числа")
#print(w) #собсвенные числа
print("max=",max(w)," min=",min(w))

#нахождение числа обусловленности
A = An
An = LA.norm(A)
A_inv = LA.inv(A)
A_inv_n = LA.norm(A_inv)
m = An / A_inv_n
print("Число обусловленности")
print(m) 


#Метод Якоби
print("Метод Якоби")
A = [[]]
B = []
n = 100
a = b = 10
for k in range(n):
    A[0].append([])
    B.append([])
    B[0].append(k+1)
for j in range(n):
    i = 0
    while i <(j-1):
        A[0][j].append(0)
        i += 1
    if j > 0: 
        A[0][j].append(1)
    A[0][j].append(a)
    if (j < n-1):
        A[0][j].append(1)
    if j < n-2:
        A[0][j].append(1/b)
    i += 4    
    while i < n:
        A[0][j].append(0) 
        i += 1
    if j == 0:
        A[0][j].append(0)
        
def a(i,j,k):
    ak = A[k-1][i][j] + A[k-1][k-1][j] * (-1) * (A[k-1][i][k-1]/A[k-1][k-1][k-1]) 
    return ak

def b(i,k):
    bk = B[k-1][i] + B[k-1][k-1] * (-1) * (A[k-1][i][k-1]/A[k-1][k-1][k-1])  
    return bk

for v in range(n-1):
    A.append(np.zeros((n,n)))
    for r in range(len(B[0])):
        B[v+1].append(0)

k = 1
while k <= n-1:
    i = 0
    while i < k:
        j = 0
        B[k][i] = B[k-1][i]
        while j < n:
            A[k][i][j] = A[k-1][i][j]
            j += 1
        i += 1    
    while i < n:
        j = k
        B[k][i] = b(i,k)
        while j < n:
            A[k][i][j] = a(i,j,k)    
            j += 1
        i += 1
    k += 1
    
A0 = A[0]

Ak = A[n-1]
Bk = B[n-1]        
A = np.zeros(n)
B = np.zeros(n) 
 
A[n-1] = Bk[n-1] / Ak[n-1][n-1] 
k = n-2
while k >= 0:
    j = k + 1 
    S = 0
    while j <= n-1:
        S = S + Ak[k][j] * A[k+1]
        j += 1
    A[k] = (Bk[k] - S)/Ak[k][k]    
    k -= 1 
print("Корни методом Гаусса")
Korny_Yakoby = A      
print(Korny_Yakoby)

An = A0
for i in range(n):
    for j in range(n):
        An[i][j] = An[i][j] * A[j]     
w,v = LA.eig(An)
print("собственные числа")
#print(w) #собсвенные числа
print("max=",max(w)," min=",min(w))

#нахождение числа обусловленности
A = An
An = LA.norm(A)
A_inv = LA.inv(A)
A_inv_n = LA.norm(A_inv)
m = An / A_inv_n
print("Число обусловленности")
print(m)

N = []
for i in range(n):
    N.append(Korny_Gauss[i] - Korny_Yakoby[i])

print("вектор невязки")    
print(N)  