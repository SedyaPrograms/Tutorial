# -*- coding: utf-8 -*-
"""
Created on Sat Nov 13 10:38:56 2021

Задание 6: вычислить интеграл от функции f(x)= sin(x) / ((1+x) * x^(1/2)) с пределами интегрирования [1, inf]

@author:Sedov Kirill 432 группа 
"""
import numpy as np
from math import fabs
"Задаем функцию"
def f(x):
    f = np.sin(x) / ((1+x) * x**(1/2))
    return (f)

"Создаем массив значений и добавляем первое значение интеграла, подставляя нижний предел"
Y = []
Y1 =[]
x = 1
Y.append(f(x))

"Интегрирование - это сумма, поэтому создаем шаг h и в первом цикле считаем сколько точек мы использовали n"
"Суммировать будет до тех пор пока новое приращение не слишеом маленькое"
def arr(x):
    Y.append(f(x))
    t = x
    global h
    h = 0.0005
    global n
    n = 0
    k = False
    while k == False:
        t += h
        Y.append(f(t))
        n += 1
        if fabs(Y[len(Y)-1] - Y[len(Y)-2]) < 0.000000001:
            k = True
    "считаем сумму ""столбиков"" значений и получаем занчение интеграла"         
    s = 0    
    for i in range(len(Y) - 1):
        s += Y[i]*h
    return (s)    
"проверяем корректность решения уеличениием точек"
def brr(x):  
    Y1.append(f(x))
    global n
    global h
    h *= n
    n *= 2
    h = h / n
    t = x
    k = 0
    while k < n:
        t += h
        Y1.append(f(t))
        k += 1
    "считаем сумму ""столбиков"" значений и получаем занчение интеграла"     
    s = 0    
    for i in range(len(Y1) - 1):
        s += Y1[i]*h
    return (s)

"Активируем по 1 разу наши функции, для создания мвссивов точек и сравниваем нормы, проверяя условие на погрешность"
A = arr(x)
B = brr(x)
E = 0.0001          
while (A-B) > E:
    Y = Y1
    Y1.append(f(x))
    A = B
    B = brr(x)    
print(A)