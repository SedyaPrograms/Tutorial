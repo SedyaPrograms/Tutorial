{
 "cells": [
  {
   "cell_type": "code",
   "execution_count": 3,
   "metadata": {
    "scrolled": true
   },
   "outputs": [
    {
     "data": {
      "text/plain": [
       "'\\n1. Загрузите  данные  из  csv-файла  (comma  separated  values,  разделитель  –  запятая)  с  именем,”$$_Имя_города.csv”,\\nгде $$ - номер Вашего варианта, в двумерный массив (или список).\\n2. Для любого заданного столбца данных (кроме первого) и любых 12-ти последовательных строчек из мас-сива постройте \\nинтерполяционный полином Лагранжа, выведите его график на сетке с шагомhпо осиX– 0,1 вместе с исходными точками. \\nЗначение ¾999.9¿ в массиве означает отсутствие достоверных данныхи должно быть исключено из анализа.\\n3. Для любого заданного столбца данных (кроме первого) и любых 6-ти последовательных строчек из массивавыполнить\\nинтерполяцию с помощью первойинтерполяционной формулы Ньютона (h= 0,1), построить график.\\n4. Для следующих 6-ти строчек из массива выполнить интерполяцию с помощью второй интерполяционной формулы Ньютона (h= 0,1),\\nпостроить график.\\n5. Для любого заданного столбца данных (кроме первого) и всех строчек массива, не содержащих недосто-верные значения, \\nвыполнить аппроксимацию степенным полиномом (степень полинома – до 5), построить график.\\n'"
      ]
     },
     "execution_count": 3,
     "metadata": {},
     "output_type": "execute_result"
    }
   ],
   "source": [
    "\"\"\"\n",
    "1. Загрузите  данные  из  csv-файла  (comma  separated  values,  разделитель  –  запятая)  с  именем,”$$_Имя_города.csv”,\n",
    "где $$ - номер Вашего варианта, в двумерный массив (или список).\n",
    "2. Для любого заданного столбца данных (кроме первого) и любых 12-ти последовательных строчек из мас-сива постройте \n",
    "интерполяционный полином Лагранжа, выведите его график на сетке с шагомhпо осиX– 0,1 вместе с исходными точками. \n",
    "Значение ¾999.9¿ в массиве означает отсутствие достоверных данныхи должно быть исключено из анализа.\n",
    "3. Для любого заданного столбца данных (кроме первого) и любых 6-ти последовательных строчек из массивавыполнить\n",
    "интерполяцию с помощью первойинтерполяционной формулы Ньютона (h= 0,1), построить график.\n",
    "4. Для следующих 6-ти строчек из массива выполнить интерполяцию с помощью второй интерполяционной формулы Ньютона (h= 0,1),\n",
    "построить график.\n",
    "5. Для любого заданного столбца данных (кроме первого) и всех строчек массива, не содержащих недосто-верные значения, \n",
    "выполнить аппроксимацию степенным полиномом (степень полинома – до 5), построить график.\n",
    "\"\"\""
   ]
  },
  {
   "cell_type": "code",
   "execution_count": 5,
   "metadata": {},
   "outputs": [
    {
     "data": {
      "text/plain": [
       "[<matplotlib.lines.Line2D at 0x23af8ef7490>]"
      ]
     },
     "execution_count": 5,
     "metadata": {},
     "output_type": "execute_result"
    },
    {
     "data": {
      "image/png": "[encoded data removed]",
      "text/plain": [
       "<Figure size 432x288 with 1 Axes>"
      ]
     },
     "metadata": {
      "needs_background": "light"
     },
     "output_type": "display_data"
    }
   ],
   "source": [
    "import matplotlib.pyplot as plt\n",
    "import pandas as pd\n",
    "\n",
    "def f(x):\n",
    "    f = 0\n",
    "    for i in range(len(Y)):\n",
    "        if Y[i] == 999.9:\n",
    "            continue\n",
    "        else:\n",
    "            f = f + Y[i] * L(x,i)\n",
    "    return (f)   \n",
    "\n",
    "def L(x,k):\n",
    "    check = ((x) - (X[k]))\n",
    "    if  check != 0:\n",
    "        L = W(x) / ((check) * WI(k))\n",
    "    else: L = 1\n",
    "    return(L)  \n",
    "\n",
    "def W(x):\n",
    "    W = 1\n",
    "    for i in range(len(X)):\n",
    "        W = W * (x - X[i])\n",
    "    return (W)    \n",
    "\n",
    "def WI(k):\n",
    "    W = 0\n",
    "    for j in range(len(X)):\n",
    "        p = 1\n",
    "        for i in range(len(X)):\n",
    "            if (i != j):\n",
    "                p = p * (X[k] - X[i]) \n",
    "        W = W + p    \n",
    "    return(W)        \n",
    "\n",
    "file = pd.read_excel(r'C:\\Users\\Kirill\\Desktop\\13_Петропавловск-Камчатский.xlsx')\n",
    "F = file['Год,янв,фев,мар,апр,май,июн,июл,авг,сен,окт,ноя,дек,средняя'].tolist()\n",
    "\n",
    "arr = []\n",
    "for i in range(len(F)):\n",
    "    arr.append(list(map(float, F[i].split(','))))   \n",
    "\n",
    "Y = []\n",
    "X = []\n",
    "for i in range(12):\n",
    "    Y.append(float(arr[i][1]))\n",
    "    X.append(int(arr[i][0]))\n",
    "\n",
    "x = min(X)\n",
    "b = max(X)\n",
    "h =0.1\n",
    "Years = []\n",
    "Temps = []\n",
    "while x <= b:\n",
    "    Temps.append(f(x))\n",
    "    Years.append(x)\n",
    "    x = x + h \n",
    "plt.grid(True)\n",
    "plt.plot(Years,Temps)"
   ]
  },
  {
   "cell_type": "code",
   "execution_count": null,
   "metadata": {},
   "outputs": [],
   "source": []
  },
  {
   "cell_type": "code",
   "execution_count": null,
   "metadata": {},
   "outputs": [],
   "source": []
  },
  {
   "cell_type": "code",
   "execution_count": 4,
   "metadata": {},
   "outputs": [
    {
     "data": {
      "text/plain": [
       "'\\nfor i in range(len(X)):\\n    print(X[i], P(X[i]),Y[i])  \\n'"
      ]
     },
     "execution_count": 4,
     "metadata": {},
     "output_type": "execute_result"
    },
    {
     "data": {
      "image/png": "[encoded data removed]",
      "text/plain": [
       "<Figure size 432x288 with 1 Axes>"
      ]
     },
     "metadata": {
      "needs_background": "light"
     },
     "output_type": "display_data"
    }
   ],
   "source": [
    "import matplotlib.pyplot as plt\n",
    "import pandas as pd\n",
    "import math\n",
    "\n",
    "def xi(x,n):\n",
    "    xi = 1\n",
    "    for i in range(n):\n",
    "        xi = xi * (x - X[i])\n",
    "    return(xi)\n",
    "    \n",
    "def a(i):\n",
    "    h = 1\n",
    "    ai = Y0[i] / (math.factorial(i) * (h**i))\n",
    "    return(ai)\n",
    "\n",
    "def P(x):\n",
    "    P = 0\n",
    "    i = 1\n",
    "    while i < (len(X)-1):\n",
    "        P = P + a(i)*xi(x,i)\n",
    "        i += 1\n",
    "    P += Y0[0]    \n",
    "    return(P)  \n",
    "\n",
    "file = pd.read_excel(r'C:\\Users\\Kirill\\Desktop\\13_Петропавловск-Камчатский.xlsx')\n",
    "F = file['Год,янв,фев,мар,апр,май,июн,июл,авг,сен,окт,ноя,дек,средняя'].tolist()\n",
    "\n",
    "arr = []\n",
    "for i in range(len(F)):\n",
    "    arr.append(list(map(float, F[i].split(','))))   \n",
    "\n",
    "Y = []\n",
    "X = []\n",
    "i = 65\n",
    "i1 = 70\n",
    "while i <= i1:\n",
    "    Y.append(float(arr[i][1]))\n",
    "    X.append(int(arr[i][0]))\n",
    "    i += 1\n",
    "\n",
    "Y1 = Y\n",
    "Y0 = []\n",
    "Y0.append(Y[0])\n",
    "for i in range(len(Y)-1):\n",
    "    Yn = []\n",
    "    for j in range(len(Y1)-1):\n",
    "        d = Y1[j+1] - Y1[j]\n",
    "        Yn.append(d)\n",
    "    Y0.append(Yn[0])\n",
    "    Y1 = Yn       \n",
    "        \n",
    "h = 0.1\n",
    "x = min(X)\n",
    "b = max(X)\n",
    "Years = []\n",
    "Temps = []\n",
    "while x <= b:\n",
    "    Temps.append(P(x))\n",
    "    Years.append(x)\n",
    "    x = x + h \n",
    "plt.grid(True)\n",
    "plt.plot(Years,Temps)\n",
    "\"\"\"\n",
    "for i in range(len(X)):\n",
    "    print(X[i], P(X[i]),Y[i])  \n",
    "\"\"\"         "
   ]
  },
  {
   "cell_type": "code",
   "execution_count": 3,
   "metadata": {},
   "outputs": [
    {
     "data": {
      "text/plain": [
       "'\\nfor i in range(len(X)):\\n    print(X[i], P(X[i]),Y[i])  \\n'"
      ]
     },
     "execution_count": 3,
     "metadata": {},
     "output_type": "execute_result"
    },
    {
     "data": {
      "image/png": "[encoded data removed]",
      "text/plain": [
       "<Figure size 432x288 with 1 Axes>"
      ]
     },
     "metadata": {
      "needs_background": "light"
     },
     "output_type": "display_data"
    }
   ],
   "source": [
    "import matplotlib.pyplot as plt\n",
    "import pandas as pd\n",
    "import math\n",
    "\n",
    "def xi(x,n):\n",
    "    xi = 1\n",
    "    k = len(X)-1\n",
    "    for i in range(n):\n",
    "        #print(\"x\",k-i,X[k-i])\n",
    "        xi = xi * (x - X[k-i])\n",
    "    return(xi)\n",
    "    \n",
    "def a(i):\n",
    "    h = 1\n",
    "    ai = Y0[i] / (math.factorial(i) * (h**i))\n",
    "    #print(math.factorial(i) * (h**i))\n",
    "    #print(\"a\",i,\"=\",ai)\n",
    "    return(ai)\n",
    "\n",
    "def P(x):\n",
    "    P = 0\n",
    "    i = 1\n",
    "    while i < (len(X)-1):\n",
    "        P = P + a(i)*xi(x,i)\n",
    "        i += 1\n",
    "    P += Y0[0]    \n",
    "    return(P)\n",
    "\n",
    "file = pd.read_excel(r'C:\\Users\\Kirill\\Desktop\\13_Петропавловск-Камчатский.xlsx')\n",
    "F = file['Год,янв,фев,мар,апр,май,июн,июл,авг,сен,окт,ноя,дек,средняя'].tolist()\n",
    "\n",
    "arr = []\n",
    "for i in range(len(F)):\n",
    "    arr.append(list(map(float, F[i].split(','))))   \n",
    "\n",
    "Y = []\n",
    "X = []\n",
    "i = 71\n",
    "i1 = 76\n",
    "while i <= i1:\n",
    "    Y.append(float(arr[i][1]))\n",
    "    X.append(int(arr[i][0]))\n",
    "    i += 1\n",
    "\n",
    "Y1 = Y\n",
    "Y0 = []\n",
    "Y0.append(Y[len(Y)-1])\n",
    "for i in range(len(Y)-1):\n",
    "    Yn = []\n",
    "    for j in range(len(Y1)-1):\n",
    "        d = Y1[j+1] - Y1[j]\n",
    "        Yn.append(d)  \n",
    "    Y0.append(Yn[len(Yn)-1])\n",
    "    Y1 = Yn    \n",
    "#print(Y0)       \n",
    "        \n",
    "h = 0.1\n",
    "x = min(X)\n",
    "b = max(X)\n",
    "Years = []\n",
    "Temps = []\n",
    "while x <= b:\n",
    "    Temps.append(P(x))\n",
    "    Years.append(x)\n",
    "    x = x + h \n",
    "plt.grid(True)\n",
    "plt.plot(Years,Temps)\n",
    "\n",
    "\"\"\"\n",
    "for i in range(len(X)):\n",
    "    print(X[i], P(X[i]),Y[i])  \n",
    "\"\"\" \n",
    "           "
   ]
  },
  {
   "cell_type": "code",
   "execution_count": 2,
   "metadata": {},
   "outputs": [
    {
     "data": {
      "text/plain": [
       "[<matplotlib.lines.Line2D at 0x23af8f407c0>]"
      ]
     },
     "execution_count": 2,
     "metadata": {},
     "output_type": "execute_result"
    },
    {
     "data": {
      "image/png": "[encoded data removed]",
      "text/plain": [
       "<Figure size 432x288 with 1 Axes>"
      ]
     },
     "metadata": {
      "needs_background": "light"
     },
     "output_type": "display_data"
    }
   ],
   "source": [
    "import matplotlib.pyplot as plt\n",
    "import pandas as pd\n",
    "import numpy as np\n",
    "from numpy import linalg as LA\n",
    "\n",
    "def f(x):\n",
    "    f = a0 + a1 * (x - I[2]) + a2 * (x - I[2]) ** 2\n",
    "    return f\n",
    "\n",
    "\n",
    "file = pd.read_excel(r'C:\\Users\\Kirill\\Desktop\\13_Петропавловск-Камчатский.xlsx')\n",
    "F = file['Год,янв,фев,мар,апр,май,июн,июл,авг,сен,окт,ноя,дек,средняя'].tolist()\n",
    "\n",
    "arr = []\n",
    "for i in range(len(F)):\n",
    "    arr.append(list(map(float, F[i].split(','))))   \n",
    "\n",
    "Y = []\n",
    "X = []\n",
    "i = 0\n",
    "while i < len(arr):\n",
    "    Y.append(float(arr[i][1]))\n",
    "    X.append(int(arr[i][0]))\n",
    "    i += 1\n",
    "\n",
    "I=[]\n",
    "i = 0\n",
    "while Y[i] == 999.9:\n",
    "    i+=1\n",
    "I.append(i)\n",
    "i = len(Y) - 1\n",
    "while Y[i] == 999.9:\n",
    "    i-=1\n",
    "I.append(i)\n",
    "i = int((I[1]-I[0])/3) \n",
    "j = 2*i   \n",
    "while Y[i] == 999.9:\n",
    "    i-=1\n",
    "I.append(i)\n",
    "while Y[j] == 999.9:\n",
    "    j+=1\n",
    "I.append(j)\n",
    "I = sorted(I)\n",
    "\n",
    "\n",
    "Y1 = []\n",
    "for i in range(len(I)):\n",
    "    Y1.append(Y[I[i]])    \n",
    "\n",
    "A = np.array([[1,I[0]-I[2],(I[0]-I[2])**2],\n",
    "              [1,I[1]-I[2],(I[1]-I[2])**2],\n",
    "              [1,I[3]-I[2],(I[3]-I[2])**2]])\n",
    "\n",
    "A0 = np.array([[Y1[0],I[0]-I[2],(I[0]-I[2])**2],\n",
    "               [Y1[1],I[1]-I[2],(I[1]-I[2])**2],\n",
    "               [Y1[3],I[3]-I[2],(I[3]-I[2])**2]])\n",
    "\n",
    "A1 = np.array([[1,Y1[0],(I[0]-I[2])**2],\n",
    "               [1,Y1[1],(I[1]-I[2])**2],\n",
    "               [1,Y1[3],(I[3]-I[2])**2]])\n",
    "\n",
    "A2 = np.array([[1,I[0]-I[2],Y1[0]],\n",
    "               [1,I[1]-I[2],Y1[1]],\n",
    "               [1,I[3]-I[2],Y1[3]]])\n",
    "\n",
    "A = LA.det(A)\n",
    "A0 = LA.det(A0)\n",
    "A1 = LA.det(A1)\n",
    "A2 = LA.det(A2)\n",
    "\n",
    "a0 = A0/A\n",
    "a1 = A1/A\n",
    "a2 = A2/A\n",
    "\n",
    "\n",
    "Temps = []\n",
    "Years = []\n",
    "for i in range(len(arr)-1):\n",
    "    if Y[i] != 999.9:\n",
    "        Temps.append(f(i))\n",
    "        Years.append(X[i])\n",
    "plt.grid(True)\n",
    "plt.plot(Years,Temps)  "
   ]
  },
  {
   "cell_type": "code",
   "execution_count": null,
   "metadata": {},
   "outputs": [],
   "source": []
  }
 ],
 "metadata": {
  "kernelspec": {
   "display_name": "Python 3 (ipykernel)",
   "language": "python",
   "name": "python3"
  },
  "language_info": {
   "codemirror_mode": {
    "name": "ipython",
    "version": 3
   },
   "file_extension": ".py",
   "mimetype": "text/x-python",
   "name": "python",
   "nbconvert_exporter": "python",
   "pygments_lexer": "ipython3",
   "version": "3.9.13"
  }
 },
 "nbformat": 4,
 "nbformat_minor": 4
}
